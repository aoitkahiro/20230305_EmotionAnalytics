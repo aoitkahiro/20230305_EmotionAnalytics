{
  "cells": [
    {
      "attachments": {},
      "cell_type": "markdown",
      "metadata": {
        "id": "YMjB3RhSYxBk"
      },
      "source": [
        "# <font color=\"#fad961\">━</font><font color=\"#f9c051\">━━</font><font color=\"#f8a23f\">━━━</font><font color=\"#f78d31\">━━━━━</font><font color=\"#f77d27\">━━━━━━</font><font color=\"#f76b1c\">━━━━━━━━</font>    \n",
        "# 1. 概要\n",
        "# <font color=\"#fad961\">━</font><font color=\"#f9c051\">━━</font><font color=\"#f8a23f\">━━━</font><font color=\"#f78d31\">━━━━━</font><font color=\"#f77d27\">━━━━━━</font><font color=\"#f76b1c\">━━━━━━━━</font>  \n",
        "\n",
        "\n",
        "\n",
        "\n"
      ]
    },
    {
      "attachments": {},
      "cell_type": "markdown",
      "metadata": {
        "id": "Zm7TJiTwvmbb"
      },
      "source": [
        "○このプロジェクトは何か？  \n",
        "1. Pythonを用いた感情分析プログラム\n",
        "1. 使用データ：Kaggleより40,000行のテキストデータをダウンロード\n",
        "1. 説明変数：英文のツイート / 目的変数：13種類の感情（正解としてラベリング済）\n",
        "1. ランダムフォレストによる感情認識モデル構築  \n",
        "1. 余力があれば他の予測モデル構築やデータハンドリングにより精度向上を図る\n",
        "\n",
        "\n",
        "■目的  \n",
        "1. データ分析スキル向上\n",
        "1. 現職におけるコールセンターの顧客音声の感情分析への足掛かり  \n",
        "\n",
        "■やること\n",
        "1. Qiitaへ分析・予測モデル構築結果まとめを投稿\n",
        "1. 予測精度の向上\n",
        "1. 予測精度の検証\n",
        "1. 2.⇔3.を繰り返しながら1. をブラッシュアップ\n",
        "\n",
        "■ゆくゆくやりたいこと\n",
        "1. transformerなど\n",
        "\n",
        "\n",
        "【別表】出現頻度 TOP30 のword（削除候補）  \n",
        "\n",
        "|順位|高頻度word|削除する？|理由|\n",
        "|:----|:----|:----|:----|\n",
        "|1|i|0|主語は重要？|\n",
        "|2|to|1|感情に関連の薄い前置詞|\n",
        "|3|the|1|感情に関連の薄い冠詞|\n",
        "|4|a|1|感情に関連の薄い冠詞|\n",
        "|5|my|1|感情に関連ありそうな前置詞|\n",
        "|6|you|0|主語は重要|\n",
        "|7|it|検討中| |\n",
        "|8|and|検討中| |\n",
        "|9|is|検討中| |\n",
        "|10|in|1|感情に関連の薄い前置詞|\n",
        "|11|s|1|一文字は削除|\n",
        "|12|for|検討中| |\n",
        "|13|t|1|一文字は削除|\n",
        "|14|of|0|感情に関連の薄い前置詞|\n",
        "|15|that|検討中| |\n",
        "|16|me|1|感情に関連ありそうな目的語|\n",
        "|17|on|0|感情に関連の薄い前置詞|\n",
        "|18|have|検討中| |\n",
        "|19|so|検討中| |\n",
        "|20|m|1|一文字は削除|\n",
        "|21|but|検討中| |\n",
        "|22|day|検討中| |\n",
        "|23|just|検討中| |\n",
        "|24|with|検討中| |\n",
        "|25|be|検討中| |\n",
        "|26|at|検討中| |\n",
        "|27|was|検討中| |\n",
        "|28|not|1|感情に関連ありそうな副詞|\n",
        "|29|all|1|感情に関連ありそうな副詞|\n",
        "|30|good|1|感情に関連ありそうな形容詞|\n",
        "| | |\n",
        "  \n",
        "\n",
        "\n",
        "■成果物の記事媒体について  \n",
        "・Note  \n",
        "1. 目次用の見出し\n",
        "1. コードブロック活用\n",
        "1. 文章\n",
        "1. シンプルで書きやすい\n",
        "\n",
        "・Qiita（こちらで作成中）  \n",
        "1. マークダウン\n",
        "1. カスタマイズ性が高い\n",
        "1. チートシートを参考にできる\n",
        "\n"
      ]
    },
    {
      "attachments": {},
      "cell_type": "markdown",
      "metadata": {
        "id": "CTbB0pKHCLxC"
      },
      "source": [
        "# <font color=\"#fdeb71\">━</font><font color=\"#fce862\">━━</font><font color=\"#fbe44a\">━━━</font><font color=\"#fae136\">━━━━━</font><font color=\"#f9dd1d\">━━━━━━</font><font color=\"#f8d800\">━━━━━━━━</font> \n",
        "# 2. データの準備  \n",
        "# <font color=\"#fdeb71\">━</font><font color=\"#fce862\">━━</font><font color=\"#fbe44a\">━━━</font><font color=\"#fae136\">━━━━━</font><font color=\"#f9dd1d\">━━━━━━</font><font color=\"#f8d800\">━━━━━━━━</font> \n",
        "\n"
      ]
    },
    {
      "cell_type": "code",
      "execution_count": 64,
      "metadata": {
        "colab": {
          "base_uri": "https://localhost:8080/"
        },
        "id": "Tm1lhxdHI2X1",
        "outputId": "98705994-1263-4e93-b6fa-756346aae4c5"
      },
      "outputs": [
        {
          "name": "stdout",
          "output_type": "stream",
          "text": [
            "--2023-03-05 09:42:05--  https://drive.google.com/uc?export=download&id=1-1JfQnvwyuO-UjiZQ78r6W15ZhK7gWBd\n",
            "Resolving drive.google.com (drive.google.com)... 74.125.137.139, 74.125.137.113, 74.125.137.102, ...\n",
            "Connecting to drive.google.com (drive.google.com)|74.125.137.139|:443... connected.\n",
            "HTTP request sent, awaiting response... 303 See Other\n",
            "Location: https://doc-04-40-docs.googleusercontent.com/docs/securesc/ha0ro937gcuc7l7deffksulhg5h7mbp1/sqan2rarfq53066pv5l9brt7c0u8ctn5/1678009275000/10961314361702132281/*/1-1JfQnvwyuO-UjiZQ78r6W15ZhK7gWBd?e=download&uuid=e0df5d9d-70e5-488e-9c36-f2416c141ddd [following]\n",
            "Warning: wildcards not supported in HTTP.\n",
            "--2023-03-05 09:42:05--  https://doc-04-40-docs.googleusercontent.com/docs/securesc/ha0ro937gcuc7l7deffksulhg5h7mbp1/sqan2rarfq53066pv5l9brt7c0u8ctn5/1678009275000/10961314361702132281/*/1-1JfQnvwyuO-UjiZQ78r6W15ZhK7gWBd?e=download&uuid=e0df5d9d-70e5-488e-9c36-f2416c141ddd\n",
            "Resolving doc-04-40-docs.googleusercontent.com (doc-04-40-docs.googleusercontent.com)... 142.250.141.132, 2607:f8b0:4023:c0b::84\n",
            "Connecting to doc-04-40-docs.googleusercontent.com (doc-04-40-docs.googleusercontent.com)|142.250.141.132|:443... connected.\n",
            "HTTP request sent, awaiting response... 200 OK\n",
            "Length: 3768217 (3.6M) [text/csv]\n",
            "Saving to: ‘tweet_emotions-UTF-8withBOM.csv’\n",
            "\n",
            "tweet_emotions-UTF- 100%[===================>]   3.59M  --.-KB/s    in 0.03s   \n",
            "\n",
            "2023-03-05 09:42:05 (141 MB/s) - ‘tweet_emotions-UTF-8withBOM.csv’ saved [3768217/3768217]\n",
            "\n"
          ]
        }
      ],
      "source": [
        "# 最初に一回実行して、必要なデータをダウンロード\n",
        "! wget \"https://drive.google.com/uc?export=download&id=1-1JfQnvwyuO-UjiZQ78r6W15ZhK7gWBd\"  -O tweet_emotions-UTF-8withBOM.csv"
      ]
    },
    {
      "cell_type": "code",
      "execution_count": 1,
      "metadata": {
        "colab": {
          "base_uri": "https://localhost:8080/"
        },
        "id": "-lJpE6rlgo-3",
        "outputId": "cd9be08f-1212-4ca4-8caa-a7dc0083c2de"
      },
      "outputs": [
        {
          "name": "stdout",
          "output_type": "stream",
          "text": [
            "Mounted at /content/drive\n"
          ]
        }
      ],
      "source": [
        "#@title 2.1.1 Google ColaboratoryからGoogleドライブへマウント（アクセス可能にする）\n",
        "from google.colab import drive\n",
        "drive.mount('/content/drive')\n",
        "# Google ColaboratoryはGoogleドライブへのアクセスが\n",
        "# Googleドライブへのマウントのコードを毎回、Google Colaboratoryを開くたびに実行する必要がある\n",
        "# 自分のドライブに関しては、毎回パスが通るようになる\n",
        "import time\n",
        "# このプログラムの実行時間を計測\n",
        "start_time = time.time()"
      ]
    },
    {
      "cell_type": "code",
      "execution_count": 65,
      "metadata": {
        "colab": {
          "base_uri": "https://localhost:8080/",
          "height": 423
        },
        "id": "P5LNWvbI8BJY",
        "outputId": "bb189feb-15ed-49c5-a412-0b8a5995c935"
      },
      "outputs": [
        {
          "data": {
            "text/html": [
              "\n",
              "  <div id=\"df-d21ab22d-906a-4939-bc7a-c3b1336e2c27\">\n",
              "    <div class=\"colab-df-container\">\n",
              "      <div>\n",
              "<style scoped>\n",
              "    .dataframe tbody tr th:only-of-type {\n",
              "        vertical-align: middle;\n",
              "    }\n",
              "\n",
              "    .dataframe tbody tr th {\n",
              "        vertical-align: top;\n",
              "    }\n",
              "\n",
              "    .dataframe thead th {\n",
              "        text-align: right;\n",
              "    }\n",
              "</style>\n",
              "<table border=\"1\" class=\"dataframe\">\n",
              "  <thead>\n",
              "    <tr style=\"text-align: right;\">\n",
              "      <th></th>\n",
              "      <th>tweet_id</th>\n",
              "      <th>sentiment</th>\n",
              "      <th>content</th>\n",
              "    </tr>\n",
              "  </thead>\n",
              "  <tbody>\n",
              "    <tr>\n",
              "      <th>0</th>\n",
              "      <td>1956967341</td>\n",
              "      <td>empty</td>\n",
              "      <td>@tiffanylue i know  i was listenin to bad habi...</td>\n",
              "    </tr>\n",
              "    <tr>\n",
              "      <th>1</th>\n",
              "      <td>1956967666</td>\n",
              "      <td>sadness</td>\n",
              "      <td>Layin n bed with a headache  ughhhh...waitin o...</td>\n",
              "    </tr>\n",
              "    <tr>\n",
              "      <th>2</th>\n",
              "      <td>1753745160</td>\n",
              "      <td>neutral</td>\n",
              "      <td>@jishanvn yï¿½n tï¿½m, sang n?m s? th?y ti?t m...</td>\n",
              "    </tr>\n",
              "    <tr>\n",
              "      <th>3</th>\n",
              "      <td>1956967696</td>\n",
              "      <td>sadness</td>\n",
              "      <td>Funeral ceremony...gloomy friday...</td>\n",
              "    </tr>\n",
              "    <tr>\n",
              "      <th>4</th>\n",
              "      <td>1956967789</td>\n",
              "      <td>enthusiasm</td>\n",
              "      <td>wants to hang out with friends SOON!</td>\n",
              "    </tr>\n",
              "    <tr>\n",
              "      <th>...</th>\n",
              "      <td>...</td>\n",
              "      <td>...</td>\n",
              "      <td>...</td>\n",
              "    </tr>\n",
              "    <tr>\n",
              "      <th>39995</th>\n",
              "      <td>1753918954</td>\n",
              "      <td>neutral</td>\n",
              "      <td>@JohnLloydTaylor</td>\n",
              "    </tr>\n",
              "    <tr>\n",
              "      <th>39996</th>\n",
              "      <td>1753919001</td>\n",
              "      <td>love</td>\n",
              "      <td>Happy Mothers Day  All my love</td>\n",
              "    </tr>\n",
              "    <tr>\n",
              "      <th>39997</th>\n",
              "      <td>1753919005</td>\n",
              "      <td>love</td>\n",
              "      <td>Happy Mother's Day to all the mommies out ther...</td>\n",
              "    </tr>\n",
              "    <tr>\n",
              "      <th>39998</th>\n",
              "      <td>1753919043</td>\n",
              "      <td>happiness</td>\n",
              "      <td>@niariley WASSUP BEAUTIFUL!!! FOLLOW ME!!  PEE...</td>\n",
              "    </tr>\n",
              "    <tr>\n",
              "      <th>39999</th>\n",
              "      <td>1753919049</td>\n",
              "      <td>love</td>\n",
              "      <td>@mopedronin bullet train from tokyo    the gf ...</td>\n",
              "    </tr>\n",
              "  </tbody>\n",
              "</table>\n",
              "<p>40000 rows × 3 columns</p>\n",
              "</div>\n",
              "      <button class=\"colab-df-convert\" onclick=\"convertToInteractive('df-d21ab22d-906a-4939-bc7a-c3b1336e2c27')\"\n",
              "              title=\"Convert this dataframe to an interactive table.\"\n",
              "              style=\"display:none;\">\n",
              "        \n",
              "  <svg xmlns=\"http://www.w3.org/2000/svg\" height=\"24px\"viewBox=\"0 0 24 24\"\n",
              "       width=\"24px\">\n",
              "    <path d=\"M0 0h24v24H0V0z\" fill=\"none\"/>\n",
              "    <path d=\"M18.56 5.44l.94 2.06.94-2.06 2.06-.94-2.06-.94-.94-2.06-.94 2.06-2.06.94zm-11 1L8.5 8.5l.94-2.06 2.06-.94-2.06-.94L8.5 2.5l-.94 2.06-2.06.94zm10 10l.94 2.06.94-2.06 2.06-.94-2.06-.94-.94-2.06-.94 2.06-2.06.94z\"/><path d=\"M17.41 7.96l-1.37-1.37c-.4-.4-.92-.59-1.43-.59-.52 0-1.04.2-1.43.59L10.3 9.45l-7.72 7.72c-.78.78-.78 2.05 0 2.83L4 21.41c.39.39.9.59 1.41.59.51 0 1.02-.2 1.41-.59l7.78-7.78 2.81-2.81c.8-.78.8-2.07 0-2.86zM5.41 20L4 18.59l7.72-7.72 1.47 1.35L5.41 20z\"/>\n",
              "  </svg>\n",
              "      </button>\n",
              "      \n",
              "  <style>\n",
              "    .colab-df-container {\n",
              "      display:flex;\n",
              "      flex-wrap:wrap;\n",
              "      gap: 12px;\n",
              "    }\n",
              "\n",
              "    .colab-df-convert {\n",
              "      background-color: #E8F0FE;\n",
              "      border: none;\n",
              "      border-radius: 50%;\n",
              "      cursor: pointer;\n",
              "      display: none;\n",
              "      fill: #1967D2;\n",
              "      height: 32px;\n",
              "      padding: 0 0 0 0;\n",
              "      width: 32px;\n",
              "    }\n",
              "\n",
              "    .colab-df-convert:hover {\n",
              "      background-color: #E2EBFA;\n",
              "      box-shadow: 0px 1px 2px rgba(60, 64, 67, 0.3), 0px 1px 3px 1px rgba(60, 64, 67, 0.15);\n",
              "      fill: #174EA6;\n",
              "    }\n",
              "\n",
              "    [theme=dark] .colab-df-convert {\n",
              "      background-color: #3B4455;\n",
              "      fill: #D2E3FC;\n",
              "    }\n",
              "\n",
              "    [theme=dark] .colab-df-convert:hover {\n",
              "      background-color: #434B5C;\n",
              "      box-shadow: 0px 1px 3px 1px rgba(0, 0, 0, 0.15);\n",
              "      filter: drop-shadow(0px 1px 2px rgba(0, 0, 0, 0.3));\n",
              "      fill: #FFFFFF;\n",
              "    }\n",
              "  </style>\n",
              "\n",
              "      <script>\n",
              "        const buttonEl =\n",
              "          document.querySelector('#df-d21ab22d-906a-4939-bc7a-c3b1336e2c27 button.colab-df-convert');\n",
              "        buttonEl.style.display =\n",
              "          google.colab.kernel.accessAllowed ? 'block' : 'none';\n",
              "\n",
              "        async function convertToInteractive(key) {\n",
              "          const element = document.querySelector('#df-d21ab22d-906a-4939-bc7a-c3b1336e2c27');\n",
              "          const dataTable =\n",
              "            await google.colab.kernel.invokeFunction('convertToInteractive',\n",
              "                                                     [key], {});\n",
              "          if (!dataTable) return;\n",
              "\n",
              "          const docLinkHtml = 'Like what you see? Visit the ' +\n",
              "            '<a target=\"_blank\" href=https://colab.research.google.com/notebooks/data_table.ipynb>data table notebook</a>'\n",
              "            + ' to learn more about interactive tables.';\n",
              "          element.innerHTML = '';\n",
              "          dataTable['output_type'] = 'display_data';\n",
              "          await google.colab.output.renderOutput(dataTable, element);\n",
              "          const docLink = document.createElement('div');\n",
              "          docLink.innerHTML = docLinkHtml;\n",
              "          element.appendChild(docLink);\n",
              "        }\n",
              "      </script>\n",
              "    </div>\n",
              "  </div>\n",
              "  "
            ],
            "text/plain": [
              "         tweet_id   sentiment  \\\n",
              "0      1956967341       empty   \n",
              "1      1956967666     sadness   \n",
              "2      1753745160     neutral   \n",
              "3      1956967696     sadness   \n",
              "4      1956967789  enthusiasm   \n",
              "...           ...         ...   \n",
              "39995  1753918954     neutral   \n",
              "39996  1753919001        love   \n",
              "39997  1753919005        love   \n",
              "39998  1753919043   happiness   \n",
              "39999  1753919049        love   \n",
              "\n",
              "                                                 content  \n",
              "0      @tiffanylue i know  i was listenin to bad habi...  \n",
              "1      Layin n bed with a headache  ughhhh...waitin o...  \n",
              "2      @jishanvn yï¿½n tï¿½m, sang n?m s? th?y ti?t m...  \n",
              "3                    Funeral ceremony...gloomy friday...  \n",
              "4                   wants to hang out with friends SOON!  \n",
              "...                                                  ...  \n",
              "39995                                   @JohnLloydTaylor  \n",
              "39996                     Happy Mothers Day  All my love  \n",
              "39997  Happy Mother's Day to all the mommies out ther...  \n",
              "39998  @niariley WASSUP BEAUTIFUL!!! FOLLOW ME!!  PEE...  \n",
              "39999  @mopedronin bullet train from tokyo    the gf ...  \n",
              "\n",
              "[40000 rows x 3 columns]"
            ]
          },
          "execution_count": 65,
          "metadata": {},
          "output_type": "execute_result"
        }
      ],
      "source": [
        "#@title 2.1.2 データを保存して確認\n",
        "import pandas as pd\n",
        "delete_quot = True\n",
        "if delete_quot:\n",
        "  # Tweet = pd.read_csv('/content/drive/MyDrive/Data for Colab Notebooks/tweet_emotions-UTF-8withBOM.csv')\n",
        "  Tweet = pd.read_csv('/content/tweet_emotions-UTF-8withBOM.csv')\n",
        "else:\n",
        "  Tweet = pd.read_csv('/content/drive/MyDrive/Data for Colab Notebooks/tweet_emotions_tweets_and_sentiments.csv', encoding='cp932')\n",
        "Tweet"
      ]
    },
    {
      "cell_type": "code",
      "execution_count": 3,
      "metadata": {
        "id": "emE80SiJUvHC"
      },
      "outputs": [],
      "source": [
        "#@title 2.1.3 使わない列`tweet_id`を削除し、1.`content`（ツイート）2.`sentiment`（感情）の順に並べ替える\n",
        "if delete_quot:\n",
        "  Tweet.drop('tweet_id', axis=1, inplace=True)\n",
        "  Tweet = Tweet[['content', 'sentiment']]\n",
        "  Tweet.head(3)"
      ]
    },
    {
      "cell_type": "code",
      "execution_count": 4,
      "metadata": {
        "colab": {
          "base_uri": "https://localhost:8080/",
          "height": 423
        },
        "id": "POC-c1iPoMZi",
        "outputId": "41216696-4fde-4426-fc9e-daa9472bb6bd"
      },
      "outputs": [
        {
          "data": {
            "text/html": [
              "\n",
              "  <div id=\"df-be042b83-7c34-44e4-ad2a-90bc756d3714\">\n",
              "    <div class=\"colab-df-container\">\n",
              "      <div>\n",
              "<style scoped>\n",
              "    .dataframe tbody tr th:only-of-type {\n",
              "        vertical-align: middle;\n",
              "    }\n",
              "\n",
              "    .dataframe tbody tr th {\n",
              "        vertical-align: top;\n",
              "    }\n",
              "\n",
              "    .dataframe thead th {\n",
              "        text-align: right;\n",
              "    }\n",
              "</style>\n",
              "<table border=\"1\" class=\"dataframe\">\n",
              "  <thead>\n",
              "    <tr style=\"text-align: right;\">\n",
              "      <th></th>\n",
              "      <th>content</th>\n",
              "      <th>sentiment</th>\n",
              "    </tr>\n",
              "  </thead>\n",
              "  <tbody>\n",
              "    <tr>\n",
              "      <th>1</th>\n",
              "      <td>Layin n bed with a headache  ughhhh...waitin o...</td>\n",
              "      <td>sadness</td>\n",
              "    </tr>\n",
              "    <tr>\n",
              "      <th>3</th>\n",
              "      <td>Funeral ceremony...gloomy friday...</td>\n",
              "      <td>sadness</td>\n",
              "    </tr>\n",
              "    <tr>\n",
              "      <th>7</th>\n",
              "      <td>I should be sleep, but im not! thinking about ...</td>\n",
              "      <td>sadness</td>\n",
              "    </tr>\n",
              "    <tr>\n",
              "      <th>9</th>\n",
              "      <td>@charviray Charlene my love. I miss you</td>\n",
              "      <td>sadness</td>\n",
              "    </tr>\n",
              "    <tr>\n",
              "      <th>10</th>\n",
              "      <td>@kelcouch I'm sorry  at least it's Friday?</td>\n",
              "      <td>sadness</td>\n",
              "    </tr>\n",
              "    <tr>\n",
              "      <th>...</th>\n",
              "      <td>...</td>\n",
              "      <td>...</td>\n",
              "    </tr>\n",
              "    <tr>\n",
              "      <th>39994</th>\n",
              "      <td>Succesfully following Tayla!!</td>\n",
              "      <td>happiness</td>\n",
              "    </tr>\n",
              "    <tr>\n",
              "      <th>39996</th>\n",
              "      <td>Happy Mothers Day  All my love</td>\n",
              "      <td>love</td>\n",
              "    </tr>\n",
              "    <tr>\n",
              "      <th>39997</th>\n",
              "      <td>Happy Mother's Day to all the mommies out ther...</td>\n",
              "      <td>love</td>\n",
              "    </tr>\n",
              "    <tr>\n",
              "      <th>39998</th>\n",
              "      <td>@niariley WASSUP BEAUTIFUL!!! FOLLOW ME!!  PEE...</td>\n",
              "      <td>happiness</td>\n",
              "    </tr>\n",
              "    <tr>\n",
              "      <th>39999</th>\n",
              "      <td>@mopedronin bullet train from tokyo    the gf ...</td>\n",
              "      <td>love</td>\n",
              "    </tr>\n",
              "  </tbody>\n",
              "</table>\n",
              "<p>21138 rows × 2 columns</p>\n",
              "</div>\n",
              "      <button class=\"colab-df-convert\" onclick=\"convertToInteractive('df-be042b83-7c34-44e4-ad2a-90bc756d3714')\"\n",
              "              title=\"Convert this dataframe to an interactive table.\"\n",
              "              style=\"display:none;\">\n",
              "        \n",
              "  <svg xmlns=\"http://www.w3.org/2000/svg\" height=\"24px\"viewBox=\"0 0 24 24\"\n",
              "       width=\"24px\">\n",
              "    <path d=\"M0 0h24v24H0V0z\" fill=\"none\"/>\n",
              "    <path d=\"M18.56 5.44l.94 2.06.94-2.06 2.06-.94-2.06-.94-.94-2.06-.94 2.06-2.06.94zm-11 1L8.5 8.5l.94-2.06 2.06-.94-2.06-.94L8.5 2.5l-.94 2.06-2.06.94zm10 10l.94 2.06.94-2.06 2.06-.94-2.06-.94-.94-2.06-.94 2.06-2.06.94z\"/><path d=\"M17.41 7.96l-1.37-1.37c-.4-.4-.92-.59-1.43-.59-.52 0-1.04.2-1.43.59L10.3 9.45l-7.72 7.72c-.78.78-.78 2.05 0 2.83L4 21.41c.39.39.9.59 1.41.59.51 0 1.02-.2 1.41-.59l7.78-7.78 2.81-2.81c.8-.78.8-2.07 0-2.86zM5.41 20L4 18.59l7.72-7.72 1.47 1.35L5.41 20z\"/>\n",
              "  </svg>\n",
              "      </button>\n",
              "      \n",
              "  <style>\n",
              "    .colab-df-container {\n",
              "      display:flex;\n",
              "      flex-wrap:wrap;\n",
              "      gap: 12px;\n",
              "    }\n",
              "\n",
              "    .colab-df-convert {\n",
              "      background-color: #E8F0FE;\n",
              "      border: none;\n",
              "      border-radius: 50%;\n",
              "      cursor: pointer;\n",
              "      display: none;\n",
              "      fill: #1967D2;\n",
              "      height: 32px;\n",
              "      padding: 0 0 0 0;\n",
              "      width: 32px;\n",
              "    }\n",
              "\n",
              "    .colab-df-convert:hover {\n",
              "      background-color: #E2EBFA;\n",
              "      box-shadow: 0px 1px 2px rgba(60, 64, 67, 0.3), 0px 1px 3px 1px rgba(60, 64, 67, 0.15);\n",
              "      fill: #174EA6;\n",
              "    }\n",
              "\n",
              "    [theme=dark] .colab-df-convert {\n",
              "      background-color: #3B4455;\n",
              "      fill: #D2E3FC;\n",
              "    }\n",
              "\n",
              "    [theme=dark] .colab-df-convert:hover {\n",
              "      background-color: #434B5C;\n",
              "      box-shadow: 0px 1px 3px 1px rgba(0, 0, 0, 0.15);\n",
              "      filter: drop-shadow(0px 1px 2px rgba(0, 0, 0, 0.3));\n",
              "      fill: #FFFFFF;\n",
              "    }\n",
              "  </style>\n",
              "\n",
              "      <script>\n",
              "        const buttonEl =\n",
              "          document.querySelector('#df-be042b83-7c34-44e4-ad2a-90bc756d3714 button.colab-df-convert');\n",
              "        buttonEl.style.display =\n",
              "          google.colab.kernel.accessAllowed ? 'block' : 'none';\n",
              "\n",
              "        async function convertToInteractive(key) {\n",
              "          const element = document.querySelector('#df-be042b83-7c34-44e4-ad2a-90bc756d3714');\n",
              "          const dataTable =\n",
              "            await google.colab.kernel.invokeFunction('convertToInteractive',\n",
              "                                                     [key], {});\n",
              "          if (!dataTable) return;\n",
              "\n",
              "          const docLinkHtml = 'Like what you see? Visit the ' +\n",
              "            '<a target=\"_blank\" href=https://colab.research.google.com/notebooks/data_table.ipynb>data table notebook</a>'\n",
              "            + ' to learn more about interactive tables.';\n",
              "          element.innerHTML = '';\n",
              "          dataTable['output_type'] = 'display_data';\n",
              "          await google.colab.output.renderOutput(dataTable, element);\n",
              "          const docLink = document.createElement('div');\n",
              "          docLink.innerHTML = docLinkHtml;\n",
              "          element.appendChild(docLink);\n",
              "        }\n",
              "      </script>\n",
              "    </div>\n",
              "  </div>\n",
              "  "
            ],
            "text/plain": [
              "                                                 content  sentiment\n",
              "1      Layin n bed with a headache  ughhhh...waitin o...    sadness\n",
              "3                    Funeral ceremony...gloomy friday...    sadness\n",
              "7      I should be sleep, but im not! thinking about ...    sadness\n",
              "9                @charviray Charlene my love. I miss you    sadness\n",
              "10            @kelcouch I'm sorry  at least it's Friday?    sadness\n",
              "...                                                  ...        ...\n",
              "39994                      Succesfully following Tayla!!  happiness\n",
              "39996                     Happy Mothers Day  All my love       love\n",
              "39997  Happy Mother's Day to all the mommies out ther...       love\n",
              "39998  @niariley WASSUP BEAUTIFUL!!! FOLLOW ME!!  PEE...  happiness\n",
              "39999  @mopedronin bullet train from tokyo    the gf ...       love\n",
              "\n",
              "[21138 rows x 2 columns]"
            ]
          },
          "execution_count": 4,
          "metadata": {},
          "output_type": "execute_result"
        }
      ],
      "source": [
        "#@title 2.1.4.1 目的変数修正\n",
        "# 精度向上のため、目的変数の数を削減\n",
        "# 削除したいクラスを書いて~を書くか、あるいは残したいクラスを書く\n",
        "drop_class = [\"neutral\",\"worry\", 'empty', 'boredom', 'enthusiasm']\n",
        "# 削除項目を~で指定して、削除以外をすべて取り出す\n",
        "drop_Tweet = Tweet[~Tweet[\"sentiment\"].isin(drop_class)]\n",
        "drop_Tweet"
      ]
    },
    {
      "cell_type": "code",
      "execution_count": 5,
      "metadata": {
        "id": "uiNkJPsFpApK"
      },
      "outputs": [],
      "source": [
        "#@title 目的変数の削除をdfに適用\n",
        "Tweet = drop_Tweet"
      ]
    },
    {
      "cell_type": "code",
      "execution_count": 6,
      "metadata": {
        "colab": {
          "base_uri": "https://localhost:8080/"
        },
        "id": "nWT7ItNBo279",
        "outputId": "b8842c49-8ee6-42f7-aa99-f3d023bb2a27"
      },
      "outputs": [
        {
          "data": {
            "text/plain": [
              "1        True\n",
              "3        True\n",
              "7        True\n",
              "9        True\n",
              "10       True\n",
              "         ... \n",
              "39994    True\n",
              "39996    True\n",
              "39997    True\n",
              "39998    True\n",
              "39999    True\n",
              "Name: sentiment, Length: 21138, dtype: bool"
            ]
          },
          "execution_count": 6,
          "metadata": {},
          "output_type": "execute_result"
        }
      ],
      "source": [
        "#@title 参考\n",
        "# neutralの場所がTrueになる ~を付けると反対にfalseになる\n",
        "~Tweet[\"sentiment\"].isin(drop_class)"
      ]
    },
    {
      "cell_type": "code",
      "execution_count": 7,
      "metadata": {
        "colab": {
          "base_uri": "https://localhost:8080/"
        },
        "id": "jghQlnippJ1S",
        "outputId": "dfb7ed62-2cce-40a1-b67f-41ee4eaeb6f7"
      },
      "outputs": [
        {
          "data": {
            "text/plain": [
              "array(['sadness', 'surprise', 'love', 'fun', 'hate', 'happiness',\n",
              "       'relief', 'anger'], dtype=object)"
            ]
          },
          "execution_count": 7,
          "metadata": {},
          "output_type": "execute_result"
        }
      ],
      "source": [
        "#@title 次で使うw0rdsを調整するテスト\n",
        "words = Tweet['sentiment'].unique()\n",
        "words"
      ]
    },
    {
      "cell_type": "code",
      "execution_count": 8,
      "metadata": {
        "colab": {
          "base_uri": "https://localhost:8080/",
          "height": 477
        },
        "id": "gLBybNelL3fb",
        "outputId": "a9d31d60-4970-440e-a45e-d43075e5537f"
      },
      "outputs": [
        {
          "name": "stderr",
          "output_type": "stream",
          "text": [
            "<ipython-input-8-ebd80d2450b4>:21: UserWarning: FixedFormatter should only be used together with FixedLocator\n",
            "  ax.set_xticklabels(word_counts.index, rotation=45, ha='right', fontsize=16)\n"
          ]
        },
        {
          "data": {
            "image/png": "[encoded data removed]",
            "text/plain": [
              "<Figure size 720x432 with 1 Axes>"
            ]
          },
          "metadata": {
            "needs_background": "light"
          },
          "output_type": "display_data"
        }
      ],
      "source": [
        "#@title 2.1.4.3 目的変数である`sentiment`（感情）の割合を確認\n",
        "import matplotlib.pyplot as plt\n",
        "\n",
        "# 単語の出現回数をカウント\n",
        "words = Tweet['sentiment'].unique()\n",
        "# words = ['worry', 'surprise', 'sadness', 'empty', 'neutral', 'happiness',\n",
        "#          'fun', 'love', 'relief', 'hate', 'boredom', 'enthusiasm', 'anger']\n",
        "word_counts = pd.DataFrame(index=words, columns=['count'])\n",
        "for word in words:\n",
        "    word_counts.loc[word, 'count'] = Tweet.iloc[:, 1].str.count(word).sum()\n",
        "\n",
        "# カウント数で多い順にソート\n",
        "word_counts = word_counts.sort_values('count', ascending=False)\n",
        "\n",
        "# グラフを描画\n",
        "fig, ax = plt.subplots(figsize=(10, 6))\n",
        "\n",
        "# 棒グラフ\n",
        "colors = ['green', 'green', 'green', 'yellowgreen', 'yellowgreen', 'orange', 'orange', 'orange', 'deepskyblue', 'red', 'aqua', 'yellow', 'blue']\n",
        "ax.bar(word_counts.index, word_counts['count'], color=colors)\n",
        "ax.set_xticklabels(word_counts.index, rotation=45, ha='right', fontsize=16)\n",
        "ax.set_title('Word Counts', fontsize=20)\n",
        "ax.set_xlabel('Words', fontsize=18)\n",
        "ax.set_ylabel('Count', fontsize=18)\n",
        "for i, v in enumerate(word_counts['count']):\n",
        "    ax.text(i, v+5, str(v) + '\\n' + str(round(v / word_counts['count'].sum() * 100, 2)) + '%', ha='center', fontsize=12)\n",
        "\n",
        "plt.tight_layout()\n",
        "plt.show()"
      ]
    },
    {
      "cell_type": "code",
      "execution_count": 9,
      "metadata": {
        "colab": {
          "base_uri": "https://localhost:8080/",
          "height": 318
        },
        "id": "3ha92_1lbVB0",
        "outputId": "2248e660-2ccb-4a20-dbc4-a1a61d1144d7"
      },
      "outputs": [
        {
          "name": "stdout",
          "output_type": "stream",
          "text": [
            "<class 'pandas.core.frame.DataFrame'>\n"
          ]
        },
        {
          "data": {
            "text/html": [
              "\n",
              "  <div id=\"df-9c2d147b-9b77-49fd-b3ca-697585cfe949\">\n",
              "    <div class=\"colab-df-container\">\n",
              "      <div>\n",
              "<style scoped>\n",
              "    .dataframe tbody tr th:only-of-type {\n",
              "        vertical-align: middle;\n",
              "    }\n",
              "\n",
              "    .dataframe tbody tr th {\n",
              "        vertical-align: top;\n",
              "    }\n",
              "\n",
              "    .dataframe thead th {\n",
              "        text-align: right;\n",
              "    }\n",
              "</style>\n",
              "<table border=\"1\" class=\"dataframe\">\n",
              "  <thead>\n",
              "    <tr style=\"text-align: right;\">\n",
              "      <th></th>\n",
              "      <th>count</th>\n",
              "    </tr>\n",
              "  </thead>\n",
              "  <tbody>\n",
              "    <tr>\n",
              "      <th>happiness</th>\n",
              "      <td>5209</td>\n",
              "    </tr>\n",
              "    <tr>\n",
              "      <th>sadness</th>\n",
              "      <td>5165</td>\n",
              "    </tr>\n",
              "    <tr>\n",
              "      <th>love</th>\n",
              "      <td>3842</td>\n",
              "    </tr>\n",
              "    <tr>\n",
              "      <th>surprise</th>\n",
              "      <td>2187</td>\n",
              "    </tr>\n",
              "    <tr>\n",
              "      <th>fun</th>\n",
              "      <td>1776</td>\n",
              "    </tr>\n",
              "    <tr>\n",
              "      <th>relief</th>\n",
              "      <td>1526</td>\n",
              "    </tr>\n",
              "    <tr>\n",
              "      <th>hate</th>\n",
              "      <td>1323</td>\n",
              "    </tr>\n",
              "    <tr>\n",
              "      <th>anger</th>\n",
              "      <td>110</td>\n",
              "    </tr>\n",
              "  </tbody>\n",
              "</table>\n",
              "</div>\n",
              "      <button class=\"colab-df-convert\" onclick=\"convertToInteractive('df-9c2d147b-9b77-49fd-b3ca-697585cfe949')\"\n",
              "              title=\"Convert this dataframe to an interactive table.\"\n",
              "              style=\"display:none;\">\n",
              "        \n",
              "  <svg xmlns=\"http://www.w3.org/2000/svg\" height=\"24px\"viewBox=\"0 0 24 24\"\n",
              "       width=\"24px\">\n",
              "    <path d=\"M0 0h24v24H0V0z\" fill=\"none\"/>\n",
              "    <path d=\"M18.56 5.44l.94 2.06.94-2.06 2.06-.94-2.06-.94-.94-2.06-.94 2.06-2.06.94zm-11 1L8.5 8.5l.94-2.06 2.06-.94-2.06-.94L8.5 2.5l-.94 2.06-2.06.94zm10 10l.94 2.06.94-2.06 2.06-.94-2.06-.94-.94-2.06-.94 2.06-2.06.94z\"/><path d=\"M17.41 7.96l-1.37-1.37c-.4-.4-.92-.59-1.43-.59-.52 0-1.04.2-1.43.59L10.3 9.45l-7.72 7.72c-.78.78-.78 2.05 0 2.83L4 21.41c.39.39.9.59 1.41.59.51 0 1.02-.2 1.41-.59l7.78-7.78 2.81-2.81c.8-.78.8-2.07 0-2.86zM5.41 20L4 18.59l7.72-7.72 1.47 1.35L5.41 20z\"/>\n",
              "  </svg>\n",
              "      </button>\n",
              "      \n",
              "  <style>\n",
              "    .colab-df-container {\n",
              "      display:flex;\n",
              "      flex-wrap:wrap;\n",
              "      gap: 12px;\n",
              "    }\n",
              "\n",
              "    .colab-df-convert {\n",
              "      background-color: #E8F0FE;\n",
              "      border: none;\n",
              "      border-radius: 50%;\n",
              "      cursor: pointer;\n",
              "      display: none;\n",
              "      fill: #1967D2;\n",
              "      height: 32px;\n",
              "      padding: 0 0 0 0;\n",
              "      width: 32px;\n",
              "    }\n",
              "\n",
              "    .colab-df-convert:hover {\n",
              "      background-color: #E2EBFA;\n",
              "      box-shadow: 0px 1px 2px rgba(60, 64, 67, 0.3), 0px 1px 3px 1px rgba(60, 64, 67, 0.15);\n",
              "      fill: #174EA6;\n",
              "    }\n",
              "\n",
              "    [theme=dark] .colab-df-convert {\n",
              "      background-color: #3B4455;\n",
              "      fill: #D2E3FC;\n",
              "    }\n",
              "\n",
              "    [theme=dark] .colab-df-convert:hover {\n",
              "      background-color: #434B5C;\n",
              "      box-shadow: 0px 1px 3px 1px rgba(0, 0, 0, 0.15);\n",
              "      filter: drop-shadow(0px 1px 2px rgba(0, 0, 0, 0.3));\n",
              "      fill: #FFFFFF;\n",
              "    }\n",
              "  </style>\n",
              "\n",
              "      <script>\n",
              "        const buttonEl =\n",
              "          document.querySelector('#df-9c2d147b-9b77-49fd-b3ca-697585cfe949 button.colab-df-convert');\n",
              "        buttonEl.style.display =\n",
              "          google.colab.kernel.accessAllowed ? 'block' : 'none';\n",
              "\n",
              "        async function convertToInteractive(key) {\n",
              "          const element = document.querySelector('#df-9c2d147b-9b77-49fd-b3ca-697585cfe949');\n",
              "          const dataTable =\n",
              "            await google.colab.kernel.invokeFunction('convertToInteractive',\n",
              "                                                     [key], {});\n",
              "          if (!dataTable) return;\n",
              "\n",
              "          const docLinkHtml = 'Like what you see? Visit the ' +\n",
              "            '<a target=\"_blank\" href=https://colab.research.google.com/notebooks/data_table.ipynb>data table notebook</a>'\n",
              "            + ' to learn more about interactive tables.';\n",
              "          element.innerHTML = '';\n",
              "          dataTable['output_type'] = 'display_data';\n",
              "          await google.colab.output.renderOutput(dataTable, element);\n",
              "          const docLink = document.createElement('div');\n",
              "          docLink.innerHTML = docLinkHtml;\n",
              "          element.appendChild(docLink);\n",
              "        }\n",
              "      </script>\n",
              "    </div>\n",
              "  </div>\n",
              "  "
            ],
            "text/plain": [
              "          count\n",
              "happiness  5209\n",
              "sadness    5165\n",
              "love       3842\n",
              "surprise   2187\n",
              "fun        1776\n",
              "relief     1526\n",
              "hate       1323\n",
              "anger       110"
            ]
          },
          "execution_count": 9,
          "metadata": {},
          "output_type": "execute_result"
        }
      ],
      "source": [
        "print(type(word_counts))\n",
        "word_counts"
      ]
    },
    {
      "cell_type": "code",
      "execution_count": 10,
      "metadata": {
        "colab": {
          "base_uri": "https://localhost:8080/"
        },
        "id": "R0moK3lmbzxA",
        "outputId": "31503499-0598-4b08-d81e-3096e51670d4"
      },
      "outputs": [
        {
          "data": {
            "text/plain": [
              "['happiness', 'sadness', 'love', 'surprise', 'fun', 'relief', 'hate', 'anger']"
            ]
          },
          "execution_count": 10,
          "metadata": {},
          "output_type": "execute_result"
        }
      ],
      "source": [
        "index_list = list(word_counts.index)\n",
        "index_list"
      ]
    },
    {
      "attachments": {},
      "cell_type": "markdown",
      "metadata": {
        "id": "MAjcBXhLzfIp"
      },
      "source": [
        "# <font color=\"#b1ea4d\">━</font><font color=\"#d0e347\">━━</font><font color=\"#bfd83b\">━━━</font><font color=\"#a3c72a\">━━━━━</font><font color=\"#8dba1b\">━━━━━━</font><font color=\"#73AA0A\">━━━━━━━━</font> \n",
        "# 2. データの整形  \n",
        "# <font color=\"#b1ea4d\">━</font><font color=\"#d0e347\">━━</font><font color=\"#bfd83b\">━━━</font><font color=\"#a3c72a\">━━━━━</font><font color=\"#8dba1b\">━━━━━━</font><font color=\"#73AA0A\">━━━━━━━━</font> "
      ]
    },
    {
      "cell_type": "code",
      "execution_count": 11,
      "metadata": {
        "colab": {
          "base_uri": "https://localhost:8080/"
        },
        "id": "ikcN4ylF1QPY",
        "outputId": "52e455f1-d9dd-4092-c346-39796a21c1a5"
      },
      "outputs": [
        {
          "name": "stderr",
          "output_type": "stream",
          "text": [
            "[nltk_data] Downloading package stopwords to /root/nltk_data...\n",
            "[nltk_data]   Unzipping corpora/stopwords.zip.\n"
          ]
        }
      ],
      "source": [
        "#@title 2.2.1 頻出単語の削除\n",
        "import nltk\n",
        "import numpy as np\n",
        "import pandas as pd\n",
        "import re\n",
        "import csv\n",
        "from nltk.corpus import stopwords\n",
        "\n",
        "# エラーが出たら↓をコメントアウトする\n",
        "nltk.download('stopwords')\n",
        "stop_words = stopwords.words('english')"
      ]
    },
    {
      "cell_type": "code",
      "execution_count": 12,
      "metadata": {
        "colab": {
          "base_uri": "https://localhost:8080/"
        },
        "id": "gjH8h0dUpxNH",
        "outputId": "8a885a47-f57b-4259-ea78-b8801cab86dc"
      },
      "outputs": [
        {
          "data": {
            "text/plain": [
              "['one',\n",
              " 'the',\n",
              " 'a',\n",
              " 'that',\n",
              " 'this',\n",
              " 'an',\n",
              " 'in',\n",
              " 'for',\n",
              " 'of',\n",
              " 'on',\n",
              " 'with',\n",
              " 'at',\n",
              " 'from',\n",
              " 'about',\n",
              " 'as',\n",
              " 'm',\n",
              " 'quot',\n",
              " 'u',\n",
              " 'i',\n",
              " 's',\n",
              " 't',\n",
              " 'http',\n",
              " 'im',\n",
              " 'll',\n",
              " 'you',\n",
              " 'it',\n",
              " 'me',\n",
              " 'we',\n",
              " 'they',\n",
              " 'he',\n",
              " 'my',\n",
              " 'your',\n",
              " 'its',\n",
              " 'be',\n",
              " 'was',\n",
              " 'are',\n",
              " 'am',\n",
              " 'is']"
            ]
          },
          "execution_count": 12,
          "metadata": {},
          "output_type": "execute_result"
        }
      ],
      "source": [
        "#@title 2.2.1.1 自作の疑似ストップワードリストを取得\n",
        "# どうやって作ったかは ver3.2 を参照\n",
        "path = '/content/drive/MyDrive/Data for Colab Notebooks/20230303200335_頻出ワード100.xlsx'\n",
        "df = pd.read_excel(path)\n",
        "delete_list = df['word'].tolist()\n",
        "delete_list"
      ]
    },
    {
      "cell_type": "code",
      "execution_count": 13,
      "metadata": {
        "id": "Xg2dYL7tjh5R"
      },
      "outputs": [],
      "source": [
        "#@title 2.2.1.2 ツイートデータのクリーニングを定義\n",
        "def tweet_to_words(raw_tweet):\n",
        "\n",
        "    # a~zまで始まる単語を空白ごとに区切ったリストを作成\n",
        "    letters_only = re.sub(\"[^a-zA-Z@]\", \" \",raw_tweet) \n",
        "    words = letters_only.lower().split()\n",
        "\n",
        "    # '@'が含まれる文字とストップワードを削除\n",
        "    # stops = set(stopwords.words(\"english\"))  \n",
        "    # meaningful_words = [w for w in words if not w in stops and not re.match(\"^[@]\", w)]# and not re.match(\"\",w)] \n",
        "    meaningful_words = [w for w in words if not re.match(\"^[@]\", w)]# and not re.match(\"\",w)] \n",
        "    return( \" \".join(meaningful_words)) \n",
        "    # return( \" \".join(words)) "
      ]
    },
    {
      "cell_type": "code",
      "execution_count": 14,
      "metadata": {
        "id": "_-rflRmAqf2S"
      },
      "outputs": [],
      "source": [
        "#@title 2.2.1.2 ツイートデータのクリーニングを定義\n",
        "def tweet_to_words(raw_tweet,delete_list):\n",
        "\n",
        "    # a~zまで始まる単語を空白ごとに区切ったリストを作成\n",
        "    letters_only = re.sub(\"[^a-zA-Z@]\", \" \",raw_tweet) \n",
        "    words = letters_only.lower().split()\n",
        "\n",
        "    # '@'が含まれる文字とストップワードを削除\n",
        "    stops = set(delete_list)  \n",
        "    meaningful_words = [w for w in words if not w in stops and not re.match(\"^[@]\", w)]# and not re.match(\"\",w)] \n",
        "    # meaningful_words = [w for w in words if not re.match(\"^[@]\", w)]# and not re.match(\"\",w)] \n",
        "    return( \" \".join(meaningful_words)) \n",
        "    # return( \" \".join(words)) "
      ]
    },
    {
      "cell_type": "code",
      "execution_count": 16,
      "metadata": {
        "id": "vHGMJGuw1a8e"
      },
      "outputs": [],
      "source": [
        "#@title 2.2.1.3 ツイートデータのクリーニングを実行（ストップワード）\n",
        "# cleanTweet = Tweet['content'].apply(lambda x: tweet_to_words(x))\n",
        "# clean_tweet_df = pd.DataFrame({'content': cleanTweet, 'sentiment': Tweet['sentiment']})"
      ]
    },
    {
      "cell_type": "code",
      "execution_count": 18,
      "metadata": {
        "id": "g6pQcZ3_qmx9"
      },
      "outputs": [],
      "source": [
        "#@title 2.2.1.3 ツイートデータのクリーニングを実行\n",
        "cleanTweet = Tweet['content'].apply(lambda x: tweet_to_words(x,delete_list))\n",
        "clean_tweet_df = pd.DataFrame({'content': cleanTweet, 'sentiment': Tweet['sentiment']})"
      ]
    },
    {
      "cell_type": "code",
      "execution_count": 19,
      "metadata": {
        "colab": {
          "base_uri": "https://localhost:8080/"
        },
        "id": "-5nn20_LWQLR",
        "outputId": "678f8f51-5093-4555-ed97-9539312105d7"
      },
      "outputs": [
        {
          "name": "stdout",
          "output_type": "stream",
          "text": [
            "<class 'pandas.core.series.Series'>\n"
          ]
        },
        {
          "data": {
            "text/plain": [
              "1                  layin n bed headache ughhhh waitin call\n",
              "3                           funeral ceremony gloomy friday\n",
              "7        should sleep but not thinking old friend who w...\n",
              "9                                       charlene love miss\n",
              "10                                      sorry least friday\n",
              "                               ...                        \n",
              "39994                          succesfully following tayla\n",
              "39996                           happy mothers day all love\n",
              "39997    happy mother day to all mommies out there woma...\n",
              "39998    wassup beautiful follow peep out new hit singl...\n",
              "39999    bullet train tokyo gf and have been visiting j...\n",
              "Name: content, Length: 21138, dtype: object"
            ]
          },
          "execution_count": 19,
          "metadata": {},
          "output_type": "execute_result"
        }
      ],
      "source": [
        "print(type(cleanTweet))\n",
        "cleanTweet"
      ]
    },
    {
      "cell_type": "code",
      "execution_count": 20,
      "metadata": {
        "colab": {
          "base_uri": "https://localhost:8080/",
          "height": 423
        },
        "id": "usx669WD18Hk",
        "outputId": "a90d1992-f075-4ba0-cc68-2f395080bc86"
      },
      "outputs": [
        {
          "data": {
            "text/html": [
              "\n",
              "  <div id=\"df-de9364c5-2903-4943-aa47-5df0d2328227\">\n",
              "    <div class=\"colab-df-container\">\n",
              "      <div>\n",
              "<style scoped>\n",
              "    .dataframe tbody tr th:only-of-type {\n",
              "        vertical-align: middle;\n",
              "    }\n",
              "\n",
              "    .dataframe tbody tr th {\n",
              "        vertical-align: top;\n",
              "    }\n",
              "\n",
              "    .dataframe thead th {\n",
              "        text-align: right;\n",
              "    }\n",
              "</style>\n",
              "<table border=\"1\" class=\"dataframe\">\n",
              "  <thead>\n",
              "    <tr style=\"text-align: right;\">\n",
              "      <th></th>\n",
              "      <th>content</th>\n",
              "      <th>sentiment</th>\n",
              "    </tr>\n",
              "  </thead>\n",
              "  <tbody>\n",
              "    <tr>\n",
              "      <th>1</th>\n",
              "      <td>layin n bed headache ughhhh waitin call</td>\n",
              "      <td>sadness</td>\n",
              "    </tr>\n",
              "    <tr>\n",
              "      <th>3</th>\n",
              "      <td>funeral ceremony gloomy friday</td>\n",
              "      <td>sadness</td>\n",
              "    </tr>\n",
              "    <tr>\n",
              "      <th>7</th>\n",
              "      <td>should sleep but not thinking old friend who w...</td>\n",
              "      <td>sadness</td>\n",
              "    </tr>\n",
              "    <tr>\n",
              "      <th>9</th>\n",
              "      <td>charlene love miss</td>\n",
              "      <td>sadness</td>\n",
              "    </tr>\n",
              "    <tr>\n",
              "      <th>10</th>\n",
              "      <td>sorry least friday</td>\n",
              "      <td>sadness</td>\n",
              "    </tr>\n",
              "    <tr>\n",
              "      <th>...</th>\n",
              "      <td>...</td>\n",
              "      <td>...</td>\n",
              "    </tr>\n",
              "    <tr>\n",
              "      <th>39994</th>\n",
              "      <td>succesfully following tayla</td>\n",
              "      <td>happiness</td>\n",
              "    </tr>\n",
              "    <tr>\n",
              "      <th>39996</th>\n",
              "      <td>happy mothers day all love</td>\n",
              "      <td>love</td>\n",
              "    </tr>\n",
              "    <tr>\n",
              "      <th>39997</th>\n",
              "      <td>happy mother day to all mommies out there woma...</td>\n",
              "      <td>love</td>\n",
              "    </tr>\n",
              "    <tr>\n",
              "      <th>39998</th>\n",
              "      <td>wassup beautiful follow peep out new hit singl...</td>\n",
              "      <td>happiness</td>\n",
              "    </tr>\n",
              "    <tr>\n",
              "      <th>39999</th>\n",
              "      <td>bullet train tokyo gf and have been visiting j...</td>\n",
              "      <td>love</td>\n",
              "    </tr>\n",
              "  </tbody>\n",
              "</table>\n",
              "<p>21138 rows × 2 columns</p>\n",
              "</div>\n",
              "      <button class=\"colab-df-convert\" onclick=\"convertToInteractive('df-de9364c5-2903-4943-aa47-5df0d2328227')\"\n",
              "              title=\"Convert this dataframe to an interactive table.\"\n",
              "              style=\"display:none;\">\n",
              "        \n",
              "  <svg xmlns=\"http://www.w3.org/2000/svg\" height=\"24px\"viewBox=\"0 0 24 24\"\n",
              "       width=\"24px\">\n",
              "    <path d=\"M0 0h24v24H0V0z\" fill=\"none\"/>\n",
              "    <path d=\"M18.56 5.44l.94 2.06.94-2.06 2.06-.94-2.06-.94-.94-2.06-.94 2.06-2.06.94zm-11 1L8.5 8.5l.94-2.06 2.06-.94-2.06-.94L8.5 2.5l-.94 2.06-2.06.94zm10 10l.94 2.06.94-2.06 2.06-.94-2.06-.94-.94-2.06-.94 2.06-2.06.94z\"/><path d=\"M17.41 7.96l-1.37-1.37c-.4-.4-.92-.59-1.43-.59-.52 0-1.04.2-1.43.59L10.3 9.45l-7.72 7.72c-.78.78-.78 2.05 0 2.83L4 21.41c.39.39.9.59 1.41.59.51 0 1.02-.2 1.41-.59l7.78-7.78 2.81-2.81c.8-.78.8-2.07 0-2.86zM5.41 20L4 18.59l7.72-7.72 1.47 1.35L5.41 20z\"/>\n",
              "  </svg>\n",
              "      </button>\n",
              "      \n",
              "  <style>\n",
              "    .colab-df-container {\n",
              "      display:flex;\n",
              "      flex-wrap:wrap;\n",
              "      gap: 12px;\n",
              "    }\n",
              "\n",
              "    .colab-df-convert {\n",
              "      background-color: #E8F0FE;\n",
              "      border: none;\n",
              "      border-radius: 50%;\n",
              "      cursor: pointer;\n",
              "      display: none;\n",
              "      fill: #1967D2;\n",
              "      height: 32px;\n",
              "      padding: 0 0 0 0;\n",
              "      width: 32px;\n",
              "    }\n",
              "\n",
              "    .colab-df-convert:hover {\n",
              "      background-color: #E2EBFA;\n",
              "      box-shadow: 0px 1px 2px rgba(60, 64, 67, 0.3), 0px 1px 3px 1px rgba(60, 64, 67, 0.15);\n",
              "      fill: #174EA6;\n",
              "    }\n",
              "\n",
              "    [theme=dark] .colab-df-convert {\n",
              "      background-color: #3B4455;\n",
              "      fill: #D2E3FC;\n",
              "    }\n",
              "\n",
              "    [theme=dark] .colab-df-convert:hover {\n",
              "      background-color: #434B5C;\n",
              "      box-shadow: 0px 1px 3px 1px rgba(0, 0, 0, 0.15);\n",
              "      filter: drop-shadow(0px 1px 2px rgba(0, 0, 0, 0.3));\n",
              "      fill: #FFFFFF;\n",
              "    }\n",
              "  </style>\n",
              "\n",
              "      <script>\n",
              "        const buttonEl =\n",
              "          document.querySelector('#df-de9364c5-2903-4943-aa47-5df0d2328227 button.colab-df-convert');\n",
              "        buttonEl.style.display =\n",
              "          google.colab.kernel.accessAllowed ? 'block' : 'none';\n",
              "\n",
              "        async function convertToInteractive(key) {\n",
              "          const element = document.querySelector('#df-de9364c5-2903-4943-aa47-5df0d2328227');\n",
              "          const dataTable =\n",
              "            await google.colab.kernel.invokeFunction('convertToInteractive',\n",
              "                                                     [key], {});\n",
              "          if (!dataTable) return;\n",
              "\n",
              "          const docLinkHtml = 'Like what you see? Visit the ' +\n",
              "            '<a target=\"_blank\" href=https://colab.research.google.com/notebooks/data_table.ipynb>data table notebook</a>'\n",
              "            + ' to learn more about interactive tables.';\n",
              "          element.innerHTML = '';\n",
              "          dataTable['output_type'] = 'display_data';\n",
              "          await google.colab.output.renderOutput(dataTable, element);\n",
              "          const docLink = document.createElement('div');\n",
              "          docLink.innerHTML = docLinkHtml;\n",
              "          element.appendChild(docLink);\n",
              "        }\n",
              "      </script>\n",
              "    </div>\n",
              "  </div>\n",
              "  "
            ],
            "text/plain": [
              "                                                 content  sentiment\n",
              "1                layin n bed headache ughhhh waitin call    sadness\n",
              "3                         funeral ceremony gloomy friday    sadness\n",
              "7      should sleep but not thinking old friend who w...    sadness\n",
              "9                                     charlene love miss    sadness\n",
              "10                                    sorry least friday    sadness\n",
              "...                                                  ...        ...\n",
              "39994                        succesfully following tayla  happiness\n",
              "39996                         happy mothers day all love       love\n",
              "39997  happy mother day to all mommies out there woma...       love\n",
              "39998  wassup beautiful follow peep out new hit singl...  happiness\n",
              "39999  bullet train tokyo gf and have been visiting j...       love\n",
              "\n",
              "[21138 rows x 2 columns]"
            ]
          },
          "execution_count": 20,
          "metadata": {},
          "output_type": "execute_result"
        }
      ],
      "source": [
        "#@title 2.2.1.4 ツイートデータのクリーニング状況を確認\n",
        "clean_tweet_df"
      ]
    },
    {
      "cell_type": "code",
      "execution_count": 21,
      "metadata": {
        "id": "iRST71W7RjNr"
      },
      "outputs": [],
      "source": [
        "# 時間測定\n",
        "n_start = time.time()"
      ]
    },
    {
      "cell_type": "code",
      "execution_count": 22,
      "metadata": {
        "colab": {
          "base_uri": "https://localhost:8080/",
          "height": 1000
        },
        "id": "Jz66BFTjPaJk",
        "outputId": "e61171b9-9473-4f61-8861-a982c576c5b9"
      },
      "outputs": [
        {
          "name": "stdout",
          "output_type": "stream",
          "text": [
            "Looking in indexes: https://pypi.org/simple, https://us-python.pkg.dev/colab-wheels/public/simple/\n",
            "Requirement already satisfied: nltk in /usr/local/lib/python3.8/dist-packages (3.7)\n",
            "Collecting nltk\n",
            "  Downloading nltk-3.8.1-py3-none-any.whl (1.5 MB)\n",
            "\u001b[2K     \u001b[90m━━━━━━━━━━━━━━━━━━━━━━━━━━━━━━━━━━━━━━━━\u001b[0m \u001b[32m1.5/1.5 MB\u001b[0m \u001b[31m26.0 MB/s\u001b[0m eta \u001b[36m0:00:00\u001b[0m\n",
            "\u001b[?25hRequirement already satisfied: joblib in /usr/local/lib/python3.8/dist-packages (from nltk) (1.2.0)\n",
            "Requirement already satisfied: regex>=2021.8.3 in /usr/local/lib/python3.8/dist-packages (from nltk) (2022.6.2)\n",
            "Requirement already satisfied: click in /usr/local/lib/python3.8/dist-packages (from nltk) (8.1.3)\n",
            "Requirement already satisfied: tqdm in /usr/local/lib/python3.8/dist-packages (from nltk) (4.64.1)\n",
            "Installing collected packages: nltk\n",
            "  Attempting uninstall: nltk\n",
            "    Found existing installation: nltk 3.7\n",
            "    Uninstalling nltk-3.7:\n",
            "      Successfully uninstalled nltk-3.7\n",
            "Successfully installed nltk-3.8.1\n"
          ]
        },
        {
          "data": {
            "application/vnd.colab-display-data+json": {
              "pip_warning": {
                "packages": [
                  "nltk"
                ]
              }
            }
          },
          "metadata": {},
          "output_type": "display_data"
        },
        {
          "name": "stderr",
          "output_type": "stream",
          "text": [
            "[nltk_data] Downloading package punkt to /root/nltk_data...\n",
            "[nltk_data]   Unzipping tokenizers/punkt.zip.\n",
            "[nltk_data] Downloading package averaged_perceptron_tagger to\n",
            "[nltk_data]     /root/nltk_data...\n",
            "[nltk_data]   Unzipping taggers/averaged_perceptron_tagger.zip.\n",
            "[nltk_data] Downloading package omw-1.4 to /root/nltk_data...\n",
            "[nltk_data] Downloading package wordnet to /root/nltk_data...\n"
          ]
        },
        {
          "name": "stdout",
          "output_type": "stream",
          "text": [
            "Total number of transformations: 1079677\n",
            "\n",
            "Top transformation history:\n",
            "layin → l\n",
            "n → a\n",
            "bed → y\n",
            "headache → i\n",
            "ughhhh → n\n",
            "waitin →  \n",
            "call → n\n",
            "funeral →  \n",
            "ceremony → b\n",
            "gloomy → e\n"
          ]
        },
        {
          "data": {
            "text/html": [
              "\n",
              "  <div id=\"df-b70c5654-7c1d-4a7d-a4ca-a9ca0fdea4da\">\n",
              "    <div class=\"colab-df-container\">\n",
              "      <div>\n",
              "<style scoped>\n",
              "    .dataframe tbody tr th:only-of-type {\n",
              "        vertical-align: middle;\n",
              "    }\n",
              "\n",
              "    .dataframe tbody tr th {\n",
              "        vertical-align: top;\n",
              "    }\n",
              "\n",
              "    .dataframe thead th {\n",
              "        text-align: right;\n",
              "    }\n",
              "</style>\n",
              "<table border=\"1\" class=\"dataframe\">\n",
              "  <thead>\n",
              "    <tr style=\"text-align: right;\">\n",
              "      <th></th>\n",
              "      <th>content</th>\n",
              "      <th>sentiment</th>\n",
              "      <th>tokens</th>\n",
              "      <th>tokens_transformed</th>\n",
              "    </tr>\n",
              "  </thead>\n",
              "  <tbody>\n",
              "    <tr>\n",
              "      <th>1</th>\n",
              "      <td>layin n bed headache ughhhh waitin call</td>\n",
              "      <td>sadness</td>\n",
              "      <td>[layin, n, bed, headache, ughhhh, waitin, call]</td>\n",
              "      <td>layin n bed headache ughhhh waitin call</td>\n",
              "    </tr>\n",
              "    <tr>\n",
              "      <th>3</th>\n",
              "      <td>funeral ceremony gloomy friday</td>\n",
              "      <td>sadness</td>\n",
              "      <td>[funeral, ceremony, gloomy, friday]</td>\n",
              "      <td>funeral ceremony gloomy friday</td>\n",
              "    </tr>\n",
              "    <tr>\n",
              "      <th>7</th>\n",
              "      <td>should sleep but not thinking old friend who w...</td>\n",
              "      <td>sadness</td>\n",
              "      <td>[should, sleep, but, not, think, old, friend, ...</td>\n",
              "      <td>should sleep but not think old friend who want...</td>\n",
              "    </tr>\n",
              "    <tr>\n",
              "      <th>9</th>\n",
              "      <td>charlene love miss</td>\n",
              "      <td>sadness</td>\n",
              "      <td>[charlene, love, miss]</td>\n",
              "      <td>charlene love mis</td>\n",
              "    </tr>\n",
              "    <tr>\n",
              "      <th>10</th>\n",
              "      <td>sorry least friday</td>\n",
              "      <td>sadness</td>\n",
              "      <td>[sorry, least, friday]</td>\n",
              "      <td>sorry least friday</td>\n",
              "    </tr>\n",
              "    <tr>\n",
              "      <th>...</th>\n",
              "      <td>...</td>\n",
              "      <td>...</td>\n",
              "      <td>...</td>\n",
              "      <td>...</td>\n",
              "    </tr>\n",
              "    <tr>\n",
              "      <th>39994</th>\n",
              "      <td>succesfully following tayla</td>\n",
              "      <td>happiness</td>\n",
              "      <td>[succesfully, follow, tayla]</td>\n",
              "      <td>succesfully follow tayla</td>\n",
              "    </tr>\n",
              "    <tr>\n",
              "      <th>39996</th>\n",
              "      <td>happy mothers day all love</td>\n",
              "      <td>love</td>\n",
              "      <td>[happy, mother, day, all, love]</td>\n",
              "      <td>happy mother day all love</td>\n",
              "    </tr>\n",
              "    <tr>\n",
              "      <th>39997</th>\n",
              "      <td>happy mother day to all mommies out there woma...</td>\n",
              "      <td>love</td>\n",
              "      <td>[happy, mother, day, to, all, mommy, out, ther...</td>\n",
              "      <td>happy mother day to all mommy out there woman ...</td>\n",
              "    </tr>\n",
              "    <tr>\n",
              "      <th>39998</th>\n",
              "      <td>wassup beautiful follow peep out new hit singl...</td>\n",
              "      <td>happiness</td>\n",
              "      <td>[wassup, beautiful, follow, peep, out, new, hi...</td>\n",
              "      <td>wassup beautiful follow peep out new hit singl...</td>\n",
              "    </tr>\n",
              "    <tr>\n",
              "      <th>39999</th>\n",
              "      <td>bullet train tokyo gf and have been visiting j...</td>\n",
              "      <td>love</td>\n",
              "      <td>[bullet, train, tokyo, gf, and, have, be, visi...</td>\n",
              "      <td>bullet train tokyo gf and have be visit japan ...</td>\n",
              "    </tr>\n",
              "  </tbody>\n",
              "</table>\n",
              "<p>21138 rows × 4 columns</p>\n",
              "</div>\n",
              "      <button class=\"colab-df-convert\" onclick=\"convertToInteractive('df-b70c5654-7c1d-4a7d-a4ca-a9ca0fdea4da')\"\n",
              "              title=\"Convert this dataframe to an interactive table.\"\n",
              "              style=\"display:none;\">\n",
              "        \n",
              "  <svg xmlns=\"http://www.w3.org/2000/svg\" height=\"24px\"viewBox=\"0 0 24 24\"\n",
              "       width=\"24px\">\n",
              "    <path d=\"M0 0h24v24H0V0z\" fill=\"none\"/>\n",
              "    <path d=\"M18.56 5.44l.94 2.06.94-2.06 2.06-.94-2.06-.94-.94-2.06-.94 2.06-2.06.94zm-11 1L8.5 8.5l.94-2.06 2.06-.94-2.06-.94L8.5 2.5l-.94 2.06-2.06.94zm10 10l.94 2.06.94-2.06 2.06-.94-2.06-.94-.94-2.06-.94 2.06-2.06.94z\"/><path d=\"M17.41 7.96l-1.37-1.37c-.4-.4-.92-.59-1.43-.59-.52 0-1.04.2-1.43.59L10.3 9.45l-7.72 7.72c-.78.78-.78 2.05 0 2.83L4 21.41c.39.39.9.59 1.41.59.51 0 1.02-.2 1.41-.59l7.78-7.78 2.81-2.81c.8-.78.8-2.07 0-2.86zM5.41 20L4 18.59l7.72-7.72 1.47 1.35L5.41 20z\"/>\n",
              "  </svg>\n",
              "      </button>\n",
              "      \n",
              "  <style>\n",
              "    .colab-df-container {\n",
              "      display:flex;\n",
              "      flex-wrap:wrap;\n",
              "      gap: 12px;\n",
              "    }\n",
              "\n",
              "    .colab-df-convert {\n",
              "      background-color: #E8F0FE;\n",
              "      border: none;\n",
              "      border-radius: 50%;\n",
              "      cursor: pointer;\n",
              "      display: none;\n",
              "      fill: #1967D2;\n",
              "      height: 32px;\n",
              "      padding: 0 0 0 0;\n",
              "      width: 32px;\n",
              "    }\n",
              "\n",
              "    .colab-df-convert:hover {\n",
              "      background-color: #E2EBFA;\n",
              "      box-shadow: 0px 1px 2px rgba(60, 64, 67, 0.3), 0px 1px 3px 1px rgba(60, 64, 67, 0.15);\n",
              "      fill: #174EA6;\n",
              "    }\n",
              "\n",
              "    [theme=dark] .colab-df-convert {\n",
              "      background-color: #3B4455;\n",
              "      fill: #D2E3FC;\n",
              "    }\n",
              "\n",
              "    [theme=dark] .colab-df-convert:hover {\n",
              "      background-color: #434B5C;\n",
              "      box-shadow: 0px 1px 3px 1px rgba(0, 0, 0, 0.15);\n",
              "      filter: drop-shadow(0px 1px 2px rgba(0, 0, 0, 0.3));\n",
              "      fill: #FFFFFF;\n",
              "    }\n",
              "  </style>\n",
              "\n",
              "      <script>\n",
              "        const buttonEl =\n",
              "          document.querySelector('#df-b70c5654-7c1d-4a7d-a4ca-a9ca0fdea4da button.colab-df-convert');\n",
              "        buttonEl.style.display =\n",
              "          google.colab.kernel.accessAllowed ? 'block' : 'none';\n",
              "\n",
              "        async function convertToInteractive(key) {\n",
              "          const element = document.querySelector('#df-b70c5654-7c1d-4a7d-a4ca-a9ca0fdea4da');\n",
              "          const dataTable =\n",
              "            await google.colab.kernel.invokeFunction('convertToInteractive',\n",
              "                                                     [key], {});\n",
              "          if (!dataTable) return;\n",
              "\n",
              "          const docLinkHtml = 'Like what you see? Visit the ' +\n",
              "            '<a target=\"_blank\" href=https://colab.research.google.com/notebooks/data_table.ipynb>data table notebook</a>'\n",
              "            + ' to learn more about interactive tables.';\n",
              "          element.innerHTML = '';\n",
              "          dataTable['output_type'] = 'display_data';\n",
              "          await google.colab.output.renderOutput(dataTable, element);\n",
              "          const docLink = document.createElement('div');\n",
              "          docLink.innerHTML = docLinkHtml;\n",
              "          element.appendChild(docLink);\n",
              "        }\n",
              "      </script>\n",
              "    </div>\n",
              "  </div>\n",
              "  "
            ],
            "text/plain": [
              "                                                 content  sentiment  \\\n",
              "1                layin n bed headache ughhhh waitin call    sadness   \n",
              "3                         funeral ceremony gloomy friday    sadness   \n",
              "7      should sleep but not thinking old friend who w...    sadness   \n",
              "9                                     charlene love miss    sadness   \n",
              "10                                    sorry least friday    sadness   \n",
              "...                                                  ...        ...   \n",
              "39994                        succesfully following tayla  happiness   \n",
              "39996                         happy mothers day all love       love   \n",
              "39997  happy mother day to all mommies out there woma...       love   \n",
              "39998  wassup beautiful follow peep out new hit singl...  happiness   \n",
              "39999  bullet train tokyo gf and have been visiting j...       love   \n",
              "\n",
              "                                                  tokens  \\\n",
              "1        [layin, n, bed, headache, ughhhh, waitin, call]   \n",
              "3                    [funeral, ceremony, gloomy, friday]   \n",
              "7      [should, sleep, but, not, think, old, friend, ...   \n",
              "9                                 [charlene, love, miss]   \n",
              "10                                [sorry, least, friday]   \n",
              "...                                                  ...   \n",
              "39994                       [succesfully, follow, tayla]   \n",
              "39996                    [happy, mother, day, all, love]   \n",
              "39997  [happy, mother, day, to, all, mommy, out, ther...   \n",
              "39998  [wassup, beautiful, follow, peep, out, new, hi...   \n",
              "39999  [bullet, train, tokyo, gf, and, have, be, visi...   \n",
              "\n",
              "                                      tokens_transformed  \n",
              "1                layin n bed headache ughhhh waitin call  \n",
              "3                         funeral ceremony gloomy friday  \n",
              "7      should sleep but not think old friend who want...  \n",
              "9                                      charlene love mis  \n",
              "10                                    sorry least friday  \n",
              "...                                                  ...  \n",
              "39994                           succesfully follow tayla  \n",
              "39996                          happy mother day all love  \n",
              "39997  happy mother day to all mommy out there woman ...  \n",
              "39998  wassup beautiful follow peep out new hit singl...  \n",
              "39999  bullet train tokyo gf and have be visit japan ...  \n",
              "\n",
              "[21138 rows x 4 columns]"
            ]
          },
          "execution_count": 22,
          "metadata": {},
          "output_type": "execute_result"
        }
      ],
      "source": [
        "#@title 2.2.1.5 nltk を使った形態素解析、各単語のBaseForm化\n",
        " # 必要なライブラリのインストール\n",
        "!pip install -U nltk\n",
        "nltk.download('punkt')\n",
        "nltk.download('averaged_perceptron_tagger')\n",
        "nltk.download('omw-1.4')\n",
        "nltk.download('wordnet')\n",
        "# 単語の正規化\n",
        "from nltk.stem import WordNetLemmatizer\n",
        "lemmatizer = WordNetLemmatizer()\n",
        "\n",
        "def lemmatize_word(word, tag):\n",
        "    if tag.startswith('NN'):\n",
        "        return lemmatizer.lemmatize(word, pos='n')\n",
        "    elif tag.startswith('VB'):\n",
        "        return lemmatizer.lemmatize(word, pos='v')\n",
        "    elif tag.startswith('JJ'):\n",
        "        return lemmatizer.lemmatize(word, pos='a')\n",
        "    elif tag.startswith('R'):\n",
        "        return lemmatizer.lemmatize(word, pos='r')\n",
        "    else:\n",
        "        return word\n",
        "\n",
        "# 形態素解析\n",
        "from nltk.tokenize import word_tokenize\n",
        "# from nltk.corpus import stopwords\n",
        "\n",
        "# stop_words = set(stopwords.words('english'))\n",
        "\n",
        "def tokenize_text(text):\n",
        "    tokens = word_tokenize(text)\n",
        "    tokens = [token.strip() for token in tokens]\n",
        "    tagged_tokens = nltk.pos_tag(tokens)\n",
        "    lemmatized_tokens = [lemmatize_word(token, tag) for token, tag in tagged_tokens]\n",
        "    return [token.lower() for token in lemmatized_tokens if token.isalpha()]\n",
        "\n",
        "clean_tweet_df['tokens'] = clean_tweet_df['content'].apply(tokenize_text)\n",
        "\n",
        "# 変換履歴の表示\n",
        "import itertools\n",
        "\n",
        "def print_transformation_history(original_token, final_token):\n",
        "    if original_token != final_token:\n",
        "        print(f\"{original_token} → {final_token}\")\n",
        "\n",
        "def print_top_transformation_history(df, n=10):\n",
        "    all_tokens = list(itertools.chain.from_iterable(df['tokens']))\n",
        "    transformed_tokens = list(itertools.chain.from_iterable(df['tokens_transformed']))\n",
        "    transformed_count = len([t for t in transformed_tokens if t != ''])\n",
        "    print(f\"Total number of transformations: {transformed_count}\")\n",
        "    print(\"\\nTop transformation history:\")\n",
        "    for original_token, final_token in itertools.zip_longest(all_tokens, transformed_tokens):\n",
        "        if original_token is None or final_token is None:\n",
        "            break\n",
        "        print_transformation_history(original_token, final_token)\n",
        "        n -= 1\n",
        "        if n == 0:\n",
        "            break\n",
        "\n",
        "# 語幹の変換\n",
        "import inflect\n",
        "p = inflect.engine()\n",
        "\n",
        "def stem_transform(token):\n",
        "    return p.singular_noun(token) or token\n",
        "\n",
        "clean_tweet_df['tokens_transformed'] = clean_tweet_df['tokens'].apply(lambda x: [stem_transform(token) for token in x])\n",
        "\n",
        "# 過去形、進行形の変換\n",
        "from textblob import TextBlob\n",
        "\n",
        "def verb_transform(token):\n",
        "    blob = TextBlob(token)\n",
        "    if blob.tags[0][1] == 'VBD' or blob.tags[0][1] == 'VBN':\n",
        "        return blob.words[0].lemmatize('v')\n",
        "    elif blob.tags[0][1] == 'VBG':\n",
        "        return blob.words[0].lemmatize('v')[:-1]\n",
        "    else:\n",
        "        return token\n",
        "\n",
        "# clean_tweet_df['tokens_transformed'] = clean_tweet_df['tokens_transformed'].apply(lambda x: [verb_transform(token) for token in x])\n",
        "clean_tweet_df['tokens_transformed'] = clean_tweet_df['tokens_transformed'].apply(lambda x: ' '.join([verb_transform(token) for token in x]))\n",
        "\n",
        "# 変換履歴の表示\n",
        "print_top_transformation_history(clean_tweet_df)\n",
        "clean_tweet_df"
      ]
    },
    {
      "cell_type": "code",
      "execution_count": 23,
      "metadata": {
        "colab": {
          "base_uri": "https://localhost:8080/"
        },
        "id": "MQkVWcCfQ1av",
        "outputId": "b5c12a6c-c0eb-4cff-92fe-a1e5c6304bb3"
      },
      "outputs": [
        {
          "name": "stdout",
          "output_type": "stream",
          "text": [
            "Elapsed time nltk時間: 0.00 sec\n"
          ]
        }
      ],
      "source": [
        "# 時間測定\n",
        "n_start = time.time()\n",
        "n_end = time.time()\n",
        "n_time = n_end - n_start\n",
        "print(\"Elapsed time nltk時間: {:.2f} sec\".format(n_time))"
      ]
    },
    {
      "cell_type": "code",
      "execution_count": 24,
      "metadata": {
        "colab": {
          "base_uri": "https://localhost:8080/"
        },
        "id": "3_JDZ_iTUzF2",
        "outputId": "e31b4b2c-bb69-44fb-dca0-a78bc826aff2"
      },
      "outputs": [
        {
          "data": {
            "text/plain": [
              "str"
            ]
          },
          "execution_count": 24,
          "metadata": {},
          "output_type": "execute_result"
        }
      ],
      "source": [
        "type(clean_tweet_df['tokens_transformed'][1])"
      ]
    },
    {
      "cell_type": "code",
      "execution_count": 25,
      "metadata": {
        "id": "VZ8M12ZeTbNB"
      },
      "outputs": [],
      "source": [
        "#@title 不要？\n",
        "# # tokens_transformed列の整形\n",
        "# # clean_tweet_df['content'] = clean_tweet_df['tokens_transformed'].str.replace('[\\[\\]]', '').str.replace(',', ' ')\n",
        "# clean_tweet_df['content'] = clean_tweet_df['tokens_transformed'].apply(lambda x: ' '.join(x) if isinstance(x, list) else '')\n",
        "# clean_tweet_df.drop(columns=['tokens_transformed'], inplace=True)\n",
        "\n",
        "# # 3列目以降の削除\n",
        "# clean_tweet_df = clean_tweet_df.iloc[:, :2]\n",
        "\n",
        "# # 結果の表示\n",
        "# print(clean_tweet_df)"
      ]
    },
    {
      "cell_type": "code",
      "execution_count": 26,
      "metadata": {
        "colab": {
          "base_uri": "https://localhost:8080/",
          "height": 518
        },
        "id": "BRky5P5BWm9D",
        "outputId": "e1df81ec-3eac-41da-b319-e8afa67f465c"
      },
      "outputs": [
        {
          "ename": "KeyError",
          "evalue": "ignored",
          "output_type": "error",
          "traceback": [
            "\u001b[0;31m---------------------------------------------------------------------------\u001b[0m",
            "\u001b[0;31mKeyError\u001b[0m                                  Traceback (most recent call last)",
            "\u001b[0;32m/usr/local/lib/python3.8/dist-packages/pandas/core/indexes/base.py\u001b[0m in \u001b[0;36mget_loc\u001b[0;34m(self, key, method, tolerance)\u001b[0m\n\u001b[1;32m   3360\u001b[0m             \u001b[0;32mtry\u001b[0m\u001b[0;34m:\u001b[0m\u001b[0;34m\u001b[0m\u001b[0;34m\u001b[0m\u001b[0m\n\u001b[0;32m-> 3361\u001b[0;31m                 \u001b[0;32mreturn\u001b[0m \u001b[0mself\u001b[0m\u001b[0;34m.\u001b[0m\u001b[0m_engine\u001b[0m\u001b[0;34m.\u001b[0m\u001b[0mget_loc\u001b[0m\u001b[0;34m(\u001b[0m\u001b[0mcasted_key\u001b[0m\u001b[0;34m)\u001b[0m\u001b[0;34m\u001b[0m\u001b[0;34m\u001b[0m\u001b[0m\n\u001b[0m\u001b[1;32m   3362\u001b[0m             \u001b[0;32mexcept\u001b[0m \u001b[0mKeyError\u001b[0m \u001b[0;32mas\u001b[0m \u001b[0merr\u001b[0m\u001b[0;34m:\u001b[0m\u001b[0;34m\u001b[0m\u001b[0;34m\u001b[0m\u001b[0m\n",
            "\u001b[0;32m/usr/local/lib/python3.8/dist-packages/pandas/_libs/index.pyx\u001b[0m in \u001b[0;36mpandas._libs.index.IndexEngine.get_loc\u001b[0;34m()\u001b[0m\n",
            "\u001b[0;32m/usr/local/lib/python3.8/dist-packages/pandas/_libs/index.pyx\u001b[0m in \u001b[0;36mpandas._libs.index.IndexEngine.get_loc\u001b[0;34m()\u001b[0m\n",
            "\u001b[0;32mpandas/_libs/hashtable_class_helper.pxi\u001b[0m in \u001b[0;36mpandas._libs.hashtable.Int64HashTable.get_item\u001b[0;34m()\u001b[0m\n",
            "\u001b[0;32mpandas/_libs/hashtable_class_helper.pxi\u001b[0m in \u001b[0;36mpandas._libs.hashtable.Int64HashTable.get_item\u001b[0;34m()\u001b[0m\n",
            "\u001b[0;31mKeyError\u001b[0m: 0",
            "\nThe above exception was the direct cause of the following exception:\n",
            "\u001b[0;31mKeyError\u001b[0m                                  Traceback (most recent call last)",
            "\u001b[0;32m<ipython-input-26-cb918211ef80>\u001b[0m in \u001b[0;36m<module>\u001b[0;34m\u001b[0m\n\u001b[1;32m      1\u001b[0m \u001b[0mcleanTweet_2\u001b[0m \u001b[0;34m=\u001b[0m \u001b[0mcleanTweet\u001b[0m\u001b[0;34m\u001b[0m\u001b[0;34m\u001b[0m\u001b[0m\n\u001b[0;32m----> 2\u001b[0;31m \u001b[0mprint\u001b[0m\u001b[0;34m(\u001b[0m\u001b[0mtype\u001b[0m\u001b[0;34m(\u001b[0m\u001b[0mcleanTweet_2\u001b[0m\u001b[0;34m)\u001b[0m\u001b[0;34m,\u001b[0m\u001b[0mtype\u001b[0m\u001b[0;34m(\u001b[0m\u001b[0mcleanTweet_2\u001b[0m\u001b[0;34m[\u001b[0m\u001b[0;36m0\u001b[0m\u001b[0;34m]\u001b[0m\u001b[0;34m)\u001b[0m\u001b[0;34m)\u001b[0m\u001b[0;34m\u001b[0m\u001b[0;34m\u001b[0m\u001b[0m\n\u001b[0m\u001b[1;32m      3\u001b[0m \u001b[0mcleanTweet_2\u001b[0m\u001b[0;34m\u001b[0m\u001b[0;34m\u001b[0m\u001b[0m\n",
            "\u001b[0;32m/usr/local/lib/python3.8/dist-packages/pandas/core/series.py\u001b[0m in \u001b[0;36m__getitem__\u001b[0;34m(self, key)\u001b[0m\n\u001b[1;32m    940\u001b[0m \u001b[0;34m\u001b[0m\u001b[0m\n\u001b[1;32m    941\u001b[0m         \u001b[0;32melif\u001b[0m \u001b[0mkey_is_scalar\u001b[0m\u001b[0;34m:\u001b[0m\u001b[0;34m\u001b[0m\u001b[0;34m\u001b[0m\u001b[0m\n\u001b[0;32m--> 942\u001b[0;31m             \u001b[0;32mreturn\u001b[0m \u001b[0mself\u001b[0m\u001b[0;34m.\u001b[0m\u001b[0m_get_value\u001b[0m\u001b[0;34m(\u001b[0m\u001b[0mkey\u001b[0m\u001b[0;34m)\u001b[0m\u001b[0;34m\u001b[0m\u001b[0;34m\u001b[0m\u001b[0m\n\u001b[0m\u001b[1;32m    943\u001b[0m \u001b[0;34m\u001b[0m\u001b[0m\n\u001b[1;32m    944\u001b[0m         \u001b[0;32mif\u001b[0m \u001b[0mis_hashable\u001b[0m\u001b[0;34m(\u001b[0m\u001b[0mkey\u001b[0m\u001b[0;34m)\u001b[0m\u001b[0;34m:\u001b[0m\u001b[0;34m\u001b[0m\u001b[0;34m\u001b[0m\u001b[0m\n",
            "\u001b[0;32m/usr/local/lib/python3.8/dist-packages/pandas/core/series.py\u001b[0m in \u001b[0;36m_get_value\u001b[0;34m(self, label, takeable)\u001b[0m\n\u001b[1;32m   1049\u001b[0m \u001b[0;34m\u001b[0m\u001b[0m\n\u001b[1;32m   1050\u001b[0m         \u001b[0;31m# Similar to Index.get_value, but we do not fall back to positional\u001b[0m\u001b[0;34m\u001b[0m\u001b[0;34m\u001b[0m\u001b[0;34m\u001b[0m\u001b[0m\n\u001b[0;32m-> 1051\u001b[0;31m         \u001b[0mloc\u001b[0m \u001b[0;34m=\u001b[0m \u001b[0mself\u001b[0m\u001b[0;34m.\u001b[0m\u001b[0mindex\u001b[0m\u001b[0;34m.\u001b[0m\u001b[0mget_loc\u001b[0m\u001b[0;34m(\u001b[0m\u001b[0mlabel\u001b[0m\u001b[0;34m)\u001b[0m\u001b[0;34m\u001b[0m\u001b[0;34m\u001b[0m\u001b[0m\n\u001b[0m\u001b[1;32m   1052\u001b[0m         \u001b[0;32mreturn\u001b[0m \u001b[0mself\u001b[0m\u001b[0;34m.\u001b[0m\u001b[0mindex\u001b[0m\u001b[0;34m.\u001b[0m\u001b[0m_get_values_for_loc\u001b[0m\u001b[0;34m(\u001b[0m\u001b[0mself\u001b[0m\u001b[0;34m,\u001b[0m \u001b[0mloc\u001b[0m\u001b[0;34m,\u001b[0m \u001b[0mlabel\u001b[0m\u001b[0;34m)\u001b[0m\u001b[0;34m\u001b[0m\u001b[0;34m\u001b[0m\u001b[0m\n\u001b[1;32m   1053\u001b[0m \u001b[0;34m\u001b[0m\u001b[0m\n",
            "\u001b[0;32m/usr/local/lib/python3.8/dist-packages/pandas/core/indexes/base.py\u001b[0m in \u001b[0;36mget_loc\u001b[0;34m(self, key, method, tolerance)\u001b[0m\n\u001b[1;32m   3361\u001b[0m                 \u001b[0;32mreturn\u001b[0m \u001b[0mself\u001b[0m\u001b[0;34m.\u001b[0m\u001b[0m_engine\u001b[0m\u001b[0;34m.\u001b[0m\u001b[0mget_loc\u001b[0m\u001b[0;34m(\u001b[0m\u001b[0mcasted_key\u001b[0m\u001b[0;34m)\u001b[0m\u001b[0;34m\u001b[0m\u001b[0;34m\u001b[0m\u001b[0m\n\u001b[1;32m   3362\u001b[0m             \u001b[0;32mexcept\u001b[0m \u001b[0mKeyError\u001b[0m \u001b[0;32mas\u001b[0m \u001b[0merr\u001b[0m\u001b[0;34m:\u001b[0m\u001b[0;34m\u001b[0m\u001b[0;34m\u001b[0m\u001b[0m\n\u001b[0;32m-> 3363\u001b[0;31m                 \u001b[0;32mraise\u001b[0m \u001b[0mKeyError\u001b[0m\u001b[0;34m(\u001b[0m\u001b[0mkey\u001b[0m\u001b[0;34m)\u001b[0m \u001b[0;32mfrom\u001b[0m \u001b[0merr\u001b[0m\u001b[0;34m\u001b[0m\u001b[0;34m\u001b[0m\u001b[0m\n\u001b[0m\u001b[1;32m   3364\u001b[0m \u001b[0;34m\u001b[0m\u001b[0m\n\u001b[1;32m   3365\u001b[0m         \u001b[0;32mif\u001b[0m \u001b[0mis_scalar\u001b[0m\u001b[0;34m(\u001b[0m\u001b[0mkey\u001b[0m\u001b[0;34m)\u001b[0m \u001b[0;32mand\u001b[0m \u001b[0misna\u001b[0m\u001b[0;34m(\u001b[0m\u001b[0mkey\u001b[0m\u001b[0;34m)\u001b[0m \u001b[0;32mand\u001b[0m \u001b[0;32mnot\u001b[0m \u001b[0mself\u001b[0m\u001b[0;34m.\u001b[0m\u001b[0mhasnans\u001b[0m\u001b[0;34m:\u001b[0m\u001b[0;34m\u001b[0m\u001b[0;34m\u001b[0m\u001b[0m\n",
            "\u001b[0;31mKeyError\u001b[0m: 0"
          ]
        }
      ],
      "source": [
        "cleanTweet_2 = cleanTweet\n",
        "print(type(cleanTweet_2),type(cleanTweet_2[0]))\n",
        "cleanTweet_2"
      ]
    },
    {
      "cell_type": "code",
      "execution_count": null,
      "metadata": {
        "id": "xqAsQwUyZ-2P"
      },
      "outputs": [],
      "source": [
        "cleanTweet_2.values.tolist()"
      ]
    },
    {
      "cell_type": "code",
      "execution_count": null,
      "metadata": {
        "id": "8rUJSP2iZKMQ"
      },
      "outputs": [],
      "source": [
        "# cleanTweet= clean_tweet_df.iloc[:, :1]\n",
        "# print(type(cleanTweet[0]))\n",
        "# cleanTweet"
      ]
    },
    {
      "cell_type": "code",
      "execution_count": null,
      "metadata": {
        "id": "XFl1wR_GcK39"
      },
      "outputs": [],
      "source": [
        "# enpty =[]\n",
        "# for i in cleanTweet_2.values.tolist():\n",
        "#   enpty = enpty + i\n",
        "\n",
        "# print(enpty)"
      ]
    },
    {
      "cell_type": "code",
      "execution_count": 27,
      "metadata": {
        "colab": {
          "base_uri": "https://localhost:8080/"
        },
        "id": "8NdoJGPB2-MY",
        "outputId": "8785371f-76fc-4410-d505-9dc9fddc00d6"
      },
      "outputs": [
        {
          "name": "stdout",
          "output_type": "stream",
          "text": [
            "単語の総個数：207180\n"
          ]
        }
      ],
      "source": [
        "#@title 2.2.2 単語のデータベースを作成\n",
        "# 40,000行のツイートをすべて半角スペースで連結して、1つの文字列にする\n",
        "all_text = ' '.join(clean_tweet_df['tokens_transformed'].values.tolist())\n",
        "# 上記の1つの文字列を半角スペースで分割して、たくさんの単語リストにする\n",
        "many_words = all_text.split()\n",
        "# 同じ単語も出現タイミングによって別々にカウントする\n",
        "print(\"単語の総個数：\"+str(len(many_words)))"
      ]
    },
    {
      "cell_type": "code",
      "execution_count": 28,
      "metadata": {
        "colab": {
          "base_uri": "https://localhost:8080/",
          "height": 191
        },
        "id": "X0R0bRis9MuA",
        "outputId": "715a1178-087e-4ebe-8e5c-a3a97c54aa42"
      },
      "outputs": [
        {
          "name": "stdout",
          "output_type": "stream",
          "text": [
            "登場単語の種類：17908語\n"
          ]
        },
        {
          "data": {
            "text/html": [
              "\n",
              "  <div id=\"df-c2d3020f-3a4b-4aa8-bb36-0cca927249a7\">\n",
              "    <div class=\"colab-df-container\">\n",
              "      <div>\n",
              "<style scoped>\n",
              "    .dataframe tbody tr th:only-of-type {\n",
              "        vertical-align: middle;\n",
              "    }\n",
              "\n",
              "    .dataframe tbody tr th {\n",
              "        vertical-align: top;\n",
              "    }\n",
              "\n",
              "    .dataframe thead th {\n",
              "        text-align: right;\n",
              "    }\n",
              "</style>\n",
              "<table border=\"1\" class=\"dataframe\">\n",
              "  <thead>\n",
              "    <tr style=\"text-align: right;\">\n",
              "      <th></th>\n",
              "      <th>to</th>\n",
              "      <th>and</th>\n",
              "      <th>have</th>\n",
              "      <th>day</th>\n",
              "      <th>get</th>\n",
              "      <th>so</th>\n",
              "      <th>go</th>\n",
              "      <th>just</th>\n",
              "      <th>but</th>\n",
              "      <th>good</th>\n",
              "      <th>...</th>\n",
              "      <th>rught</th>\n",
              "      <th>shippuuden</th>\n",
              "      <th>meaner</th>\n",
              "      <th>polka</th>\n",
              "      <th>glam</th>\n",
              "      <th>wxa</th>\n",
              "      <th>obnoxiou</th>\n",
              "      <th>bananabrain</th>\n",
              "      <th>oepn</th>\n",
              "      <th>godzilla</th>\n",
              "    </tr>\n",
              "  </thead>\n",
              "  <tbody>\n",
              "    <tr>\n",
              "      <th>count</th>\n",
              "      <td>7553</td>\n",
              "      <td>4211</td>\n",
              "      <td>3366</td>\n",
              "      <td>2534</td>\n",
              "      <td>2418</td>\n",
              "      <td>2219</td>\n",
              "      <td>2047</td>\n",
              "      <td>1783</td>\n",
              "      <td>1762</td>\n",
              "      <td>1630</td>\n",
              "      <td>...</td>\n",
              "      <td>1</td>\n",
              "      <td>1</td>\n",
              "      <td>1</td>\n",
              "      <td>1</td>\n",
              "      <td>1</td>\n",
              "      <td>1</td>\n",
              "      <td>1</td>\n",
              "      <td>1</td>\n",
              "      <td>1</td>\n",
              "      <td>1</td>\n",
              "    </tr>\n",
              "  </tbody>\n",
              "</table>\n",
              "<p>1 rows × 17908 columns</p>\n",
              "</div>\n",
              "      <button class=\"colab-df-convert\" onclick=\"convertToInteractive('df-c2d3020f-3a4b-4aa8-bb36-0cca927249a7')\"\n",
              "              title=\"Convert this dataframe to an interactive table.\"\n",
              "              style=\"display:none;\">\n",
              "        \n",
              "  <svg xmlns=\"http://www.w3.org/2000/svg\" height=\"24px\"viewBox=\"0 0 24 24\"\n",
              "       width=\"24px\">\n",
              "    <path d=\"M0 0h24v24H0V0z\" fill=\"none\"/>\n",
              "    <path d=\"M18.56 5.44l.94 2.06.94-2.06 2.06-.94-2.06-.94-.94-2.06-.94 2.06-2.06.94zm-11 1L8.5 8.5l.94-2.06 2.06-.94-2.06-.94L8.5 2.5l-.94 2.06-2.06.94zm10 10l.94 2.06.94-2.06 2.06-.94-2.06-.94-.94-2.06-.94 2.06-2.06.94z\"/><path d=\"M17.41 7.96l-1.37-1.37c-.4-.4-.92-.59-1.43-.59-.52 0-1.04.2-1.43.59L10.3 9.45l-7.72 7.72c-.78.78-.78 2.05 0 2.83L4 21.41c.39.39.9.59 1.41.59.51 0 1.02-.2 1.41-.59l7.78-7.78 2.81-2.81c.8-.78.8-2.07 0-2.86zM5.41 20L4 18.59l7.72-7.72 1.47 1.35L5.41 20z\"/>\n",
              "  </svg>\n",
              "      </button>\n",
              "      \n",
              "  <style>\n",
              "    .colab-df-container {\n",
              "      display:flex;\n",
              "      flex-wrap:wrap;\n",
              "      gap: 12px;\n",
              "    }\n",
              "\n",
              "    .colab-df-convert {\n",
              "      background-color: #E8F0FE;\n",
              "      border: none;\n",
              "      border-radius: 50%;\n",
              "      cursor: pointer;\n",
              "      display: none;\n",
              "      fill: #1967D2;\n",
              "      height: 32px;\n",
              "      padding: 0 0 0 0;\n",
              "      width: 32px;\n",
              "    }\n",
              "\n",
              "    .colab-df-convert:hover {\n",
              "      background-color: #E2EBFA;\n",
              "      box-shadow: 0px 1px 2px rgba(60, 64, 67, 0.3), 0px 1px 3px 1px rgba(60, 64, 67, 0.15);\n",
              "      fill: #174EA6;\n",
              "    }\n",
              "\n",
              "    [theme=dark] .colab-df-convert {\n",
              "      background-color: #3B4455;\n",
              "      fill: #D2E3FC;\n",
              "    }\n",
              "\n",
              "    [theme=dark] .colab-df-convert:hover {\n",
              "      background-color: #434B5C;\n",
              "      box-shadow: 0px 1px 3px 1px rgba(0, 0, 0, 0.15);\n",
              "      filter: drop-shadow(0px 1px 2px rgba(0, 0, 0, 0.3));\n",
              "      fill: #FFFFFF;\n",
              "    }\n",
              "  </style>\n",
              "\n",
              "      <script>\n",
              "        const buttonEl =\n",
              "          document.querySelector('#df-c2d3020f-3a4b-4aa8-bb36-0cca927249a7 button.colab-df-convert');\n",
              "        buttonEl.style.display =\n",
              "          google.colab.kernel.accessAllowed ? 'block' : 'none';\n",
              "\n",
              "        async function convertToInteractive(key) {\n",
              "          const element = document.querySelector('#df-c2d3020f-3a4b-4aa8-bb36-0cca927249a7');\n",
              "          const dataTable =\n",
              "            await google.colab.kernel.invokeFunction('convertToInteractive',\n",
              "                                                     [key], {});\n",
              "          if (!dataTable) return;\n",
              "\n",
              "          const docLinkHtml = 'Like what you see? Visit the ' +\n",
              "            '<a target=\"_blank\" href=https://colab.research.google.com/notebooks/data_table.ipynb>data table notebook</a>'\n",
              "            + ' to learn more about interactive tables.';\n",
              "          element.innerHTML = '';\n",
              "          dataTable['output_type'] = 'display_data';\n",
              "          await google.colab.output.renderOutput(dataTable, element);\n",
              "          const docLink = document.createElement('div');\n",
              "          docLink.innerHTML = docLinkHtml;\n",
              "          element.appendChild(docLink);\n",
              "        }\n",
              "      </script>\n",
              "    </div>\n",
              "  </div>\n",
              "  "
            ],
            "text/plain": [
              "         to   and  have   day   get    so    go  just   but  good  ...  rught  \\\n",
              "count  7553  4211  3366  2534  2418  2219  2047  1783  1762  1630  ...      1   \n",
              "\n",
              "       shippuuden  meaner  polka  glam  wxa  obnoxiou  bananabrain  oepn  \\\n",
              "count           1       1      1     1    1         1            1     1   \n",
              "\n",
              "       godzilla  \n",
              "count         1  \n",
              "\n",
              "[1 rows x 17908 columns]"
            ]
          },
          "execution_count": 28,
          "metadata": {},
          "output_type": "execute_result"
        }
      ],
      "source": [
        "#@title 2.2.2.2 単語ごとの出現回数をカウント\n",
        "from collections import Counter\n",
        "counts = Counter(many_words)\n",
        "print(\"登場単語の種類：\"+ str(len(counts))+\"語\")\n",
        "\n",
        "# 単語ごとの出現回数を見たいので、データフレームに変換\n",
        "counts_df = pd.DataFrame.from_dict(counts, orient='index', columns=['count'])\n",
        "counts_df_sorted = counts_df.sort_values('count', ascending=False)\n",
        "\n",
        "transposed_df = counts_df_sorted.transpose()\n",
        "transposed_df.head(20)"
      ]
    },
    {
      "cell_type": "code",
      "execution_count": 29,
      "metadata": {
        "colab": {
          "base_uri": "https://localhost:8080/"
        },
        "id": "hhInf3sx5ZxJ",
        "outputId": "389f9137-da80-4ce5-d5b7-9b19aa3af1d7"
      },
      "outputs": [
        {
          "name": "stdout",
          "output_type": "stream",
          "text": [
            "sorry least friday\n",
            "↓単語ごと数値化\n",
            "[113, 316, 205]\n"
          ]
        }
      ],
      "source": [
        "#@title 2.2.3 単語の数値化\n",
        "# Counterオブジェクトの単語データベースを、降順のリスト型に変換\n",
        "vocab = sorted(counts, key=counts.get, reverse=True)\n",
        "\n",
        "# 単語ごとにIDを割当てた辞書を作成\n",
        "vocab_to_int = {word: ii for ii, word in enumerate(vocab, 1)}\n",
        "\n",
        "# リスト内包表記を使って各単語をIDに変換したリスト tweet_ints を作成\n",
        "tweet_ints = []\n",
        "for each in clean_tweet_df['tokens_transformed']:\n",
        "    tweet_ints.append([vocab_to_int[word] for word in each.split()])\n",
        "\n",
        "# print(cleanTweet[0])\n",
        "print(clean_tweet_df['tokens_transformed'].iloc[4])  \n",
        "print(\"↓単語ごと数値化\")  \n",
        "# print(tweet_ints)\n",
        "print(tweet_ints[4])"
      ]
    },
    {
      "cell_type": "code",
      "execution_count": 30,
      "metadata": {
        "colab": {
          "base_uri": "https://localhost:8080/",
          "height": 35
        },
        "id": "Y8h-dxlb5tgp",
        "outputId": "ad30ec97-600d-4539-9fcc-d4e6bd3772a0"
      },
      "outputs": [
        {
          "data": {
            "application/vnd.google.colaboratory.intrinsic+json": {
              "type": "string"
            },
            "text/plain": [
              "'layin n bed headache ughhhh waitin call'"
            ]
          },
          "execution_count": 30,
          "metadata": {},
          "output_type": "execute_result"
        }
      ],
      "source": [
        "cleanTweet.iloc[0]"
      ]
    },
    {
      "cell_type": "code",
      "execution_count": 31,
      "metadata": {
        "colab": {
          "base_uri": "https://localhost:8080/"
        },
        "id": "G-tVjnaa6ULq",
        "outputId": "daa8c037-6856-450e-f9b0-e5447c21d526"
      },
      "outputs": [
        {
          "name": "stdout",
          "output_type": "stream",
          "text": [
            "Zero-length reviews（単語数が0個のツイート数）: 6\n",
            "Maximum review length（単語数の最大値）: 28\n"
          ]
        }
      ],
      "source": [
        "#@title 2.2.4 列の長さを確認\n",
        "# 各ツイートが持っている不揃いな状態の単語数を調査\n",
        "tweet_len = Counter([len(x) for x in tweet_ints])\n",
        "seq_len = max(tweet_len)\n",
        "print(\"Zero-length reviews（単語数が0個のツイート数）: {}\".format(tweet_len[0]))\n",
        "print(\"Maximum review length（単語数の最大値）: {}\".format(seq_len))"
      ]
    },
    {
      "cell_type": "code",
      "execution_count": 32,
      "metadata": {
        "colab": {
          "base_uri": "https://localhost:8080/"
        },
        "id": "CaZsf3WAfzYW",
        "outputId": "7893221c-a3da-4c83-eae8-0b5fca48b080"
      },
      "outputs": [
        {
          "name": "stdout",
          "output_type": "stream",
          "text": [
            "clean_tweet_df（欠損値削除後のデータフレーム）：(21132, 4)\n"
          ]
        }
      ],
      "source": [
        "#@title 2.2.4.1 欠損値の削除\n",
        "# テキストクリーニングで単語数が0になっている行を飛ばした「index番号リスト」を作成\n",
        "no_missing_idx  = [idx for idx,tweet in enumerate(tweet_ints) if len(tweet) > 0]\n",
        "clean_tweet_df = clean_tweet_df.iloc[no_missing_idx]\n",
        "tweet_ints = [tweet for tweet in tweet_ints if len(tweet) > 0]\n",
        "\n",
        "print(\"clean_tweet_df（欠損値削除後のデータフレーム）：\" + str(clean_tweet_df.shape))"
      ]
    },
    {
      "cell_type": "code",
      "execution_count": 33,
      "metadata": {
        "colab": {
          "base_uri": "https://localhost:8080/"
        },
        "id": "-eADlAv5zsIL",
        "outputId": "88529333-4ed3-4da7-97ca-07fe63a66ece"
      },
      "outputs": [
        {
          "name": "stdout",
          "output_type": "stream",
          "text": [
            "numpy配列の形：(21132, 28)\n"
          ]
        }
      ],
      "source": [
        "#@title 2.2.5.4 列数を揃えるためにi行ごとの数値化した単語を右から書いた形式に変更\n",
        "# 右詰めの理由：どちらでも良いが、今回は右詰め\n",
        "# Point: 長さがそろっていることが重要\n",
        "# tweet_ints = [tweet for tweet in tweet_ints if len(tweet) > 0]\n",
        "# np.zeros：準備として39920*39の0だけが入った、np配列を作成\n",
        "features = np.zeros((len(tweet_ints), seq_len), dtype=int)\n",
        "# iには0から順番に入っていく。rowにはtweet_ints（単語を数値に置き換えたもの）が入っていく\n",
        "for i, row in enumerate(tweet_ints):\n",
        "    # iは行の指定に使われる。i番目のデータを操作する。\n",
        "    # -len(row):には単語数が入る。-で右から単語数個以降の要素に、右辺の要素を入れる\n",
        "    features[i, -len(row):] = np.array(row)[:seq_len]\n",
        "print(\"numpy配列の形：\"+ str(features.shape))"
      ]
    },
    {
      "cell_type": "code",
      "execution_count": 34,
      "metadata": {
        "colab": {
          "base_uri": "https://localhost:8080/"
        },
        "id": "PPVgz5aDOdN7",
        "outputId": "94277b78-a278-4de8-9ba3-bcc8e14eb89b"
      },
      "outputs": [
        {
          "name": "stdout",
          "output_type": "stream",
          "text": [
            "[[   0    0    0    0    0    0    0    0    0    0    0    0    0    0    0    0    0    0    0    0    0 7404  193  114  437 2560 1830  162]\n",
            " [   0    0    0    0    0    0    0    0    0    0    0    0    0    0    0    0    0    0    0    0    0    0    0    0 1831 3344 1488  205]\n",
            " [   0    0    0    0    0    0    0    0    0    0    0    0  129  110    9   14   38  195   80  151   40    9  911   16  196   41   40 7405]\n",
            " [   0    0    0    0    0    0    0    0    0    0    0    0    0    0    0    0    0    0    0    0    0    0    0    0    0 7406   11   31]]\n",
            "中略\n",
            "[[    0     0     0     0     0     0     0     0     0     0     0     0     0     0     0     0     0     0     0     0     0     0     0     0     0 17904   142  5552]\n",
            " [    0     0     0     0     0     0     0     0     0     0     0     0     0     0     0     0     0     0     0     0     0     0     0    15    23     4    13    11]\n",
            " [    0     0     0     0     0     0     0     0     0     0     0    15    23     4     1    13   308    17    37   599   104   146   139    63   801     1   260     4]\n",
            " [    0     0     0     0     0     0     0     0     0     0     0     0     0  3970   268   142   993    17    46   423   837   389   781    43 17905  1175   898   318]\n",
            " [    0     0     0     0     0     0     0     0     0     0     0     0     0  7386   653  2684  1807     2     3    27   554  3008   328   821  1017 17906 17907 17908]]\n"
          ]
        }
      ],
      "source": [
        "np.set_printoptions(threshold=np.inf, linewidth=240)  # numpyの出力オプションを横長に変更\n",
        "print(features[0:4])\n",
        "print(\"中略\")\n",
        "print(features[len(tweet_ints)-5:len(tweet_ints)])"
      ]
    },
    {
      "cell_type": "code",
      "execution_count": 35,
      "metadata": {
        "colab": {
          "base_uri": "https://localhost:8080/"
        },
        "id": "vZeE58WjAPop",
        "outputId": "1c00200a-abef-4335-813f-84154df9735f"
      },
      "outputs": [
        {
          "name": "stdout",
          "output_type": "stream",
          "text": [
            "<class 'list'> <class 'list'>\n",
            "\n",
            "まずは以下の2つの配列を作成\n",
            "['happiness', 'sadness', 'love', 'surprise', 'fun', 'relief', 'hate', 'anger']\n",
            "[0, 1, 2, 3, 4, 5, 6, 7]\n"
          ]
        }
      ],
      "source": [
        "#@title 2.4 感情13種類の数値化\n",
        "# unique()：データフレームの指定列の重複を削除\n",
        "# labels = clean_tweet_df[\"sentiment\"].unique()\n",
        "labels = index_list\n",
        "# 正解ラベルの数（13）をrange(0～12)で作成。\"13\"ではなく\"13個の数値\"なのがポイント\n",
        "num = list(range(len(labels)))\n",
        "\n",
        "print(type(labels),type(num))\n",
        "print(\"\\nまずは以下の2つの配列を作成\")\n",
        "print(labels)\n",
        "print(num)"
      ]
    },
    {
      "cell_type": "code",
      "execution_count": 36,
      "metadata": {
        "colab": {
          "base_uri": "https://localhost:8080/"
        },
        "id": "1FPRwuBMA-Rc",
        "outputId": "a9cfc94f-11a7-44eb-a80f-c2f96bbcf86a"
      },
      "outputs": [
        {
          "name": "stdout",
          "output_type": "stream",
          "text": [
            "{'happiness': 0, 'sadness': 1, 'love': 2, 'surprise': 3, 'fun': 4, 'relief': 5, 'hate': 6, 'anger': 7}\n"
          ]
        }
      ],
      "source": [
        "#@title 2.4.2 次にmap()を行うために辞書化\n",
        "# worryと0を取り出して...という処理を12回繰り返す。少ない方のリストに合わされる\n",
        "label_dic = dict(zip(labels,num))\n",
        "print(label_dic)"
      ]
    },
    {
      "cell_type": "code",
      "execution_count": 37,
      "metadata": {
        "id": "LQjH-h5-DUaV"
      },
      "outputs": [],
      "source": [
        "#辞書を作る理由：新しい列名を作る。どんなデータを入れるか。既存の文字列のデータに対して、mapで対象する数値を指定していきたい\n",
        "#map関数を使うためには、辞書型か関数じゃないと引数に指定できない\n",
        "#このやり方がシンプルにできそうなので、今回はこのようにしている"
      ]
    },
    {
      "cell_type": "code",
      "execution_count": 38,
      "metadata": {
        "colab": {
          "base_uri": "https://localhost:8080/",
          "height": 768
        },
        "id": "xN_PO9_qBMPa",
        "outputId": "af90fa26-efb2-4a8d-a783-3bde8f6bbc87"
      },
      "outputs": [
        {
          "name": "stderr",
          "output_type": "stream",
          "text": [
            "<ipython-input-38-1fb98e01d7f9>:1: SettingWithCopyWarning: \n",
            "A value is trying to be set on a copy of a slice from a DataFrame.\n",
            "Try using .loc[row_indexer,col_indexer] = value instead\n",
            "\n",
            "See the caveats in the documentation: https://pandas.pydata.org/pandas-docs/stable/user_guide/indexing.html#returning-a-view-versus-a-copy\n",
            "  clean_tweet_df[\"sentiment_label\"] = clean_tweet_df[\"sentiment\"].map(label_dic)\n"
          ]
        },
        {
          "data": {
            "text/html": [
              "\n",
              "  <div id=\"df-320af4e0-ec78-4462-b124-2102236ea5ed\">\n",
              "    <div class=\"colab-df-container\">\n",
              "      <div>\n",
              "<style scoped>\n",
              "    .dataframe tbody tr th:only-of-type {\n",
              "        vertical-align: middle;\n",
              "    }\n",
              "\n",
              "    .dataframe tbody tr th {\n",
              "        vertical-align: top;\n",
              "    }\n",
              "\n",
              "    .dataframe thead th {\n",
              "        text-align: right;\n",
              "    }\n",
              "</style>\n",
              "<table border=\"1\" class=\"dataframe\">\n",
              "  <thead>\n",
              "    <tr style=\"text-align: right;\">\n",
              "      <th></th>\n",
              "      <th>content</th>\n",
              "      <th>sentiment</th>\n",
              "      <th>tokens</th>\n",
              "      <th>tokens_transformed</th>\n",
              "      <th>sentiment_label</th>\n",
              "    </tr>\n",
              "  </thead>\n",
              "  <tbody>\n",
              "    <tr>\n",
              "      <th>1</th>\n",
              "      <td>layin n bed headache ughhhh waitin call</td>\n",
              "      <td>sadness</td>\n",
              "      <td>[layin, n, bed, headache, ughhhh, waitin, call]</td>\n",
              "      <td>layin n bed headache ughhhh waitin call</td>\n",
              "      <td>1</td>\n",
              "    </tr>\n",
              "    <tr>\n",
              "      <th>3</th>\n",
              "      <td>funeral ceremony gloomy friday</td>\n",
              "      <td>sadness</td>\n",
              "      <td>[funeral, ceremony, gloomy, friday]</td>\n",
              "      <td>funeral ceremony gloomy friday</td>\n",
              "      <td>1</td>\n",
              "    </tr>\n",
              "    <tr>\n",
              "      <th>7</th>\n",
              "      <td>should sleep but not thinking old friend who w...</td>\n",
              "      <td>sadness</td>\n",
              "      <td>[should, sleep, but, not, think, old, friend, ...</td>\n",
              "      <td>should sleep but not think old friend who want...</td>\n",
              "      <td>1</td>\n",
              "    </tr>\n",
              "    <tr>\n",
              "      <th>9</th>\n",
              "      <td>charlene love miss</td>\n",
              "      <td>sadness</td>\n",
              "      <td>[charlene, love, miss]</td>\n",
              "      <td>charlene love mis</td>\n",
              "      <td>1</td>\n",
              "    </tr>\n",
              "    <tr>\n",
              "      <th>10</th>\n",
              "      <td>sorry least friday</td>\n",
              "      <td>sadness</td>\n",
              "      <td>[sorry, least, friday]</td>\n",
              "      <td>sorry least friday</td>\n",
              "      <td>1</td>\n",
              "    </tr>\n",
              "    <tr>\n",
              "      <th>...</th>\n",
              "      <td>...</td>\n",
              "      <td>...</td>\n",
              "      <td>...</td>\n",
              "      <td>...</td>\n",
              "      <td>...</td>\n",
              "    </tr>\n",
              "    <tr>\n",
              "      <th>39994</th>\n",
              "      <td>succesfully following tayla</td>\n",
              "      <td>happiness</td>\n",
              "      <td>[succesfully, follow, tayla]</td>\n",
              "      <td>succesfully follow tayla</td>\n",
              "      <td>0</td>\n",
              "    </tr>\n",
              "    <tr>\n",
              "      <th>39996</th>\n",
              "      <td>happy mothers day all love</td>\n",
              "      <td>love</td>\n",
              "      <td>[happy, mother, day, all, love]</td>\n",
              "      <td>happy mother day all love</td>\n",
              "      <td>2</td>\n",
              "    </tr>\n",
              "    <tr>\n",
              "      <th>39997</th>\n",
              "      <td>happy mother day to all mommies out there woma...</td>\n",
              "      <td>love</td>\n",
              "      <td>[happy, mother, day, to, all, mommy, out, ther...</td>\n",
              "      <td>happy mother day to all mommy out there woman ...</td>\n",
              "      <td>2</td>\n",
              "    </tr>\n",
              "    <tr>\n",
              "      <th>39998</th>\n",
              "      <td>wassup beautiful follow peep out new hit singl...</td>\n",
              "      <td>happiness</td>\n",
              "      <td>[wassup, beautiful, follow, peep, out, new, hi...</td>\n",
              "      <td>wassup beautiful follow peep out new hit singl...</td>\n",
              "      <td>0</td>\n",
              "    </tr>\n",
              "    <tr>\n",
              "      <th>39999</th>\n",
              "      <td>bullet train tokyo gf and have been visiting j...</td>\n",
              "      <td>love</td>\n",
              "      <td>[bullet, train, tokyo, gf, and, have, be, visi...</td>\n",
              "      <td>bullet train tokyo gf and have be visit japan ...</td>\n",
              "      <td>2</td>\n",
              "    </tr>\n",
              "  </tbody>\n",
              "</table>\n",
              "<p>21132 rows × 5 columns</p>\n",
              "</div>\n",
              "      <button class=\"colab-df-convert\" onclick=\"convertToInteractive('df-320af4e0-ec78-4462-b124-2102236ea5ed')\"\n",
              "              title=\"Convert this dataframe to an interactive table.\"\n",
              "              style=\"display:none;\">\n",
              "        \n",
              "  <svg xmlns=\"http://www.w3.org/2000/svg\" height=\"24px\"viewBox=\"0 0 24 24\"\n",
              "       width=\"24px\">\n",
              "    <path d=\"M0 0h24v24H0V0z\" fill=\"none\"/>\n",
              "    <path d=\"M18.56 5.44l.94 2.06.94-2.06 2.06-.94-2.06-.94-.94-2.06-.94 2.06-2.06.94zm-11 1L8.5 8.5l.94-2.06 2.06-.94-2.06-.94L8.5 2.5l-.94 2.06-2.06.94zm10 10l.94 2.06.94-2.06 2.06-.94-2.06-.94-.94-2.06-.94 2.06-2.06.94z\"/><path d=\"M17.41 7.96l-1.37-1.37c-.4-.4-.92-.59-1.43-.59-.52 0-1.04.2-1.43.59L10.3 9.45l-7.72 7.72c-.78.78-.78 2.05 0 2.83L4 21.41c.39.39.9.59 1.41.59.51 0 1.02-.2 1.41-.59l7.78-7.78 2.81-2.81c.8-.78.8-2.07 0-2.86zM5.41 20L4 18.59l7.72-7.72 1.47 1.35L5.41 20z\"/>\n",
              "  </svg>\n",
              "      </button>\n",
              "      \n",
              "  <style>\n",
              "    .colab-df-container {\n",
              "      display:flex;\n",
              "      flex-wrap:wrap;\n",
              "      gap: 12px;\n",
              "    }\n",
              "\n",
              "    .colab-df-convert {\n",
              "      background-color: #E8F0FE;\n",
              "      border: none;\n",
              "      border-radius: 50%;\n",
              "      cursor: pointer;\n",
              "      display: none;\n",
              "      fill: #1967D2;\n",
              "      height: 32px;\n",
              "      padding: 0 0 0 0;\n",
              "      width: 32px;\n",
              "    }\n",
              "\n",
              "    .colab-df-convert:hover {\n",
              "      background-color: #E2EBFA;\n",
              "      box-shadow: 0px 1px 2px rgba(60, 64, 67, 0.3), 0px 1px 3px 1px rgba(60, 64, 67, 0.15);\n",
              "      fill: #174EA6;\n",
              "    }\n",
              "\n",
              "    [theme=dark] .colab-df-convert {\n",
              "      background-color: #3B4455;\n",
              "      fill: #D2E3FC;\n",
              "    }\n",
              "\n",
              "    [theme=dark] .colab-df-convert:hover {\n",
              "      background-color: #434B5C;\n",
              "      box-shadow: 0px 1px 3px 1px rgba(0, 0, 0, 0.15);\n",
              "      filter: drop-shadow(0px 1px 2px rgba(0, 0, 0, 0.3));\n",
              "      fill: #FFFFFF;\n",
              "    }\n",
              "  </style>\n",
              "\n",
              "      <script>\n",
              "        const buttonEl =\n",
              "          document.querySelector('#df-320af4e0-ec78-4462-b124-2102236ea5ed button.colab-df-convert');\n",
              "        buttonEl.style.display =\n",
              "          google.colab.kernel.accessAllowed ? 'block' : 'none';\n",
              "\n",
              "        async function convertToInteractive(key) {\n",
              "          const element = document.querySelector('#df-320af4e0-ec78-4462-b124-2102236ea5ed');\n",
              "          const dataTable =\n",
              "            await google.colab.kernel.invokeFunction('convertToInteractive',\n",
              "                                                     [key], {});\n",
              "          if (!dataTable) return;\n",
              "\n",
              "          const docLinkHtml = 'Like what you see? Visit the ' +\n",
              "            '<a target=\"_blank\" href=https://colab.research.google.com/notebooks/data_table.ipynb>data table notebook</a>'\n",
              "            + ' to learn more about interactive tables.';\n",
              "          element.innerHTML = '';\n",
              "          dataTable['output_type'] = 'display_data';\n",
              "          await google.colab.output.renderOutput(dataTable, element);\n",
              "          const docLink = document.createElement('div');\n",
              "          docLink.innerHTML = docLinkHtml;\n",
              "          element.appendChild(docLink);\n",
              "        }\n",
              "      </script>\n",
              "    </div>\n",
              "  </div>\n",
              "  "
            ],
            "text/plain": [
              "                                                 content  sentiment  \\\n",
              "1                layin n bed headache ughhhh waitin call    sadness   \n",
              "3                         funeral ceremony gloomy friday    sadness   \n",
              "7      should sleep but not thinking old friend who w...    sadness   \n",
              "9                                     charlene love miss    sadness   \n",
              "10                                    sorry least friday    sadness   \n",
              "...                                                  ...        ...   \n",
              "39994                        succesfully following tayla  happiness   \n",
              "39996                         happy mothers day all love       love   \n",
              "39997  happy mother day to all mommies out there woma...       love   \n",
              "39998  wassup beautiful follow peep out new hit singl...  happiness   \n",
              "39999  bullet train tokyo gf and have been visiting j...       love   \n",
              "\n",
              "                                                  tokens  \\\n",
              "1        [layin, n, bed, headache, ughhhh, waitin, call]   \n",
              "3                    [funeral, ceremony, gloomy, friday]   \n",
              "7      [should, sleep, but, not, think, old, friend, ...   \n",
              "9                                 [charlene, love, miss]   \n",
              "10                                [sorry, least, friday]   \n",
              "...                                                  ...   \n",
              "39994                       [succesfully, follow, tayla]   \n",
              "39996                    [happy, mother, day, all, love]   \n",
              "39997  [happy, mother, day, to, all, mommy, out, ther...   \n",
              "39998  [wassup, beautiful, follow, peep, out, new, hi...   \n",
              "39999  [bullet, train, tokyo, gf, and, have, be, visi...   \n",
              "\n",
              "                                      tokens_transformed  sentiment_label  \n",
              "1                layin n bed headache ughhhh waitin call                1  \n",
              "3                         funeral ceremony gloomy friday                1  \n",
              "7      should sleep but not think old friend who want...                1  \n",
              "9                                      charlene love mis                1  \n",
              "10                                    sorry least friday                1  \n",
              "...                                                  ...              ...  \n",
              "39994                           succesfully follow tayla                0  \n",
              "39996                          happy mother day all love                2  \n",
              "39997  happy mother day to all mommy out there woman ...                2  \n",
              "39998  wassup beautiful follow peep out new hit singl...                0  \n",
              "39999  bullet train tokyo gf and have be visit japan ...                2  \n",
              "\n",
              "[21132 rows x 5 columns]"
            ]
          },
          "execution_count": 38,
          "metadata": {},
          "output_type": "execute_result"
        }
      ],
      "source": [
        "clean_tweet_df[\"sentiment_label\"] = clean_tweet_df[\"sentiment\"].map(label_dic)\n",
        "clean_tweet_df"
      ]
    },
    {
      "attachments": {},
      "cell_type": "markdown",
      "metadata": {
        "id": "eEt9aNBIzos1"
      },
      "source": [
        "# <font color=\"#00f198\">━</font><font color=\"#00f1a4\">━━</font><font color=\"#02f2b3\">━━━</font><font color=\"#03f3ca\">━━━━━</font><font color=\"#05f4db\">━━━━━━</font><font color=\"#07f6f6\">━━━━━━━━</font>    \n",
        "# 3. 予測モデル構築\n",
        "# <font color=\"#00f198\">━</font><font color=\"#00f1a4\">━━</font><font color=\"#02f2b3\">━━━</font><font color=\"#03f3ca\">━━━━━</font><font color=\"#05f4db\">━━━━━━</font><font color=\"#07f6f6\">━━━━━━━━</font>   "
      ]
    },
    {
      "cell_type": "code",
      "execution_count": 39,
      "metadata": {
        "id": "DjC2nsYGx0H3"
      },
      "outputs": [],
      "source": [
        "#@title 3.1 学習データ（7割）とテストデータ（3割）の生成\n",
        "from sklearn.model_selection import train_test_split\n",
        "# 特徴量として、numpy配列化した単語群を説明変数 X とする\n",
        "X = features\n",
        "# 正解ラベルとして、dfの数値化した感情群を目的変数 y とする\n",
        "y = clean_tweet_df.sentiment_label\n",
        "train_X, test_X, train_y, test_y = train_test_split(X, y, test_size=0.3, random_state=42)"
      ]
    },
    {
      "cell_type": "code",
      "execution_count": 40,
      "metadata": {
        "id": "9eWzAhjlKEPw"
      },
      "outputs": [],
      "source": [
        "#@title 3.2 モデル構築\n",
        "from sklearn.ensemble import RandomForestClassifier\n",
        "ne = 221\n",
        "rs = 42\n",
        "model1 = RandomForestClassifier(n_estimators=ne, random_state=rs)"
      ]
    },
    {
      "cell_type": "code",
      "execution_count": 41,
      "metadata": {
        "colab": {
          "base_uri": "https://localhost:8080/"
        },
        "id": "CoYr9-0zKmym",
        "outputId": "addb9bfb-840e-4f39-99c2-bde28dadeb53"
      },
      "outputs": [
        {
          "name": "stdout",
          "output_type": "stream",
          "text": [
            "Elapsed time 学習時間: 19.46 sec\n"
          ]
        }
      ],
      "source": [
        "#@title 3.3 モデルの学習\n",
        "# 学習時間測定\n",
        "trian_start = time.time()\n",
        "\n",
        "model1.fit(train_X, train_y)\n",
        "\n",
        "trian_end = time.time()\n",
        "train_time = trian_end - trian_start\n",
        "print(\"Elapsed time 学習時間: {:.2f} sec\".format(train_time))"
      ]
    },
    {
      "cell_type": "code",
      "execution_count": 42,
      "metadata": {
        "colab": {
          "base_uri": "https://localhost:8080/"
        },
        "id": "wMtLdzhaKzK5",
        "outputId": "de538bf2-c93d-4e6b-c3ac-d8b202cb21f5"
      },
      "outputs": [
        {
          "name": "stdout",
          "output_type": "stream",
          "text": [
            "ランダムフォレスト: 0.3359621451104101\n"
          ]
        }
      ],
      "source": [
        "#@title 3.4 正解率を算出\n",
        "print(\"ランダムフォレスト: {}\".format(model1.score(test_X, test_y)))"
      ]
    },
    {
      "cell_type": "code",
      "execution_count": 44,
      "metadata": {
        "colab": {
          "base_uri": "https://localhost:8080/",
          "height": 173
        },
        "id": "1F2RRYeFDD8H",
        "outputId": "84269036-9bb6-45eb-97df-29ba2018b42a"
      },
      "outputs": [
        {
          "ename": "NameError",
          "evalue": "ignored",
          "output_type": "error",
          "traceback": [
            "\u001b[0;31m---------------------------------------------------------------------------\u001b[0m",
            "\u001b[0;31mNameError\u001b[0m                                 Traceback (most recent call last)",
            "\u001b[0;32m<ipython-input-44-ee5c939bee4a>\u001b[0m in \u001b[0;36m<module>\u001b[0;34m\u001b[0m\n\u001b[0;32m----> 1\u001b[0;31m \u001b[0mprint\u001b[0m\u001b[0;34m(\u001b[0m\u001b[0mstr\u001b[0m\u001b[0;34m(\u001b[0m\u001b[0mtime\u001b[0m\u001b[0;34m.\u001b[0m\u001b[0mtime\u001b[0m\u001b[0;34m(\u001b[0m\u001b[0;34m)\u001b[0m\u001b[0;34m)\u001b[0m\u001b[0;34m+\u001b[0m\u001b[0;34m\"n estimator： \"\u001b[0m\u001b[0;34m+\u001b[0m\u001b[0mstr\u001b[0m\u001b[0;34m(\u001b[0m\u001b[0mn_estimator\u001b[0m\u001b[0;34m)\u001b[0m\u001b[0;34m)\u001b[0m\u001b[0;34m\u001b[0m\u001b[0;34m\u001b[0m\u001b[0m\n\u001b[0m",
            "\u001b[0;31mNameError\u001b[0m: name 'n_estimator' is not defined"
          ]
        }
      ],
      "source": [
        "print(str(time.time())+\"n estimator： \"+str(n_estimator))"
      ]
    },
    {
      "cell_type": "code",
      "execution_count": 45,
      "metadata": {
        "id": "v_Qocf24yfLT"
      },
      "outputs": [],
      "source": [
        "# # 決定木の数を検討：1～501を10刻みで試行（10～60分程度掛かるので注意）\n",
        "# # 時間測定\n",
        "# c_start = time.time()\n",
        "# n_estimators_list = [i for i in range(1, 501, 10)]\n",
        "\n",
        "# # 正解率を格納する空リストを作成\n",
        "# accuracy = []\n",
        "\n",
        "# # n_estimatorsを変えながらモデルを学習\n",
        "# for n_estimators in n_estimators_list:\n",
        "#     model = RandomForestClassifier(n_estimators=n_estimators, random_state=42)\n",
        "#     model.fit(train_X, train_y)\n",
        "#     accuracy.append(model.score(test_X, test_y))\n",
        "#     print(str(time.time())+\" n estimator： \"+str(n_estimators ))\n",
        "# # accuracyが最大値になる時のn_estimatorsを取得\n",
        "# max_accuracy = max(accuracy)\n",
        "# optimal_n_estimators = n_estimators_list[accuracy.index(max_accuracy)]\n",
        "# print(f\"The optimal n_estimators is {optimal_n_estimators} with the accuracy of {max_accuracy}\")\n",
        "\n",
        "# # グラフの描画\n",
        "# plt.plot(n_estimators_list, accuracy)\n",
        "# plt.axvline(x=optimal_n_estimators, linestyle=\"--\", color=\"gray\")\n",
        "# plt.title(\"accuracy by n_estimators increasement\")\n",
        "# plt.xlabel(\"n_estimators\")\n",
        "# plt.ylabel(\"accuracy\")\n",
        "# plt.show()\n",
        "\n",
        "# c_end = time.time()\n",
        "# c_time = c_end - c_start\n",
        "# print(\"Elapsed time nltk時間: {:.2f} sec\".format(c_time))"
      ]
    },
    {
      "attachments": {},
      "cell_type": "markdown",
      "metadata": {
        "id": "BxzJx11WLIzW"
      },
      "source": [
        "<font color=\"#b1ea4d\">━</font><font color=\"#d0e347\">━━</font><font color=\"#bfd83b\">━━━</font><font color=\"#a3c72a\">━━━━━</font><font color=\"#8dba1b\">━━━━━━</font><font color=\"#73AA0A\">━━━━━━━━</font>  \n",
        "# 4. 可視化・考察\n",
        "<font color=\"#b1ea4d\">━</font><font color=\"#d0e347\">━━</font><font color=\"#bfd83b\">━━━</font><font color=\"#a3c72a\">━━━━━</font><font color=\"#8dba1b\">━━━━━━</font><font color=\"#73AA0A\">━━━━━━━━</font>  "
      ]
    },
    {
      "cell_type": "code",
      "execution_count": 46,
      "metadata": {
        "id": "GB4O9IKj-8oe"
      },
      "outputs": [],
      "source": [
        "#@title 4.1.1 ランダムフォレストの予測値（混同行列用）\n",
        "y_pred = model1.predict(test_X)"
      ]
    },
    {
      "cell_type": "code",
      "execution_count": 47,
      "metadata": {
        "colab": {
          "base_uri": "https://localhost:8080/"
        },
        "id": "hRvjazph53gu",
        "outputId": "0e5e7726-9e49-492d-fa0d-91d6e42d1496"
      },
      "outputs": [
        {
          "name": "stdout",
          "output_type": "stream",
          "text": [
            "テストデータ総個数: 6340\n",
            "\n",
            "[[ 772  576  187   31   27   12    4    0]\n",
            " [ 343 1063   96   24    4    5   12    0]\n",
            " [ 415  427  261   22   10    6    2    0]\n",
            " [ 223  363   41   16    5    1    3    0]\n",
            " [ 209  216   51    9    5    2    1    0]\n",
            " [ 148  231   56    7    1    2    1    0]\n",
            " [  96  277   19    6    2    1   11    0]\n",
            " [  12   24    2    0    0    0    0    0]]\n"
          ]
        }
      ],
      "source": [
        "#@title 4.1.2 正解率を混同行列にて算出\n",
        "from sklearn.metrics import confusion_matrix, f1_score, precision_score, recall_score\n",
        "y_true = test_y #正解のラベル\n",
        "conf_matrix  = confusion_matrix(y_true,y_pred)\n",
        "\n",
        "print(\"テストデータ総個数: {}\".format(np.sum(conf_matrix))+\"\\n\")\n",
        "print(conf_matrix)"
      ]
    },
    {
      "cell_type": "code",
      "execution_count": 48,
      "metadata": {
        "colab": {
          "base_uri": "https://localhost:8080/",
          "height": 318
        },
        "id": "szRjVCVnA7g-",
        "outputId": "edc0bb3c-9db9-4c06-e9b3-688c05dd1641"
      },
      "outputs": [
        {
          "name": "stdout",
          "output_type": "stream",
          "text": [
            "混同が多くみられるほど濃い緑になる\n"
          ]
        },
        {
          "data": {
            "text/html": [
              "<style type=\"text/css\">\n",
              "#T_2133a_row0_col0, #T_2133a_row0_col1, #T_2133a_row1_col1 {\n",
              "  background-color: darkgreen;\n",
              "}\n",
              "#T_2133a_row0_col2, #T_2133a_row1_col0, #T_2133a_row2_col0, #T_2133a_row2_col1, #T_2133a_row2_col2, #T_2133a_row3_col0, #T_2133a_row3_col1, #T_2133a_row4_col0, #T_2133a_row4_col1, #T_2133a_row5_col0, #T_2133a_row5_col1, #T_2133a_row6_col1 {\n",
              "  background-color: forestgreen;\n",
              "}\n",
              "#T_2133a_row0_col3, #T_2133a_row0_col4, #T_2133a_row1_col3, #T_2133a_row2_col3, #T_2133a_row3_col2, #T_2133a_row7_col1 {\n",
              "  background-color: greenyellow;\n",
              "}\n",
              "#T_2133a_row0_col5, #T_2133a_row0_col6, #T_2133a_row1_col4, #T_2133a_row1_col5, #T_2133a_row1_col6, #T_2133a_row2_col4, #T_2133a_row2_col5, #T_2133a_row2_col6, #T_2133a_row3_col3, #T_2133a_row3_col4, #T_2133a_row3_col5, #T_2133a_row3_col6, #T_2133a_row4_col3, #T_2133a_row4_col4, #T_2133a_row4_col5, #T_2133a_row4_col6, #T_2133a_row5_col3, #T_2133a_row5_col4, #T_2133a_row5_col5, #T_2133a_row5_col6, #T_2133a_row6_col2, #T_2133a_row6_col3, #T_2133a_row6_col4, #T_2133a_row6_col5, #T_2133a_row6_col6, #T_2133a_row7_col0, #T_2133a_row7_col2 {\n",
              "  background-color: lightgreen;\n",
              "}\n",
              "#T_2133a_row0_col7, #T_2133a_row1_col7, #T_2133a_row2_col7, #T_2133a_row3_col7, #T_2133a_row4_col7, #T_2133a_row5_col7, #T_2133a_row6_col7, #T_2133a_row7_col3, #T_2133a_row7_col4, #T_2133a_row7_col5, #T_2133a_row7_col6, #T_2133a_row7_col7 {\n",
              "  background-color: palegreen;\n",
              "}\n",
              "#T_2133a_row1_col2, #T_2133a_row4_col2, #T_2133a_row5_col2, #T_2133a_row6_col0 {\n",
              "  background-color: limegreen;\n",
              "}\n",
              "</style>\n",
              "<table id=\"T_2133a_\" class=\"dataframe\">\n",
              "  <thead>\n",
              "    <tr>\n",
              "      <th class=\"blank level0\" >&nbsp;</th>\n",
              "      <th class=\"col_heading level0 col0\" >happiness</th>\n",
              "      <th class=\"col_heading level0 col1\" >sadness</th>\n",
              "      <th class=\"col_heading level0 col2\" >love</th>\n",
              "      <th class=\"col_heading level0 col3\" >surprise</th>\n",
              "      <th class=\"col_heading level0 col4\" >fun</th>\n",
              "      <th class=\"col_heading level0 col5\" >relief</th>\n",
              "      <th class=\"col_heading level0 col6\" >hate</th>\n",
              "      <th class=\"col_heading level0 col7\" >anger</th>\n",
              "    </tr>\n",
              "  </thead>\n",
              "  <tbody>\n",
              "    <tr>\n",
              "      <th id=\"T_2133a_level0_row0\" class=\"row_heading level0 row0\" >happiness</th>\n",
              "      <td id=\"T_2133a_row0_col0\" class=\"data row0 col0\" >772</td>\n",
              "      <td id=\"T_2133a_row0_col1\" class=\"data row0 col1\" >576</td>\n",
              "      <td id=\"T_2133a_row0_col2\" class=\"data row0 col2\" >187</td>\n",
              "      <td id=\"T_2133a_row0_col3\" class=\"data row0 col3\" >31</td>\n",
              "      <td id=\"T_2133a_row0_col4\" class=\"data row0 col4\" >27</td>\n",
              "      <td id=\"T_2133a_row0_col5\" class=\"data row0 col5\" >12</td>\n",
              "      <td id=\"T_2133a_row0_col6\" class=\"data row0 col6\" >4</td>\n",
              "      <td id=\"T_2133a_row0_col7\" class=\"data row0 col7\" >0</td>\n",
              "    </tr>\n",
              "    <tr>\n",
              "      <th id=\"T_2133a_level0_row1\" class=\"row_heading level0 row1\" >sadness</th>\n",
              "      <td id=\"T_2133a_row1_col0\" class=\"data row1 col0\" >343</td>\n",
              "      <td id=\"T_2133a_row1_col1\" class=\"data row1 col1\" >1063</td>\n",
              "      <td id=\"T_2133a_row1_col2\" class=\"data row1 col2\" >96</td>\n",
              "      <td id=\"T_2133a_row1_col3\" class=\"data row1 col3\" >24</td>\n",
              "      <td id=\"T_2133a_row1_col4\" class=\"data row1 col4\" >4</td>\n",
              "      <td id=\"T_2133a_row1_col5\" class=\"data row1 col5\" >5</td>\n",
              "      <td id=\"T_2133a_row1_col6\" class=\"data row1 col6\" >12</td>\n",
              "      <td id=\"T_2133a_row1_col7\" class=\"data row1 col7\" >0</td>\n",
              "    </tr>\n",
              "    <tr>\n",
              "      <th id=\"T_2133a_level0_row2\" class=\"row_heading level0 row2\" >love</th>\n",
              "      <td id=\"T_2133a_row2_col0\" class=\"data row2 col0\" >415</td>\n",
              "      <td id=\"T_2133a_row2_col1\" class=\"data row2 col1\" >427</td>\n",
              "      <td id=\"T_2133a_row2_col2\" class=\"data row2 col2\" >261</td>\n",
              "      <td id=\"T_2133a_row2_col3\" class=\"data row2 col3\" >22</td>\n",
              "      <td id=\"T_2133a_row2_col4\" class=\"data row2 col4\" >10</td>\n",
              "      <td id=\"T_2133a_row2_col5\" class=\"data row2 col5\" >6</td>\n",
              "      <td id=\"T_2133a_row2_col6\" class=\"data row2 col6\" >2</td>\n",
              "      <td id=\"T_2133a_row2_col7\" class=\"data row2 col7\" >0</td>\n",
              "    </tr>\n",
              "    <tr>\n",
              "      <th id=\"T_2133a_level0_row3\" class=\"row_heading level0 row3\" >surprise</th>\n",
              "      <td id=\"T_2133a_row3_col0\" class=\"data row3 col0\" >223</td>\n",
              "      <td id=\"T_2133a_row3_col1\" class=\"data row3 col1\" >363</td>\n",
              "      <td id=\"T_2133a_row3_col2\" class=\"data row3 col2\" >41</td>\n",
              "      <td id=\"T_2133a_row3_col3\" class=\"data row3 col3\" >16</td>\n",
              "      <td id=\"T_2133a_row3_col4\" class=\"data row3 col4\" >5</td>\n",
              "      <td id=\"T_2133a_row3_col5\" class=\"data row3 col5\" >1</td>\n",
              "      <td id=\"T_2133a_row3_col6\" class=\"data row3 col6\" >3</td>\n",
              "      <td id=\"T_2133a_row3_col7\" class=\"data row3 col7\" >0</td>\n",
              "    </tr>\n",
              "    <tr>\n",
              "      <th id=\"T_2133a_level0_row4\" class=\"row_heading level0 row4\" >fun</th>\n",
              "      <td id=\"T_2133a_row4_col0\" class=\"data row4 col0\" >209</td>\n",
              "      <td id=\"T_2133a_row4_col1\" class=\"data row4 col1\" >216</td>\n",
              "      <td id=\"T_2133a_row4_col2\" class=\"data row4 col2\" >51</td>\n",
              "      <td id=\"T_2133a_row4_col3\" class=\"data row4 col3\" >9</td>\n",
              "      <td id=\"T_2133a_row4_col4\" class=\"data row4 col4\" >5</td>\n",
              "      <td id=\"T_2133a_row4_col5\" class=\"data row4 col5\" >2</td>\n",
              "      <td id=\"T_2133a_row4_col6\" class=\"data row4 col6\" >1</td>\n",
              "      <td id=\"T_2133a_row4_col7\" class=\"data row4 col7\" >0</td>\n",
              "    </tr>\n",
              "    <tr>\n",
              "      <th id=\"T_2133a_level0_row5\" class=\"row_heading level0 row5\" >relief</th>\n",
              "      <td id=\"T_2133a_row5_col0\" class=\"data row5 col0\" >148</td>\n",
              "      <td id=\"T_2133a_row5_col1\" class=\"data row5 col1\" >231</td>\n",
              "      <td id=\"T_2133a_row5_col2\" class=\"data row5 col2\" >56</td>\n",
              "      <td id=\"T_2133a_row5_col3\" class=\"data row5 col3\" >7</td>\n",
              "      <td id=\"T_2133a_row5_col4\" class=\"data row5 col4\" >1</td>\n",
              "      <td id=\"T_2133a_row5_col5\" class=\"data row5 col5\" >2</td>\n",
              "      <td id=\"T_2133a_row5_col6\" class=\"data row5 col6\" >1</td>\n",
              "      <td id=\"T_2133a_row5_col7\" class=\"data row5 col7\" >0</td>\n",
              "    </tr>\n",
              "    <tr>\n",
              "      <th id=\"T_2133a_level0_row6\" class=\"row_heading level0 row6\" >hate</th>\n",
              "      <td id=\"T_2133a_row6_col0\" class=\"data row6 col0\" >96</td>\n",
              "      <td id=\"T_2133a_row6_col1\" class=\"data row6 col1\" >277</td>\n",
              "      <td id=\"T_2133a_row6_col2\" class=\"data row6 col2\" >19</td>\n",
              "      <td id=\"T_2133a_row6_col3\" class=\"data row6 col3\" >6</td>\n",
              "      <td id=\"T_2133a_row6_col4\" class=\"data row6 col4\" >2</td>\n",
              "      <td id=\"T_2133a_row6_col5\" class=\"data row6 col5\" >1</td>\n",
              "      <td id=\"T_2133a_row6_col6\" class=\"data row6 col6\" >11</td>\n",
              "      <td id=\"T_2133a_row6_col7\" class=\"data row6 col7\" >0</td>\n",
              "    </tr>\n",
              "    <tr>\n",
              "      <th id=\"T_2133a_level0_row7\" class=\"row_heading level0 row7\" >anger</th>\n",
              "      <td id=\"T_2133a_row7_col0\" class=\"data row7 col0\" >12</td>\n",
              "      <td id=\"T_2133a_row7_col1\" class=\"data row7 col1\" >24</td>\n",
              "      <td id=\"T_2133a_row7_col2\" class=\"data row7 col2\" >2</td>\n",
              "      <td id=\"T_2133a_row7_col3\" class=\"data row7 col3\" >0</td>\n",
              "      <td id=\"T_2133a_row7_col4\" class=\"data row7 col4\" >0</td>\n",
              "      <td id=\"T_2133a_row7_col5\" class=\"data row7 col5\" >0</td>\n",
              "      <td id=\"T_2133a_row7_col6\" class=\"data row7 col6\" >0</td>\n",
              "      <td id=\"T_2133a_row7_col7\" class=\"data row7 col7\" >0</td>\n",
              "    </tr>\n",
              "  </tbody>\n",
              "</table>\n"
            ],
            "text/plain": [
              "<pandas.io.formats.style.Styler at 0x7f10f1626850>"
            ]
          },
          "execution_count": 48,
          "metadata": {},
          "output_type": "execute_result"
        }
      ],
      "source": [
        "#@title 4.1.2 混同行列をヒートマップ風データフレームに\n",
        "conf_matrix_df = pd.DataFrame(conf_matrix, columns = labels, index = labels)\n",
        "\n",
        "print(\"混同が多くみられるほど濃い緑になる\")\n",
        "def highlight(value):\n",
        "    if value < 0:\n",
        "        return 'background-color: honeydew    '\n",
        "    elif value == 0:\n",
        "        return 'background-color: palegreen  '\n",
        "    elif 1 <= value <= 20:\n",
        "        return 'background-color: lightgreen  '\n",
        "    elif 20 < value <= 50:\n",
        "        return 'background-color: greenyellow  '\n",
        "    elif 51 <= value <= 100:\n",
        "        return 'background-color: limegreen  '\n",
        "    elif 101 <= value <= 500:\n",
        "        return 'background-color: forestgreen   '\n",
        "    else:\n",
        "        return 'background-color: darkgreen  '\n",
        "\n",
        "# スタイルを適用して表示する\n",
        "conf_matrix_df.style.applymap(highlight)"
      ]
    },
    {
      "cell_type": "code",
      "execution_count": 49,
      "metadata": {
        "colab": {
          "base_uri": "https://localhost:8080/",
          "height": 331
        },
        "id": "YooM7pYgDAGu",
        "outputId": "84d87a39-891b-45ce-ff94-ef8d84b27ea3"
      },
      "outputs": [
        {
          "data": {
            "text/html": [
              "\n",
              "  <div id=\"df-f3949855-1c67-45ba-9ca6-4017526c6d9e\">\n",
              "    <div class=\"colab-df-container\">\n",
              "      <div>\n",
              "<style scoped>\n",
              "    .dataframe tbody tr th:only-of-type {\n",
              "        vertical-align: middle;\n",
              "    }\n",
              "\n",
              "    .dataframe tbody tr th {\n",
              "        vertical-align: top;\n",
              "    }\n",
              "\n",
              "    .dataframe thead th {\n",
              "        text-align: right;\n",
              "    }\n",
              "</style>\n",
              "<table border=\"1\" class=\"dataframe\">\n",
              "  <thead>\n",
              "    <tr style=\"text-align: right;\">\n",
              "      <th></th>\n",
              "      <th>happiness</th>\n",
              "      <th>sadness</th>\n",
              "      <th>love</th>\n",
              "      <th>surprise</th>\n",
              "      <th>fun</th>\n",
              "      <th>relief</th>\n",
              "      <th>hate</th>\n",
              "      <th>anger</th>\n",
              "    </tr>\n",
              "  </thead>\n",
              "  <tbody>\n",
              "    <tr>\n",
              "      <th>happiness</th>\n",
              "      <td>772</td>\n",
              "      <td>576</td>\n",
              "      <td>187</td>\n",
              "      <td>31</td>\n",
              "      <td>27</td>\n",
              "      <td>12</td>\n",
              "      <td>4</td>\n",
              "      <td>0</td>\n",
              "    </tr>\n",
              "    <tr>\n",
              "      <th>sadness</th>\n",
              "      <td>343</td>\n",
              "      <td>1063</td>\n",
              "      <td>96</td>\n",
              "      <td>24</td>\n",
              "      <td>4</td>\n",
              "      <td>5</td>\n",
              "      <td>12</td>\n",
              "      <td>0</td>\n",
              "    </tr>\n",
              "    <tr>\n",
              "      <th>love</th>\n",
              "      <td>415</td>\n",
              "      <td>427</td>\n",
              "      <td>261</td>\n",
              "      <td>22</td>\n",
              "      <td>10</td>\n",
              "      <td>6</td>\n",
              "      <td>2</td>\n",
              "      <td>0</td>\n",
              "    </tr>\n",
              "    <tr>\n",
              "      <th>surprise</th>\n",
              "      <td>223</td>\n",
              "      <td>363</td>\n",
              "      <td>41</td>\n",
              "      <td>16</td>\n",
              "      <td>5</td>\n",
              "      <td>1</td>\n",
              "      <td>3</td>\n",
              "      <td>0</td>\n",
              "    </tr>\n",
              "    <tr>\n",
              "      <th>fun</th>\n",
              "      <td>209</td>\n",
              "      <td>216</td>\n",
              "      <td>51</td>\n",
              "      <td>9</td>\n",
              "      <td>5</td>\n",
              "      <td>2</td>\n",
              "      <td>1</td>\n",
              "      <td>0</td>\n",
              "    </tr>\n",
              "    <tr>\n",
              "      <th>relief</th>\n",
              "      <td>148</td>\n",
              "      <td>231</td>\n",
              "      <td>56</td>\n",
              "      <td>7</td>\n",
              "      <td>1</td>\n",
              "      <td>2</td>\n",
              "      <td>1</td>\n",
              "      <td>0</td>\n",
              "    </tr>\n",
              "    <tr>\n",
              "      <th>hate</th>\n",
              "      <td>96</td>\n",
              "      <td>277</td>\n",
              "      <td>19</td>\n",
              "      <td>6</td>\n",
              "      <td>2</td>\n",
              "      <td>1</td>\n",
              "      <td>11</td>\n",
              "      <td>0</td>\n",
              "    </tr>\n",
              "    <tr>\n",
              "      <th>anger</th>\n",
              "      <td>12</td>\n",
              "      <td>24</td>\n",
              "      <td>2</td>\n",
              "      <td>0</td>\n",
              "      <td>0</td>\n",
              "      <td>0</td>\n",
              "      <td>0</td>\n",
              "      <td>0</td>\n",
              "    </tr>\n",
              "    <tr>\n",
              "      <th>予測数合計</th>\n",
              "      <td>2218</td>\n",
              "      <td>3177</td>\n",
              "      <td>713</td>\n",
              "      <td>115</td>\n",
              "      <td>54</td>\n",
              "      <td>29</td>\n",
              "      <td>34</td>\n",
              "      <td>0</td>\n",
              "    </tr>\n",
              "  </tbody>\n",
              "</table>\n",
              "</div>\n",
              "      <button class=\"colab-df-convert\" onclick=\"convertToInteractive('df-f3949855-1c67-45ba-9ca6-4017526c6d9e')\"\n",
              "              title=\"Convert this dataframe to an interactive table.\"\n",
              "              style=\"display:none;\">\n",
              "        \n",
              "  <svg xmlns=\"http://www.w3.org/2000/svg\" height=\"24px\"viewBox=\"0 0 24 24\"\n",
              "       width=\"24px\">\n",
              "    <path d=\"M0 0h24v24H0V0z\" fill=\"none\"/>\n",
              "    <path d=\"M18.56 5.44l.94 2.06.94-2.06 2.06-.94-2.06-.94-.94-2.06-.94 2.06-2.06.94zm-11 1L8.5 8.5l.94-2.06 2.06-.94-2.06-.94L8.5 2.5l-.94 2.06-2.06.94zm10 10l.94 2.06.94-2.06 2.06-.94-2.06-.94-.94-2.06-.94 2.06-2.06.94z\"/><path d=\"M17.41 7.96l-1.37-1.37c-.4-.4-.92-.59-1.43-.59-.52 0-1.04.2-1.43.59L10.3 9.45l-7.72 7.72c-.78.78-.78 2.05 0 2.83L4 21.41c.39.39.9.59 1.41.59.51 0 1.02-.2 1.41-.59l7.78-7.78 2.81-2.81c.8-.78.8-2.07 0-2.86zM5.41 20L4 18.59l7.72-7.72 1.47 1.35L5.41 20z\"/>\n",
              "  </svg>\n",
              "      </button>\n",
              "      \n",
              "  <style>\n",
              "    .colab-df-container {\n",
              "      display:flex;\n",
              "      flex-wrap:wrap;\n",
              "      gap: 12px;\n",
              "    }\n",
              "\n",
              "    .colab-df-convert {\n",
              "      background-color: #E8F0FE;\n",
              "      border: none;\n",
              "      border-radius: 50%;\n",
              "      cursor: pointer;\n",
              "      display: none;\n",
              "      fill: #1967D2;\n",
              "      height: 32px;\n",
              "      padding: 0 0 0 0;\n",
              "      width: 32px;\n",
              "    }\n",
              "\n",
              "    .colab-df-convert:hover {\n",
              "      background-color: #E2EBFA;\n",
              "      box-shadow: 0px 1px 2px rgba(60, 64, 67, 0.3), 0px 1px 3px 1px rgba(60, 64, 67, 0.15);\n",
              "      fill: #174EA6;\n",
              "    }\n",
              "\n",
              "    [theme=dark] .colab-df-convert {\n",
              "      background-color: #3B4455;\n",
              "      fill: #D2E3FC;\n",
              "    }\n",
              "\n",
              "    [theme=dark] .colab-df-convert:hover {\n",
              "      background-color: #434B5C;\n",
              "      box-shadow: 0px 1px 3px 1px rgba(0, 0, 0, 0.15);\n",
              "      filter: drop-shadow(0px 1px 2px rgba(0, 0, 0, 0.3));\n",
              "      fill: #FFFFFF;\n",
              "    }\n",
              "  </style>\n",
              "\n",
              "      <script>\n",
              "        const buttonEl =\n",
              "          document.querySelector('#df-f3949855-1c67-45ba-9ca6-4017526c6d9e button.colab-df-convert');\n",
              "        buttonEl.style.display =\n",
              "          google.colab.kernel.accessAllowed ? 'block' : 'none';\n",
              "\n",
              "        async function convertToInteractive(key) {\n",
              "          const element = document.querySelector('#df-f3949855-1c67-45ba-9ca6-4017526c6d9e');\n",
              "          const dataTable =\n",
              "            await google.colab.kernel.invokeFunction('convertToInteractive',\n",
              "                                                     [key], {});\n",
              "          if (!dataTable) return;\n",
              "\n",
              "          const docLinkHtml = 'Like what you see? Visit the ' +\n",
              "            '<a target=\"_blank\" href=https://colab.research.google.com/notebooks/data_table.ipynb>data table notebook</a>'\n",
              "            + ' to learn more about interactive tables.';\n",
              "          element.innerHTML = '';\n",
              "          dataTable['output_type'] = 'display_data';\n",
              "          await google.colab.output.renderOutput(dataTable, element);\n",
              "          const docLink = document.createElement('div');\n",
              "          docLink.innerHTML = docLinkHtml;\n",
              "          element.appendChild(docLink);\n",
              "        }\n",
              "      </script>\n",
              "    </div>\n",
              "  </div>\n",
              "  "
            ],
            "text/plain": [
              "           happiness  sadness  love  surprise  fun  relief  hate  anger\n",
              "happiness        772      576   187        31   27      12     4      0\n",
              "sadness          343     1063    96        24    4       5    12      0\n",
              "love             415      427   261        22   10       6     2      0\n",
              "surprise         223      363    41        16    5       1     3      0\n",
              "fun              209      216    51         9    5       2     1      0\n",
              "relief           148      231    56         7    1       2     1      0\n",
              "hate              96      277    19         6    2       1    11      0\n",
              "anger             12       24     2         0    0       0     0      0\n",
              "予測数合計           2218     3177   713       115   54      29    34      0"
            ]
          },
          "execution_count": 49,
          "metadata": {},
          "output_type": "execute_result"
        }
      ],
      "source": [
        "# 各列の合計を計算して予測数合計という行を作成\n",
        "conf_matrix_df.loc['予測数合計'] = conf_matrix_df.sum()\n",
        "\n",
        "# 結果の表示\n",
        "conf_matrix_df"
      ]
    },
    {
      "cell_type": "code",
      "execution_count": 50,
      "metadata": {
        "colab": {
          "base_uri": "https://localhost:8080/",
          "height": 331
        },
        "id": "XBG1r_5VPwt6",
        "outputId": "a03234ff-9b48-42ee-c205-21c5bc9c9a2d"
      },
      "outputs": [
        {
          "data": {
            "text/html": [
              "\n",
              "  <div id=\"df-26a79bca-c644-4e7e-8abd-6e4da1a1de3f\">\n",
              "    <div class=\"colab-df-container\">\n",
              "      <div>\n",
              "<style scoped>\n",
              "    .dataframe tbody tr th:only-of-type {\n",
              "        vertical-align: middle;\n",
              "    }\n",
              "\n",
              "    .dataframe tbody tr th {\n",
              "        vertical-align: top;\n",
              "    }\n",
              "\n",
              "    .dataframe thead th {\n",
              "        text-align: right;\n",
              "    }\n",
              "</style>\n",
              "<table border=\"1\" class=\"dataframe\">\n",
              "  <thead>\n",
              "    <tr style=\"text-align: right;\">\n",
              "      <th></th>\n",
              "      <th>happiness</th>\n",
              "      <th>sadness</th>\n",
              "      <th>love</th>\n",
              "      <th>surprise</th>\n",
              "      <th>fun</th>\n",
              "      <th>relief</th>\n",
              "      <th>hate</th>\n",
              "      <th>anger</th>\n",
              "      <th>正解数合計</th>\n",
              "    </tr>\n",
              "  </thead>\n",
              "  <tbody>\n",
              "    <tr>\n",
              "      <th>happiness</th>\n",
              "      <td>772</td>\n",
              "      <td>576</td>\n",
              "      <td>187</td>\n",
              "      <td>31</td>\n",
              "      <td>27</td>\n",
              "      <td>12</td>\n",
              "      <td>4</td>\n",
              "      <td>0</td>\n",
              "      <td>1609</td>\n",
              "    </tr>\n",
              "    <tr>\n",
              "      <th>sadness</th>\n",
              "      <td>343</td>\n",
              "      <td>1063</td>\n",
              "      <td>96</td>\n",
              "      <td>24</td>\n",
              "      <td>4</td>\n",
              "      <td>5</td>\n",
              "      <td>12</td>\n",
              "      <td>0</td>\n",
              "      <td>1547</td>\n",
              "    </tr>\n",
              "    <tr>\n",
              "      <th>love</th>\n",
              "      <td>415</td>\n",
              "      <td>427</td>\n",
              "      <td>261</td>\n",
              "      <td>22</td>\n",
              "      <td>10</td>\n",
              "      <td>6</td>\n",
              "      <td>2</td>\n",
              "      <td>0</td>\n",
              "      <td>1143</td>\n",
              "    </tr>\n",
              "    <tr>\n",
              "      <th>surprise</th>\n",
              "      <td>223</td>\n",
              "      <td>363</td>\n",
              "      <td>41</td>\n",
              "      <td>16</td>\n",
              "      <td>5</td>\n",
              "      <td>1</td>\n",
              "      <td>3</td>\n",
              "      <td>0</td>\n",
              "      <td>652</td>\n",
              "    </tr>\n",
              "    <tr>\n",
              "      <th>fun</th>\n",
              "      <td>209</td>\n",
              "      <td>216</td>\n",
              "      <td>51</td>\n",
              "      <td>9</td>\n",
              "      <td>5</td>\n",
              "      <td>2</td>\n",
              "      <td>1</td>\n",
              "      <td>0</td>\n",
              "      <td>493</td>\n",
              "    </tr>\n",
              "    <tr>\n",
              "      <th>relief</th>\n",
              "      <td>148</td>\n",
              "      <td>231</td>\n",
              "      <td>56</td>\n",
              "      <td>7</td>\n",
              "      <td>1</td>\n",
              "      <td>2</td>\n",
              "      <td>1</td>\n",
              "      <td>0</td>\n",
              "      <td>446</td>\n",
              "    </tr>\n",
              "    <tr>\n",
              "      <th>hate</th>\n",
              "      <td>96</td>\n",
              "      <td>277</td>\n",
              "      <td>19</td>\n",
              "      <td>6</td>\n",
              "      <td>2</td>\n",
              "      <td>1</td>\n",
              "      <td>11</td>\n",
              "      <td>0</td>\n",
              "      <td>412</td>\n",
              "    </tr>\n",
              "    <tr>\n",
              "      <th>anger</th>\n",
              "      <td>12</td>\n",
              "      <td>24</td>\n",
              "      <td>2</td>\n",
              "      <td>0</td>\n",
              "      <td>0</td>\n",
              "      <td>0</td>\n",
              "      <td>0</td>\n",
              "      <td>0</td>\n",
              "      <td>38</td>\n",
              "    </tr>\n",
              "    <tr>\n",
              "      <th>予測数合計</th>\n",
              "      <td>2218</td>\n",
              "      <td>3177</td>\n",
              "      <td>713</td>\n",
              "      <td>115</td>\n",
              "      <td>54</td>\n",
              "      <td>29</td>\n",
              "      <td>34</td>\n",
              "      <td>0</td>\n",
              "      <td>6340</td>\n",
              "    </tr>\n",
              "  </tbody>\n",
              "</table>\n",
              "</div>\n",
              "      <button class=\"colab-df-convert\" onclick=\"convertToInteractive('df-26a79bca-c644-4e7e-8abd-6e4da1a1de3f')\"\n",
              "              title=\"Convert this dataframe to an interactive table.\"\n",
              "              style=\"display:none;\">\n",
              "        \n",
              "  <svg xmlns=\"http://www.w3.org/2000/svg\" height=\"24px\"viewBox=\"0 0 24 24\"\n",
              "       width=\"24px\">\n",
              "    <path d=\"M0 0h24v24H0V0z\" fill=\"none\"/>\n",
              "    <path d=\"M18.56 5.44l.94 2.06.94-2.06 2.06-.94-2.06-.94-.94-2.06-.94 2.06-2.06.94zm-11 1L8.5 8.5l.94-2.06 2.06-.94-2.06-.94L8.5 2.5l-.94 2.06-2.06.94zm10 10l.94 2.06.94-2.06 2.06-.94-2.06-.94-.94-2.06-.94 2.06-2.06.94z\"/><path d=\"M17.41 7.96l-1.37-1.37c-.4-.4-.92-.59-1.43-.59-.52 0-1.04.2-1.43.59L10.3 9.45l-7.72 7.72c-.78.78-.78 2.05 0 2.83L4 21.41c.39.39.9.59 1.41.59.51 0 1.02-.2 1.41-.59l7.78-7.78 2.81-2.81c.8-.78.8-2.07 0-2.86zM5.41 20L4 18.59l7.72-7.72 1.47 1.35L5.41 20z\"/>\n",
              "  </svg>\n",
              "      </button>\n",
              "      \n",
              "  <style>\n",
              "    .colab-df-container {\n",
              "      display:flex;\n",
              "      flex-wrap:wrap;\n",
              "      gap: 12px;\n",
              "    }\n",
              "\n",
              "    .colab-df-convert {\n",
              "      background-color: #E8F0FE;\n",
              "      border: none;\n",
              "      border-radius: 50%;\n",
              "      cursor: pointer;\n",
              "      display: none;\n",
              "      fill: #1967D2;\n",
              "      height: 32px;\n",
              "      padding: 0 0 0 0;\n",
              "      width: 32px;\n",
              "    }\n",
              "\n",
              "    .colab-df-convert:hover {\n",
              "      background-color: #E2EBFA;\n",
              "      box-shadow: 0px 1px 2px rgba(60, 64, 67, 0.3), 0px 1px 3px 1px rgba(60, 64, 67, 0.15);\n",
              "      fill: #174EA6;\n",
              "    }\n",
              "\n",
              "    [theme=dark] .colab-df-convert {\n",
              "      background-color: #3B4455;\n",
              "      fill: #D2E3FC;\n",
              "    }\n",
              "\n",
              "    [theme=dark] .colab-df-convert:hover {\n",
              "      background-color: #434B5C;\n",
              "      box-shadow: 0px 1px 3px 1px rgba(0, 0, 0, 0.15);\n",
              "      filter: drop-shadow(0px 1px 2px rgba(0, 0, 0, 0.3));\n",
              "      fill: #FFFFFF;\n",
              "    }\n",
              "  </style>\n",
              "\n",
              "      <script>\n",
              "        const buttonEl =\n",
              "          document.querySelector('#df-26a79bca-c644-4e7e-8abd-6e4da1a1de3f button.colab-df-convert');\n",
              "        buttonEl.style.display =\n",
              "          google.colab.kernel.accessAllowed ? 'block' : 'none';\n",
              "\n",
              "        async function convertToInteractive(key) {\n",
              "          const element = document.querySelector('#df-26a79bca-c644-4e7e-8abd-6e4da1a1de3f');\n",
              "          const dataTable =\n",
              "            await google.colab.kernel.invokeFunction('convertToInteractive',\n",
              "                                                     [key], {});\n",
              "          if (!dataTable) return;\n",
              "\n",
              "          const docLinkHtml = 'Like what you see? Visit the ' +\n",
              "            '<a target=\"_blank\" href=https://colab.research.google.com/notebooks/data_table.ipynb>data table notebook</a>'\n",
              "            + ' to learn more about interactive tables.';\n",
              "          element.innerHTML = '';\n",
              "          dataTable['output_type'] = 'display_data';\n",
              "          await google.colab.output.renderOutput(dataTable, element);\n",
              "          const docLink = document.createElement('div');\n",
              "          docLink.innerHTML = docLinkHtml;\n",
              "          element.appendChild(docLink);\n",
              "        }\n",
              "      </script>\n",
              "    </div>\n",
              "  </div>\n",
              "  "
            ],
            "text/plain": [
              "           happiness  sadness  love  surprise  fun  relief  hate  anger  正解数合計\n",
              "happiness        772      576   187        31   27      12     4      0   1609\n",
              "sadness          343     1063    96        24    4       5    12      0   1547\n",
              "love             415      427   261        22   10       6     2      0   1143\n",
              "surprise         223      363    41        16    5       1     3      0    652\n",
              "fun              209      216    51         9    5       2     1      0    493\n",
              "relief           148      231    56         7    1       2     1      0    446\n",
              "hate              96      277    19         6    2       1    11      0    412\n",
              "anger             12       24     2         0    0       0     0      0     38\n",
              "予測数合計           2218     3177   713       115   54      29    34      0   6340"
            ]
          },
          "execution_count": 50,
          "metadata": {},
          "output_type": "execute_result"
        }
      ],
      "source": [
        "# 新しい列を作成して、各行の合計値を計算する\n",
        "conf_matrix_df['正解数合計'] = conf_matrix_df.sum(axis=1)\n",
        "\n",
        "# データフレームを表示する\n",
        "conf_matrix_df\n"
      ]
    },
    {
      "cell_type": "code",
      "execution_count": 51,
      "metadata": {
        "id": "K0q-tei-Fqvh"
      },
      "outputs": [],
      "source": [
        "# conf_matrix_df.loc['正解率'] = ['28%', '24%', '6%', '17%', '0%', '16%', '0%', '40%', '5%', '7%', '0%', '0%', '0%']\n",
        "# conf_matrix_df"
      ]
    },
    {
      "cell_type": "code",
      "execution_count": 52,
      "metadata": {
        "id": "NNfLMPsrQqcL"
      },
      "outputs": [],
      "source": [
        "# conf_matrix_df2 = conf_matrix_df\n",
        "# conf_matrix_df2"
      ]
    },
    {
      "cell_type": "code",
      "execution_count": 53,
      "metadata": {
        "id": "x9WYgOBpPnKK"
      },
      "outputs": [],
      "source": [
        "# conf_matrix_df2.insert(13, '合計', [2616, 2555, 633, 1578, 222, 1562, 511, 1142, 438, 407, 59, 217, 36, 11976, np.nan], True)\n",
        "# conf_matrix_df2.insert(14, '割合', ['44%', '63%', '0%', '5%', '0%', '5%', '0%', '8%', '0%', '0%', '0%', '0%', '0%', '34%', np.nan], True)\n",
        "# conf_matrix_df2"
      ]
    },
    {
      "cell_type": "code",
      "execution_count": 54,
      "metadata": {
        "colab": {
          "base_uri": "https://localhost:8080/"
        },
        "id": "NDLDYYjeQwdF",
        "outputId": "251efb88-3b65-4963-a939-6f0162ec1852"
      },
      "outputs": [
        {
          "name": "stdout",
          "output_type": "stream",
          "text": [
            "/content/drive/MyDrive/Data for Colab Notebooks/1st_sentiment analysis/20230305-1800_感情分析_精度0.3359_rs42ne221_学習19.46秒_conf_matrix.csv\n"
          ]
        }
      ],
      "source": [
        "#@title 4.2 後で比較するためのデータ保存\n",
        "from datetime import datetime\n",
        "import pytz\n",
        "jst = pytz.timezone('Asia/Tokyo')\n",
        "now = datetime.now(jst)\n",
        "filename = \"感情分析_精度\"+ str(model1.score(test_X, test_y))[:6]+\"_rs\"+str(rs)+\"ne\"+str(ne)+ \"_学習\"+ str(train_time)[:5]+\"秒\"\n",
        "pathname = \"/content/drive/MyDrive/Data for Colab Notebooks/1st_sentiment analysis/\"\n",
        "conf_matrix_name = pathname + now.strftime('%Y%m%d-%H%M')+ \"_\" + filename + \"_conf_matrix.csv\"\n",
        "print(conf_matrix_name)\n",
        "conf_matrix_df.to_csv(conf_matrix_name, index=True)"
      ]
    },
    {
      "cell_type": "code",
      "execution_count": 55,
      "metadata": {
        "colab": {
          "base_uri": "https://localhost:8080/"
        },
        "id": "O2rTqeMGIkaW",
        "outputId": "7d3e58ef-53f5-4643-ef6d-e9bee9f2abef"
      },
      "outputs": [
        {
          "name": "stdout",
          "output_type": "stream",
          "text": [
            "Elapsed time 経過時間: 1768.45 sec\n",
            "学習19.46秒\n"
          ]
        }
      ],
      "source": [
        "end_time = time.time()\n",
        "elapsed_time = end_time - start_time\n",
        "print(\"Elapsed time 経過時間: {:.2f} sec\".format(elapsed_time))\n",
        "print(\"学習\"+ str(train_time)[:5]+\"秒\")"
      ]
    },
    {
      "cell_type": "code",
      "execution_count": 56,
      "metadata": {
        "cellView": "form",
        "id": "BhGLuPwGqcnl"
      },
      "outputs": [],
      "source": [
        "#@title ブレイクポイント\n",
        "# from IPython.core.debugger import Pdb; Pdb().set_trace()\n",
        "# pdbの基本的なコマンドは以下のとおりです。\n",
        "\n",
        "#     h [command]：ヘルプを出す\n",
        "#     p [expression]：式を評価して出力する\n",
        "#     n：次の行へ\n",
        "#     c：次のブレークポイントへ\n",
        "#     q：その場で終了する"
      ]
    },
    {
      "cell_type": "code",
      "execution_count": 57,
      "metadata": {
        "id": "WqN0Bt0XFyK-"
      },
      "outputs": [],
      "source": [
        "#@title 4.3.1-a もし決定木のモデル構築していれば正解率を混同行列にて算出\n",
        "if 'model2' in globals():\n",
        "  print(\"決定木：\")\n",
        "  # 決定木の予測値（混同行列用）\n",
        "  y_pred2 = model2.predict(test_X)\n",
        "  conf_matrix2  = confusion_matrix(y_true,y_pred2)\n",
        "  print(conf_matrix2)\n",
        "  conpare_filename = \"感情分析_ver.1.0_精度15.8%_決定木\"\n",
        "  read_r_forest = False\n",
        "else:\n",
        "  read_r_forest = True"
      ]
    },
    {
      "cell_type": "code",
      "execution_count": 58,
      "metadata": {
        "colab": {
          "base_uri": "https://localhost:8080/",
          "height": 605
        },
        "id": "iSivKwqNb3v1",
        "outputId": "ff6e906a-0cb8-4e52-9254-91d18651387a"
      },
      "outputs": [
        {
          "name": "stdout",
          "output_type": "stream",
          "text": [
            "比較対象のbaseデータフレーム：\n",
            "\n"
          ]
        },
        {
          "data": {
            "text/html": [
              "\n",
              "  <div id=\"df-97a76cbf-c6d2-4117-bf30-81bd47d9e3c4\">\n",
              "    <div class=\"colab-df-container\">\n",
              "      <div>\n",
              "<style scoped>\n",
              "    .dataframe tbody tr th:only-of-type {\n",
              "        vertical-align: middle;\n",
              "    }\n",
              "\n",
              "    .dataframe tbody tr th {\n",
              "        vertical-align: top;\n",
              "    }\n",
              "\n",
              "    .dataframe thead th {\n",
              "        text-align: right;\n",
              "    }\n",
              "</style>\n",
              "<table border=\"1\" class=\"dataframe\">\n",
              "  <thead>\n",
              "    <tr style=\"text-align: right;\">\n",
              "      <th></th>\n",
              "      <th>neutral</th>\n",
              "      <th>worry</th>\n",
              "      <th>happiness</th>\n",
              "      <th>sadness</th>\n",
              "      <th>love</th>\n",
              "      <th>surprise</th>\n",
              "      <th>fun</th>\n",
              "      <th>relief</th>\n",
              "      <th>hate</th>\n",
              "      <th>empty</th>\n",
              "      <th>enthusiasm</th>\n",
              "      <th>boredom</th>\n",
              "      <th>anger</th>\n",
              "      <th>正解数合計</th>\n",
              "    </tr>\n",
              "  </thead>\n",
              "  <tbody>\n",
              "    <tr>\n",
              "      <th>neutral</th>\n",
              "      <td>1171</td>\n",
              "      <td>1172</td>\n",
              "      <td>105</td>\n",
              "      <td>88</td>\n",
              "      <td>44</td>\n",
              "      <td>12</td>\n",
              "      <td>6</td>\n",
              "      <td>6</td>\n",
              "      <td>5</td>\n",
              "      <td>6</td>\n",
              "      <td>1</td>\n",
              "      <td>0</td>\n",
              "      <td>0</td>\n",
              "      <td>2616</td>\n",
              "    </tr>\n",
              "    <tr>\n",
              "      <th>worry</th>\n",
              "      <td>743</td>\n",
              "      <td>1619</td>\n",
              "      <td>57</td>\n",
              "      <td>103</td>\n",
              "      <td>13</td>\n",
              "      <td>8</td>\n",
              "      <td>2</td>\n",
              "      <td>5</td>\n",
              "      <td>1</td>\n",
              "      <td>2</td>\n",
              "      <td>2</td>\n",
              "      <td>0</td>\n",
              "      <td>0</td>\n",
              "      <td>2555</td>\n",
              "    </tr>\n",
              "    <tr>\n",
              "      <th>happiness</th>\n",
              "      <td>568</td>\n",
              "      <td>823</td>\n",
              "      <td>89</td>\n",
              "      <td>43</td>\n",
              "      <td>28</td>\n",
              "      <td>5</td>\n",
              "      <td>2</td>\n",
              "      <td>2</td>\n",
              "      <td>0</td>\n",
              "      <td>1</td>\n",
              "      <td>1</td>\n",
              "      <td>0</td>\n",
              "      <td>0</td>\n",
              "      <td>1562</td>\n",
              "    </tr>\n",
              "    <tr>\n",
              "      <th>sadness</th>\n",
              "      <td>445</td>\n",
              "      <td>998</td>\n",
              "      <td>37</td>\n",
              "      <td>79</td>\n",
              "      <td>7</td>\n",
              "      <td>5</td>\n",
              "      <td>2</td>\n",
              "      <td>1</td>\n",
              "      <td>3</td>\n",
              "      <td>0</td>\n",
              "      <td>0</td>\n",
              "      <td>1</td>\n",
              "      <td>0</td>\n",
              "      <td>1578</td>\n",
              "    </tr>\n",
              "    <tr>\n",
              "      <th>love</th>\n",
              "      <td>315</td>\n",
              "      <td>630</td>\n",
              "      <td>49</td>\n",
              "      <td>47</td>\n",
              "      <td>90</td>\n",
              "      <td>3</td>\n",
              "      <td>1</td>\n",
              "      <td>4</td>\n",
              "      <td>0</td>\n",
              "      <td>1</td>\n",
              "      <td>1</td>\n",
              "      <td>0</td>\n",
              "      <td>1</td>\n",
              "      <td>1142</td>\n",
              "    </tr>\n",
              "    <tr>\n",
              "      <th>surprise</th>\n",
              "      <td>237</td>\n",
              "      <td>341</td>\n",
              "      <td>19</td>\n",
              "      <td>22</td>\n",
              "      <td>9</td>\n",
              "      <td>2</td>\n",
              "      <td>1</td>\n",
              "      <td>0</td>\n",
              "      <td>0</td>\n",
              "      <td>1</td>\n",
              "      <td>1</td>\n",
              "      <td>0</td>\n",
              "      <td>0</td>\n",
              "      <td>633</td>\n",
              "    </tr>\n",
              "    <tr>\n",
              "      <th>fun</th>\n",
              "      <td>146</td>\n",
              "      <td>322</td>\n",
              "      <td>20</td>\n",
              "      <td>14</td>\n",
              "      <td>4</td>\n",
              "      <td>2</td>\n",
              "      <td>0</td>\n",
              "      <td>2</td>\n",
              "      <td>0</td>\n",
              "      <td>0</td>\n",
              "      <td>0</td>\n",
              "      <td>0</td>\n",
              "      <td>1</td>\n",
              "      <td>511</td>\n",
              "    </tr>\n",
              "    <tr>\n",
              "      <th>relief</th>\n",
              "      <td>133</td>\n",
              "      <td>255</td>\n",
              "      <td>19</td>\n",
              "      <td>21</td>\n",
              "      <td>8</td>\n",
              "      <td>0</td>\n",
              "      <td>1</td>\n",
              "      <td>1</td>\n",
              "      <td>0</td>\n",
              "      <td>0</td>\n",
              "      <td>0</td>\n",
              "      <td>0</td>\n",
              "      <td>0</td>\n",
              "      <td>438</td>\n",
              "    </tr>\n",
              "    <tr>\n",
              "      <th>hate</th>\n",
              "      <td>119</td>\n",
              "      <td>260</td>\n",
              "      <td>8</td>\n",
              "      <td>11</td>\n",
              "      <td>3</td>\n",
              "      <td>2</td>\n",
              "      <td>0</td>\n",
              "      <td>1</td>\n",
              "      <td>2</td>\n",
              "      <td>1</td>\n",
              "      <td>0</td>\n",
              "      <td>0</td>\n",
              "      <td>0</td>\n",
              "      <td>407</td>\n",
              "    </tr>\n",
              "    <tr>\n",
              "      <th>empty</th>\n",
              "      <td>105</td>\n",
              "      <td>95</td>\n",
              "      <td>8</td>\n",
              "      <td>10</td>\n",
              "      <td>2</td>\n",
              "      <td>0</td>\n",
              "      <td>1</td>\n",
              "      <td>0</td>\n",
              "      <td>0</td>\n",
              "      <td>0</td>\n",
              "      <td>1</td>\n",
              "      <td>0</td>\n",
              "      <td>0</td>\n",
              "      <td>222</td>\n",
              "    </tr>\n",
              "    <tr>\n",
              "      <th>enthusiasm</th>\n",
              "      <td>82</td>\n",
              "      <td>116</td>\n",
              "      <td>7</td>\n",
              "      <td>10</td>\n",
              "      <td>0</td>\n",
              "      <td>0</td>\n",
              "      <td>0</td>\n",
              "      <td>2</td>\n",
              "      <td>0</td>\n",
              "      <td>0</td>\n",
              "      <td>0</td>\n",
              "      <td>0</td>\n",
              "      <td>0</td>\n",
              "      <td>217</td>\n",
              "    </tr>\n",
              "    <tr>\n",
              "      <th>boredom</th>\n",
              "      <td>22</td>\n",
              "      <td>33</td>\n",
              "      <td>1</td>\n",
              "      <td>3</td>\n",
              "      <td>0</td>\n",
              "      <td>0</td>\n",
              "      <td>0</td>\n",
              "      <td>0</td>\n",
              "      <td>0</td>\n",
              "      <td>0</td>\n",
              "      <td>0</td>\n",
              "      <td>0</td>\n",
              "      <td>0</td>\n",
              "      <td>59</td>\n",
              "    </tr>\n",
              "    <tr>\n",
              "      <th>anger</th>\n",
              "      <td>15</td>\n",
              "      <td>21</td>\n",
              "      <td>0</td>\n",
              "      <td>0</td>\n",
              "      <td>0</td>\n",
              "      <td>0</td>\n",
              "      <td>0</td>\n",
              "      <td>0</td>\n",
              "      <td>0</td>\n",
              "      <td>0</td>\n",
              "      <td>0</td>\n",
              "      <td>0</td>\n",
              "      <td>0</td>\n",
              "      <td>36</td>\n",
              "    </tr>\n",
              "    <tr>\n",
              "      <th>予測数合計</th>\n",
              "      <td>4101</td>\n",
              "      <td>6685</td>\n",
              "      <td>419</td>\n",
              "      <td>451</td>\n",
              "      <td>208</td>\n",
              "      <td>39</td>\n",
              "      <td>16</td>\n",
              "      <td>24</td>\n",
              "      <td>11</td>\n",
              "      <td>12</td>\n",
              "      <td>7</td>\n",
              "      <td>1</td>\n",
              "      <td>2</td>\n",
              "      <td>11976</td>\n",
              "    </tr>\n",
              "  </tbody>\n",
              "</table>\n",
              "</div>\n",
              "      <button class=\"colab-df-convert\" onclick=\"convertToInteractive('df-97a76cbf-c6d2-4117-bf30-81bd47d9e3c4')\"\n",
              "              title=\"Convert this dataframe to an interactive table.\"\n",
              "              style=\"display:none;\">\n",
              "        \n",
              "  <svg xmlns=\"http://www.w3.org/2000/svg\" height=\"24px\"viewBox=\"0 0 24 24\"\n",
              "       width=\"24px\">\n",
              "    <path d=\"M0 0h24v24H0V0z\" fill=\"none\"/>\n",
              "    <path d=\"M18.56 5.44l.94 2.06.94-2.06 2.06-.94-2.06-.94-.94-2.06-.94 2.06-2.06.94zm-11 1L8.5 8.5l.94-2.06 2.06-.94-2.06-.94L8.5 2.5l-.94 2.06-2.06.94zm10 10l.94 2.06.94-2.06 2.06-.94-2.06-.94-.94-2.06-.94 2.06-2.06.94z\"/><path d=\"M17.41 7.96l-1.37-1.37c-.4-.4-.92-.59-1.43-.59-.52 0-1.04.2-1.43.59L10.3 9.45l-7.72 7.72c-.78.78-.78 2.05 0 2.83L4 21.41c.39.39.9.59 1.41.59.51 0 1.02-.2 1.41-.59l7.78-7.78 2.81-2.81c.8-.78.8-2.07 0-2.86zM5.41 20L4 18.59l7.72-7.72 1.47 1.35L5.41 20z\"/>\n",
              "  </svg>\n",
              "      </button>\n",
              "      \n",
              "  <style>\n",
              "    .colab-df-container {\n",
              "      display:flex;\n",
              "      flex-wrap:wrap;\n",
              "      gap: 12px;\n",
              "    }\n",
              "\n",
              "    .colab-df-convert {\n",
              "      background-color: #E8F0FE;\n",
              "      border: none;\n",
              "      border-radius: 50%;\n",
              "      cursor: pointer;\n",
              "      display: none;\n",
              "      fill: #1967D2;\n",
              "      height: 32px;\n",
              "      padding: 0 0 0 0;\n",
              "      width: 32px;\n",
              "    }\n",
              "\n",
              "    .colab-df-convert:hover {\n",
              "      background-color: #E2EBFA;\n",
              "      box-shadow: 0px 1px 2px rgba(60, 64, 67, 0.3), 0px 1px 3px 1px rgba(60, 64, 67, 0.15);\n",
              "      fill: #174EA6;\n",
              "    }\n",
              "\n",
              "    [theme=dark] .colab-df-convert {\n",
              "      background-color: #3B4455;\n",
              "      fill: #D2E3FC;\n",
              "    }\n",
              "\n",
              "    [theme=dark] .colab-df-convert:hover {\n",
              "      background-color: #434B5C;\n",
              "      box-shadow: 0px 1px 3px 1px rgba(0, 0, 0, 0.15);\n",
              "      filter: drop-shadow(0px 1px 2px rgba(0, 0, 0, 0.3));\n",
              "      fill: #FFFFFF;\n",
              "    }\n",
              "  </style>\n",
              "\n",
              "      <script>\n",
              "        const buttonEl =\n",
              "          document.querySelector('#df-97a76cbf-c6d2-4117-bf30-81bd47d9e3c4 button.colab-df-convert');\n",
              "        buttonEl.style.display =\n",
              "          google.colab.kernel.accessAllowed ? 'block' : 'none';\n",
              "\n",
              "        async function convertToInteractive(key) {\n",
              "          const element = document.querySelector('#df-97a76cbf-c6d2-4117-bf30-81bd47d9e3c4');\n",
              "          const dataTable =\n",
              "            await google.colab.kernel.invokeFunction('convertToInteractive',\n",
              "                                                     [key], {});\n",
              "          if (!dataTable) return;\n",
              "\n",
              "          const docLinkHtml = 'Like what you see? Visit the ' +\n",
              "            '<a target=\"_blank\" href=https://colab.research.google.com/notebooks/data_table.ipynb>data table notebook</a>'\n",
              "            + ' to learn more about interactive tables.';\n",
              "          element.innerHTML = '';\n",
              "          dataTable['output_type'] = 'display_data';\n",
              "          await google.colab.output.renderOutput(dataTable, element);\n",
              "          const docLink = document.createElement('div');\n",
              "          docLink.innerHTML = docLinkHtml;\n",
              "          element.appendChild(docLink);\n",
              "        }\n",
              "      </script>\n",
              "    </div>\n",
              "  </div>\n",
              "  "
            ],
            "text/plain": [
              "            neutral  worry  happiness  sadness  love  surprise  fun  relief  \\\n",
              "neutral        1171   1172        105       88    44        12    6       6   \n",
              "worry           743   1619         57      103    13         8    2       5   \n",
              "happiness       568    823         89       43    28         5    2       2   \n",
              "sadness         445    998         37       79     7         5    2       1   \n",
              "love            315    630         49       47    90         3    1       4   \n",
              "surprise        237    341         19       22     9         2    1       0   \n",
              "fun             146    322         20       14     4         2    0       2   \n",
              "relief          133    255         19       21     8         0    1       1   \n",
              "hate            119    260          8       11     3         2    0       1   \n",
              "empty           105     95          8       10     2         0    1       0   \n",
              "enthusiasm       82    116          7       10     0         0    0       2   \n",
              "boredom          22     33          1        3     0         0    0       0   \n",
              "anger            15     21          0        0     0         0    0       0   \n",
              "予測数合計          4101   6685        419      451   208        39   16      24   \n",
              "\n",
              "            hate  empty  enthusiasm  boredom  anger  正解数合計  \n",
              "neutral        5      6           1        0      0   2616  \n",
              "worry          1      2           2        0      0   2555  \n",
              "happiness      0      1           1        0      0   1562  \n",
              "sadness        3      0           0        1      0   1578  \n",
              "love           0      1           1        0      1   1142  \n",
              "surprise       0      1           1        0      0    633  \n",
              "fun            0      0           0        0      1    511  \n",
              "relief         0      0           0        0      0    438  \n",
              "hate           2      1           0        0      0    407  \n",
              "empty          0      0           1        0      0    222  \n",
              "enthusiasm     0      0           0        0      0    217  \n",
              "boredom        0      0           0        0      0     59  \n",
              "anger          0      0           0        0      0     36  \n",
              "予測数合計         11     12           7        1      2  11976  "
            ]
          },
          "execution_count": 58,
          "metadata": {},
          "output_type": "execute_result"
        }
      ],
      "source": [
        "#@title 4.3.1-b 比較対象の混同行列を呼び出す\n",
        "read_r_forest = 1\n",
        "if read_r_forest:\n",
        "  import os\n",
        "  csv_file = \"/content/drive/MyDrive/Data for Colab Notebooks/1st_sentiment analysis/20230304-0327_感情分析_精度0.2549_rs42ne331_学習71.10秒_conf_matrix.csv\"\n",
        "  s =  os.path.basename(csv_file)\n",
        "  conpare_filename = s[:s.index(\"_conf\")] # ファイル名の長さ調整\n",
        "  saved_df = pd.read_csv(csv_file, index_col=0)\n",
        "  # deleted_index_df = saved_df.iloc[:, 1:]\n",
        "  # comparable_np_array = deleted_index_df.values\n",
        "  print(\"比較対象のbaseデータフレーム：\\n\")\n",
        "saved_df"
      ]
    },
    {
      "cell_type": "code",
      "execution_count": 59,
      "metadata": {
        "colab": {
          "base_uri": "https://localhost:8080/"
        },
        "id": "itl48lqihsHW",
        "outputId": "59883ca7-328c-48fd-bd38-0b25a97c55aa"
      },
      "outputs": [
        {
          "name": "stdout",
          "output_type": "stream",
          "text": [
            "[[ 1171  1172   105    88    44    12     6     6     5     6     1     0     0  2616]\n",
            " [  743  1619    57   103    13     8     2     5     1     2     2     0     0  2555]\n",
            " [  568   823    89    43    28     5     2     2     0     1     1     0     0  1562]\n",
            " [  445   998    37    79     7     5     2     1     3     0     0     1     0  1578]\n",
            " [  315   630    49    47    90     3     1     4     0     1     1     0     1  1142]\n",
            " [  237   341    19    22     9     2     1     0     0     1     1     0     0   633]\n",
            " [  146   322    20    14     4     2     0     2     0     0     0     0     1   511]\n",
            " [  133   255    19    21     8     0     1     1     0     0     0     0     0   438]\n",
            " [  119   260     8    11     3     2     0     1     2     1     0     0     0   407]\n",
            " [  105    95     8    10     2     0     1     0     0     0     1     0     0   222]\n",
            " [   82   116     7    10     0     0     0     2     0     0     0     0     0   217]\n",
            " [   22    33     1     3     0     0     0     0     0     0     0     0     0    59]\n",
            " [   15    21     0     0     0     0     0     0     0     0     0     0     0    36]\n",
            " [ 4101  6685   419   451   208    39    16    24    11    12     7     1     2 11976]]\n"
          ]
        }
      ],
      "source": [
        "saved_np_array = saved_df.values\n",
        "print(saved_np_array)"
      ]
    },
    {
      "cell_type": "code",
      "execution_count": 60,
      "metadata": {
        "colab": {
          "base_uri": "https://localhost:8080/"
        },
        "id": "HO3BVL_ZU5-e",
        "outputId": "3b359578-88ef-4cf0-ba50-be610acab8de"
      },
      "outputs": [
        {
          "name": "stdout",
          "output_type": "stream",
          "text": [
            "[[ 772  576  187   31   27   12    4    0 1609]\n",
            " [ 343 1063   96   24    4    5   12    0 1547]\n",
            " [ 415  427  261   22   10    6    2    0 1143]\n",
            " [ 223  363   41   16    5    1    3    0  652]\n",
            " [ 209  216   51    9    5    2    1    0  493]\n",
            " [ 148  231   56    7    1    2    1    0  446]\n",
            " [  96  277   19    6    2    1   11    0  412]\n",
            " [  12   24    2    0    0    0    0    0   38]\n",
            " [2218 3177  713  115   54   29   34    0 6340]]\n"
          ]
        }
      ],
      "source": [
        "lastest_np_array = np.array(conf_matrix_df)\n",
        "print(lastest_np_array)\n",
        "# conf_matrix_df"
      ]
    },
    {
      "cell_type": "code",
      "execution_count": 61,
      "metadata": {
        "colab": {
          "base_uri": "https://localhost:8080/",
          "height": 208
        },
        "id": "Pde21x1ChqvW",
        "outputId": "125e0b45-aab6-421a-b812-5816dc5e0bb5"
      },
      "outputs": [
        {
          "ename": "ValueError",
          "evalue": "ignored",
          "output_type": "error",
          "traceback": [
            "\u001b[0;31m---------------------------------------------------------------------------\u001b[0m",
            "\u001b[0;31mValueError\u001b[0m                                Traceback (most recent call last)",
            "\u001b[0;32m<ipython-input-61-71244db80700>\u001b[0m in \u001b[0;36m<module>\u001b[0;34m\u001b[0m\n\u001b[0;32m----> 1\u001b[0;31m \u001b[0mrest\u001b[0m \u001b[0;34m=\u001b[0m \u001b[0mlastest_np_array\u001b[0m \u001b[0;34m-\u001b[0m \u001b[0msaved_np_array\u001b[0m\u001b[0;34m\u001b[0m\u001b[0;34m\u001b[0m\u001b[0m\n\u001b[0m\u001b[1;32m      2\u001b[0m \u001b[0mprint\u001b[0m\u001b[0;34m(\u001b[0m\u001b[0;34m\"差：\\n\"\u001b[0m\u001b[0;34m)\u001b[0m\u001b[0;34m\u001b[0m\u001b[0;34m\u001b[0m\u001b[0m\n\u001b[1;32m      3\u001b[0m \u001b[0mprint\u001b[0m\u001b[0;34m(\u001b[0m\u001b[0mrest\u001b[0m\u001b[0;34m)\u001b[0m\u001b[0;34m\u001b[0m\u001b[0;34m\u001b[0m\u001b[0m\n",
            "\u001b[0;31mValueError\u001b[0m: operands could not be broadcast together with shapes (9,9) (14,14) "
          ]
        }
      ],
      "source": [
        "rest = lastest_np_array - saved_np_array\n",
        "print(\"差：\\n\")\n",
        "print(rest)"
      ]
    },
    {
      "cell_type": "code",
      "execution_count": 62,
      "metadata": {
        "colab": {
          "base_uri": "https://localhost:8080/",
          "height": 244
        },
        "id": "LX14qjvOf82E",
        "outputId": "5ef8e9b1-8d3c-4e01-d83a-45862f15a0d8"
      },
      "outputs": [
        {
          "ename": "NameError",
          "evalue": "ignored",
          "output_type": "error",
          "traceback": [
            "\u001b[0;31m---------------------------------------------------------------------------\u001b[0m",
            "\u001b[0;31mNameError\u001b[0m                                 Traceback (most recent call last)",
            "\u001b[0;32m<ipython-input-62-59cc34d5fe36>\u001b[0m in \u001b[0;36m<module>\u001b[0;34m\u001b[0m\n\u001b[0;32m----> 1\u001b[0;31m \u001b[0msub_df\u001b[0m \u001b[0;34m=\u001b[0m \u001b[0mpd\u001b[0m\u001b[0;34m.\u001b[0m\u001b[0mDataFrame\u001b[0m\u001b[0;34m(\u001b[0m\u001b[0mrest\u001b[0m\u001b[0;34m)\u001b[0m\u001b[0;34m\u001b[0m\u001b[0;34m\u001b[0m\u001b[0m\n\u001b[0m\u001b[1;32m      2\u001b[0m \u001b[0;31m# df = pd.DataFrame(columns=saved_df.columns, index=saved_df.index)\u001b[0m\u001b[0;34m\u001b[0m\u001b[0;34m\u001b[0m\u001b[0;34m\u001b[0m\u001b[0m\n\u001b[1;32m      3\u001b[0m \u001b[0;31m# df.columns = saved_df.columns\u001b[0m\u001b[0;34m\u001b[0m\u001b[0;34m\u001b[0m\u001b[0;34m\u001b[0m\u001b[0m\n\u001b[1;32m      4\u001b[0m \u001b[0;31m# df.index = saved_df.index\u001b[0m\u001b[0;34m\u001b[0m\u001b[0;34m\u001b[0m\u001b[0;34m\u001b[0m\u001b[0m\n\u001b[1;32m      5\u001b[0m \u001b[0msub_df\u001b[0m\u001b[0;34m.\u001b[0m\u001b[0mindex\u001b[0m \u001b[0;34m=\u001b[0m \u001b[0mconf_matrix_df\u001b[0m\u001b[0;34m.\u001b[0m\u001b[0mindex\u001b[0m\u001b[0;34m\u001b[0m\u001b[0;34m\u001b[0m\u001b[0m\n",
            "\u001b[0;31mNameError\u001b[0m: name 'rest' is not defined"
          ]
        }
      ],
      "source": [
        "sub_df = pd.DataFrame(rest)\n",
        "# df = pd.DataFrame(columns=saved_df.columns, index=saved_df.index)\n",
        "# df.columns = saved_df.columns\n",
        "# df.index = saved_df.index\n",
        "sub_df.index = conf_matrix_df.index\n",
        "sub_df.columns = conf_matrix_df.columns\n",
        "for col in sub_df.columns[:-1]:\n",
        "    sub_df.rename(columns={col: 'p_' + str(col)}, inplace=True)\n",
        "sub_df.rename(columns={sub_df.columns[-1]: '正解数合計'}, inplace=True)\n",
        "sub_df"
      ]
    },
    {
      "cell_type": "code",
      "execution_count": 63,
      "metadata": {
        "colab": {
          "base_uri": "https://localhost:8080/",
          "height": 244
        },
        "id": "WOgZu26Brlww",
        "outputId": "4aa4c64e-c0fe-4fb3-cea2-78bd67176a7c"
      },
      "outputs": [
        {
          "ename": "NameError",
          "evalue": "ignored",
          "output_type": "error",
          "traceback": [
            "\u001b[0;31m---------------------------------------------------------------------------\u001b[0m",
            "\u001b[0;31mNameError\u001b[0m                                 Traceback (most recent call last)",
            "\u001b[0;32m<ipython-input-63-50446973fbb3>\u001b[0m in \u001b[0;36m<module>\u001b[0;34m\u001b[0m\n\u001b[1;32m     20\u001b[0m \u001b[0;34m\u001b[0m\u001b[0m\n\u001b[1;32m     21\u001b[0m \u001b[0;31m# データフレームにスタイルを適用\u001b[0m\u001b[0;34m\u001b[0m\u001b[0;34m\u001b[0m\u001b[0;34m\u001b[0m\u001b[0m\n\u001b[0;32m---> 22\u001b[0;31m \u001b[0mstyled_df\u001b[0m \u001b[0;34m=\u001b[0m \u001b[0msub_df\u001b[0m\u001b[0;34m.\u001b[0m\u001b[0mstyle\u001b[0m\u001b[0;34m.\u001b[0m\u001b[0mapplymap\u001b[0m\u001b[0;34m(\u001b[0m\u001b[0mcolor_text\u001b[0m\u001b[0;34m)\u001b[0m\u001b[0;34m\u001b[0m\u001b[0;34m\u001b[0m\u001b[0m\n\u001b[0m\u001b[1;32m     23\u001b[0m \u001b[0;34m\u001b[0m\u001b[0m\n\u001b[1;32m     24\u001b[0m \u001b[0;31m# スタイルを表示\u001b[0m\u001b[0;34m\u001b[0m\u001b[0;34m\u001b[0m\u001b[0;34m\u001b[0m\u001b[0m\n",
            "\u001b[0;31mNameError\u001b[0m: name 'sub_df' is not defined"
          ]
        }
      ],
      "source": [
        "from IPython.display import HTML, display\n",
        "\n",
        "def color_text(val):\n",
        "    if val >= 500:\n",
        "        color = 'lightgreen'\n",
        "        font_weight = 'bold'\n",
        "    elif val >= 100:\n",
        "        color = 'yellow'\n",
        "        font_weight = 'normal'\n",
        "    elif val <= -500:\n",
        "        color = 'pink'\n",
        "        font_weight = 'bold'\n",
        "    elif val <= -100:\n",
        "        color = 'orange'\n",
        "        font_weight = 'normal'\n",
        "    else:\n",
        "        color = 'black'\n",
        "        font_weight = 'normal'\n",
        "    return 'color: %s; font-weight: %s' % (color, font_weight)\n",
        "\n",
        "# データフレームにスタイルを適用\n",
        "styled_df = sub_df.style.applymap(color_text)\n",
        "\n",
        "# スタイルを表示\n",
        "display(styled_df)"
      ]
    },
    {
      "cell_type": "code",
      "execution_count": null,
      "metadata": {
        "id": "oE-_yqzrGRFv"
      },
      "outputs": [],
      "source": [
        "#@title 4.3 条件の違う混同行列同士の差\n",
        "diff_df = conf_matrix_df - saved_df\n",
        "print(\"混同行列 last. \"+ filename + \": {}\".format(\"\"))\n",
        "print(\"混同行列 base. \"+ conpare_filename[14:] + \": {}\".format(\"\")+\"\\n\")\n",
        "diff_df"
      ]
    },
    {
      "cell_type": "code",
      "execution_count": null,
      "metadata": {
        "id": "8WRH_KilHGRs"
      },
      "outputs": [],
      "source": [
        "# #@title 2つのnumpy配列の差を見やすくするためデータフレームに\n",
        "# difference_df = pd.DataFrame(difference_arr, columns = labels, index = labels)\n",
        "\n",
        "# # 50以上の値を黄色い文字で表示するスタイルを設定する関数を定義\n",
        "# def color_yellow(val):\n",
        "#     color = 'yellow' if val >= 50 else 'black'\n",
        "#     return 'color: %s' % color\n",
        "\n",
        "# # スタイルを適用して表示する\n",
        "# difference_df.style.applymap(color_yellow)"
      ]
    },
    {
      "cell_type": "code",
      "execution_count": null,
      "metadata": {
        "id": "5nPTzTotCaVU"
      },
      "outputs": [],
      "source": [
        "# 精度が上がれば、言えそうなことをいくつか列挙する（微々たる差かもしれない）\n"
      ]
    },
    {
      "attachments": {},
      "cell_type": "markdown",
      "metadata": {
        "id": "dkD1HF2vH3ES"
      },
      "source": [
        "<font color=\"#ffb738\">━</font><font color=\"#efc234\">━━</font><font color=\"#e3cb31\">━━━</font><font color=\"#d6d52d\">━━━━━</font><font color=\"#bde727\">━━━━━━</font><font color=\"#acf523\">━━━━━━━━</font>  \n",
        "# 9. 参考資料  \n",
        "<font color=\"#ffb738\">━</font><font color=\"#efc234\">━━</font><font color=\"#e3cb31\">━━━</font><font color=\"#d6d52d\">━━━━━</font><font color=\"#bde727\">━━━━━━</font><font color=\"#acf523\">━━━━━━━━</font>  \n"
      ]
    },
    {
      "attachments": {},
      "cell_type": "markdown",
      "metadata": {
        "id": "98MHYaN_q9hC"
      },
      "source": [
        "\n"
      ]
    }
  ],
  "metadata": {
    "celltoolbar": "Edit Metadata",
    "colab": {
      "provenance": []
    },
    "kernelspec": {
      "display_name": "Python 3",
      "language": "python",
      "name": "python3"
    },
    "language_info": {
      "codemirror_mode": {
        "name": "ipython",
        "version": 3
      },
      "file_extension": ".py",
      "mimetype": "text/x-python",
      "name": "python",
      "nbconvert_exporter": "python",
      "pygments_lexer": "ipython3",
      "version": "3.7.7"
    },
    "toc": {
      "base_numbering": 1,
      "nav_menu": {},
      "number_sections": true,
      "sideBar": true,
      "skip_h1_title": false,
      "title_cell": "Table of Contents",
      "title_sidebar": "Contents",
      "toc_cell": false,
      "toc_position": {},
      "toc_section_display": true,
      "toc_window_display": false
    }
  },
  "nbformat": 4,
  "nbformat_minor": 0
}
